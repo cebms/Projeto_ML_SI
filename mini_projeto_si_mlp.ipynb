{
  "cells": [
    {
      "cell_type": "markdown",
      "metadata": {
        "id": "tmfGy0hVlhys"
      },
      "source": [
        "<h1>Projeto MLP: Classificação de sintomas de dor nas costas 🤕</h1> \n",
        "\n",
        "<p>Este projeto é parte da disciplina de Sistemas Inteligentes. Nele trabalharemos com a base de dados \"Lower Back Pain Symptoms Dataset\" com o objetivo de classificar os dados utilizando uma MLP.</p>"
      ]
    },
    {
      "cell_type": "markdown",
      "metadata": {
        "id": "rhL96SfxrIqd"
      },
      "source": [
        "# Análise e tratamento de dados 🕵️"
      ]
    },
    {
      "cell_type": "markdown",
      "metadata": {
        "id": "vhDrociymhZz"
      },
      "source": [
        "Nesta sessão iremos analisar nossa base de dados, buscando entender seus atributos, analisar possíveis anomalias e definir dados de treino, validação e teste.\n",
        "\n",
        "Primeiramente vamos importar as bibliotecas necessárias sendo elas:\n",
        "- Numpy: Operações matemáticas;\n",
        "- Pandas: Manipulação de datasets;\n",
        "- Sklearn: Modelos de machine learning.\n",
        "- Seaborn/Matplotlib: Plotagem de gráficos"
      ]
    },
    {
      "cell_type": "code",
      "execution_count": 218,
      "metadata": {
        "id": "elZ6kDFhFIml"
      },
      "outputs": [],
      "source": [
        "# importando bibliotecas\n",
        "import numpy as np\n",
        "import pandas as pd\n",
        "import seaborn as sns\n",
        "import matplotlib.pyplot as plt\n",
        "from sklearn import metrics\n",
        "from sklearn.neural_network import MLPClassifier\n",
        "from sklearn.model_selection import train_test_split, KFold\n",
        "from sklearn.metrics import classification_report, ConfusionMatrixDisplay"
      ]
    },
    {
      "cell_type": "markdown",
      "metadata": {
        "id": "rrLeqYRfo_8S"
      },
      "source": [
        "Agora importamos a base de dados utilizando o pandas"
      ]
    },
    {
      "cell_type": "code",
      "execution_count": 219,
      "metadata": {
        "colab": {
          "base_uri": "https://localhost:8080/",
          "height": 206
        },
        "id": "p0oafFbBGRxk",
        "outputId": "f0037cf4-bea9-4f71-ab58-a073e5e7ae08"
      },
      "outputs": [
        {
          "data": {
            "text/html": [
              "<div>\n",
              "<style scoped>\n",
              "    .dataframe tbody tr th:only-of-type {\n",
              "        vertical-align: middle;\n",
              "    }\n",
              "\n",
              "    .dataframe tbody tr th {\n",
              "        vertical-align: top;\n",
              "    }\n",
              "\n",
              "    .dataframe thead th {\n",
              "        text-align: right;\n",
              "    }\n",
              "</style>\n",
              "<table border=\"1\" class=\"dataframe\">\n",
              "  <thead>\n",
              "    <tr style=\"text-align: right;\">\n",
              "      <th></th>\n",
              "      <th>Col1</th>\n",
              "      <th>Col2</th>\n",
              "      <th>Col3</th>\n",
              "      <th>Col4</th>\n",
              "      <th>Col5</th>\n",
              "      <th>Col6</th>\n",
              "      <th>Col7</th>\n",
              "      <th>Col8</th>\n",
              "      <th>Col9</th>\n",
              "      <th>Col10</th>\n",
              "      <th>Col11</th>\n",
              "      <th>Col12</th>\n",
              "      <th>Class_att</th>\n",
              "      <th>Unnamed: 13</th>\n",
              "    </tr>\n",
              "  </thead>\n",
              "  <tbody>\n",
              "    <tr>\n",
              "      <th>0</th>\n",
              "      <td>63.027817</td>\n",
              "      <td>22.552586</td>\n",
              "      <td>39.609117</td>\n",
              "      <td>40.475232</td>\n",
              "      <td>98.672917</td>\n",
              "      <td>-0.254400</td>\n",
              "      <td>0.744503</td>\n",
              "      <td>12.5661</td>\n",
              "      <td>14.5386</td>\n",
              "      <td>15.30468</td>\n",
              "      <td>-28.658501</td>\n",
              "      <td>43.5123</td>\n",
              "      <td>Abnormal</td>\n",
              "      <td>NaN</td>\n",
              "    </tr>\n",
              "    <tr>\n",
              "      <th>1</th>\n",
              "      <td>39.056951</td>\n",
              "      <td>10.060991</td>\n",
              "      <td>25.015378</td>\n",
              "      <td>28.995960</td>\n",
              "      <td>114.405425</td>\n",
              "      <td>4.564259</td>\n",
              "      <td>0.415186</td>\n",
              "      <td>12.8874</td>\n",
              "      <td>17.5323</td>\n",
              "      <td>16.78486</td>\n",
              "      <td>-25.530607</td>\n",
              "      <td>16.1102</td>\n",
              "      <td>Abnormal</td>\n",
              "      <td>NaN</td>\n",
              "    </tr>\n",
              "    <tr>\n",
              "      <th>2</th>\n",
              "      <td>68.832021</td>\n",
              "      <td>22.218482</td>\n",
              "      <td>50.092194</td>\n",
              "      <td>46.613539</td>\n",
              "      <td>105.985135</td>\n",
              "      <td>-3.530317</td>\n",
              "      <td>0.474889</td>\n",
              "      <td>26.8343</td>\n",
              "      <td>17.4861</td>\n",
              "      <td>16.65897</td>\n",
              "      <td>-29.031888</td>\n",
              "      <td>19.2221</td>\n",
              "      <td>Abnormal</td>\n",
              "      <td>Prediction is done by using binary classificat...</td>\n",
              "    </tr>\n",
              "    <tr>\n",
              "      <th>3</th>\n",
              "      <td>69.297008</td>\n",
              "      <td>24.652878</td>\n",
              "      <td>44.311238</td>\n",
              "      <td>44.644130</td>\n",
              "      <td>101.868495</td>\n",
              "      <td>11.211523</td>\n",
              "      <td>0.369345</td>\n",
              "      <td>23.5603</td>\n",
              "      <td>12.7074</td>\n",
              "      <td>11.42447</td>\n",
              "      <td>-30.470246</td>\n",
              "      <td>18.8329</td>\n",
              "      <td>Abnormal</td>\n",
              "      <td>NaN</td>\n",
              "    </tr>\n",
              "    <tr>\n",
              "      <th>4</th>\n",
              "      <td>49.712859</td>\n",
              "      <td>9.652075</td>\n",
              "      <td>28.317406</td>\n",
              "      <td>40.060784</td>\n",
              "      <td>108.168725</td>\n",
              "      <td>7.918501</td>\n",
              "      <td>0.543360</td>\n",
              "      <td>35.4940</td>\n",
              "      <td>15.9546</td>\n",
              "      <td>8.87237</td>\n",
              "      <td>-16.378376</td>\n",
              "      <td>24.9171</td>\n",
              "      <td>Abnormal</td>\n",
              "      <td>NaN</td>\n",
              "    </tr>\n",
              "  </tbody>\n",
              "</table>\n",
              "</div>"
            ],
            "text/plain": [
              "        Col1       Col2       Col3       Col4        Col5       Col6  \\\n",
              "0  63.027817  22.552586  39.609117  40.475232   98.672917  -0.254400   \n",
              "1  39.056951  10.060991  25.015378  28.995960  114.405425   4.564259   \n",
              "2  68.832021  22.218482  50.092194  46.613539  105.985135  -3.530317   \n",
              "3  69.297008  24.652878  44.311238  44.644130  101.868495  11.211523   \n",
              "4  49.712859   9.652075  28.317406  40.060784  108.168725   7.918501   \n",
              "\n",
              "       Col7     Col8     Col9     Col10      Col11    Col12 Class_att  \\\n",
              "0  0.744503  12.5661  14.5386  15.30468 -28.658501  43.5123  Abnormal   \n",
              "1  0.415186  12.8874  17.5323  16.78486 -25.530607  16.1102  Abnormal   \n",
              "2  0.474889  26.8343  17.4861  16.65897 -29.031888  19.2221  Abnormal   \n",
              "3  0.369345  23.5603  12.7074  11.42447 -30.470246  18.8329  Abnormal   \n",
              "4  0.543360  35.4940  15.9546   8.87237 -16.378376  24.9171  Abnormal   \n",
              "\n",
              "                                         Unnamed: 13  \n",
              "0                                                NaN  \n",
              "1                                                NaN  \n",
              "2  Prediction is done by using binary classificat...  \n",
              "3                                                NaN  \n",
              "4                                                NaN  "
            ]
          },
          "execution_count": 219,
          "metadata": {},
          "output_type": "execute_result"
        }
      ],
      "source": [
        "# Importando dados e visualizando algumas instâncias\n",
        "df = pd.read_csv('./Dataset_spine.csv')\n",
        "df.head()"
      ]
    },
    {
      "cell_type": "markdown",
      "metadata": {
        "id": "NURoDBl4nnLg"
      },
      "source": [
        "Como a coluna 'Unnamed:13' os rotúlos do dataset que não são útes para a classificação, então podemos remove-lá.\n",
        "\n",
        "Nesse momento também separamos os atributos utilizados no treino da classificação\n"
      ]
    },
    {
      "cell_type": "code",
      "execution_count": 220,
      "metadata": {
        "id": "_clblVHkHeud"
      },
      "outputs": [],
      "source": [
        "df = df.drop(['Unnamed: 13'], axis=1)\n",
        "y = df['Class_att']\n",
        "X = df.drop(['Class_att'], axis=1)"
      ]
    },
    {
      "cell_type": "markdown",
      "metadata": {
        "id": "G1bs1ZYIr3RE"
      },
      "source": [
        "Agora, verificamos se há dados faltantes em alguma das colunas"
      ]
    },
    {
      "cell_type": "code",
      "execution_count": 221,
      "metadata": {
        "colab": {
          "base_uri": "https://localhost:8080/"
        },
        "id": "oJrVuJ79tR-H",
        "outputId": "698f4b2c-3e1b-43d1-8e14-ccd08fbe6547"
      },
      "outputs": [
        {
          "name": "stdout",
          "output_type": "stream",
          "text": [
            "Col1         0\n",
            "Col2         0\n",
            "Col3         0\n",
            "Col4         0\n",
            "Col5         0\n",
            "Col6         0\n",
            "Col7         0\n",
            "Col8         0\n",
            "Col9         0\n",
            "Col10        0\n",
            "Col11        0\n",
            "Col12        0\n",
            "Class_att    0\n",
            "dtype: int64\n"
          ]
        }
      ],
      "source": [
        "print(df.isnull().sum())"
      ]
    },
    {
      "cell_type": "markdown",
      "metadata": {},
      "source": [
        " Como não encontramos nenhum NaN, podemos assumir que não há dados faltando em nenhuma das colunas, portanto não será necessário realizar tratamento para esses casos.\n",
        " Em seguida, vamos visualizar os outliers."
      ]
    },
    {
      "cell_type": "code",
      "execution_count": 222,
      "metadata": {},
      "outputs": [
        {
          "data": {
            "image/png": "[encoded data removed]",
            "text/plain": [
              "<Figure size 1200x800 with 12 Axes>"
            ]
          },
          "metadata": {},
          "output_type": "display_data"
        }
      ],
      "source": [
        "import matplotlib.pyplot as plt\n",
        "import seaborn as sns\n",
        "\n",
        "# Crie uma grade de subplots 3x4 (3 linhas e 4 colunas)\n",
        "fig, axes = plt.subplots(3, 4, figsize=(12, 8))\n",
        "\n",
        "# Itere pelas colunas e adicione os boxplots aos subplots\n",
        "for col in range(1, 13):\n",
        "    row = (col - 1) // 4  # Calcule a linha atual\n",
        "    col_idx = (col - 1) % 4  # Calcule a coluna atual\n",
        "    ax = axes[row, col_idx]  # Obtenha o subplot atual\n",
        "\n",
        "    sns.boxplot(df[f'Col{col}'], ax=ax)\n",
        "    ax.set_title(f'Box Plot da Coluna {col}')\n",
        "\n",
        "# Ajuste o layout\n",
        "plt.tight_layout()\n",
        "\n",
        "# Exiba o gráfico\n",
        "plt.show()"
      ]
    },
    {
      "cell_type": "markdown",
      "metadata": {},
      "source": [
        "posições do outlier (vamos usar?)"
      ]
    },
    {
      "cell_type": "code",
      "execution_count": 223,
      "metadata": {},
      "outputs": [
        {
          "name": "stdout",
          "output_type": "stream",
          "text": [
            "(array([ 85, 167, 180]),)\n"
          ]
        }
      ],
      "source": [
        "from scipy import stats\n",
        "z = np.abs(stats.zscore(df['Col5']))\n",
        "threshold = 3\n",
        "# Position of the outlier\n",
        "print(np.where(z > threshold))"
      ]
    },
    {
      "cell_type": "markdown",
      "metadata": {
        "id": "AL2sRiu6NHvE"
      },
      "source": [
        "\n",
        "# Primeiro Treino 💪"
      ]
    },
    {
      "cell_type": "code",
      "execution_count": 224,
      "metadata": {
        "id": "9Lr6LeUyH4sx"
      },
      "outputs": [],
      "source": [
        "X_train, X_test, y_train, y_test = train_test_split(X, y, train_size=0.8, shuffle=True)"
      ]
    },
    {
      "cell_type": "code",
      "execution_count": 225,
      "metadata": {
        "colab": {
          "base_uri": "https://localhost:8080/"
        },
        "id": "ULGoU6gaNQD3",
        "outputId": "2dbcd01f-bf6f-46b9-a570-1d3e4b3ca863"
      },
      "outputs": [
        {
          "data": {
            "text/plain": [
              "{'activation': 'relu',\n",
              " 'alpha': 0.0001,\n",
              " 'batch_size': 'auto',\n",
              " 'beta_1': 0.9,\n",
              " 'beta_2': 0.999,\n",
              " 'early_stopping': False,\n",
              " 'epsilon': 1e-08,\n",
              " 'hidden_layer_sizes': (100,),\n",
              " 'learning_rate': 'constant',\n",
              " 'learning_rate_init': 0.001,\n",
              " 'max_fun': 15000,\n",
              " 'max_iter': 200,\n",
              " 'momentum': 0.9,\n",
              " 'n_iter_no_change': 10,\n",
              " 'nesterovs_momentum': True,\n",
              " 'power_t': 0.5,\n",
              " 'random_state': None,\n",
              " 'shuffle': True,\n",
              " 'solver': 'adam',\n",
              " 'tol': 0.0001,\n",
              " 'validation_fraction': 0.1,\n",
              " 'verbose': True,\n",
              " 'warm_start': False}"
            ]
          },
          "execution_count": 225,
          "metadata": {},
          "output_type": "execute_result"
        }
      ],
      "source": [
        "model = MLPClassifier(verbose=True, max_iter=200)\n",
        "model.get_params()"
      ]
    },
    {
      "cell_type": "code",
      "execution_count": 226,
      "metadata": {
        "colab": {
          "base_uri": "https://localhost:8080/",
          "height": 1000
        },
        "id": "FoAyj4BxNMEx",
        "outputId": "5353a4e0-38c4-43bb-a67a-e39239f7dcbe"
      },
      "outputs": [
        {
          "name": "stdout",
          "output_type": "stream",
          "text": [
            "Iteration 1, loss = 1.91166489\n",
            "Iteration 2, loss = 1.26469508\n",
            "Iteration 3, loss = 1.47823380\n",
            "Iteration 4, loss = 1.22159684\n",
            "Iteration 5, loss = 0.89740632\n",
            "Iteration 6, loss = 0.82750354\n",
            "Iteration 7, loss = 0.82655075\n",
            "Iteration 8, loss = 0.70372780\n",
            "Iteration 9, loss = 0.61439480\n",
            "Iteration 10, loss = 0.62335421\n",
            "Iteration 11, loss = 0.60770848\n",
            "Iteration 12, loss = 0.53938021\n",
            "Iteration 13, loss = 0.49452325\n",
            "Iteration 14, loss = 0.48414946\n",
            "Iteration 15, loss = 0.45476954\n",
            "Iteration 16, loss = 0.42466835\n",
            "Iteration 17, loss = 0.44170719\n",
            "Iteration 18, loss = 0.44027499\n",
            "Iteration 19, loss = 0.39985694\n",
            "Iteration 20, loss = 0.38553824\n",
            "Iteration 21, loss = 0.38188021\n",
            "Iteration 22, loss = 0.36989048\n",
            "Iteration 23, loss = 0.36485139\n",
            "Iteration 24, loss = 0.37178372\n",
            "Iteration 25, loss = 0.36671719\n",
            "Iteration 26, loss = 0.35450509\n",
            "Iteration 27, loss = 0.34877407\n",
            "Iteration 28, loss = 0.34746980\n",
            "Iteration 29, loss = 0.34362909\n",
            "Iteration 30, loss = 0.34059096\n",
            "Iteration 31, loss = 0.33592246\n",
            "Iteration 32, loss = 0.33498930\n",
            "Iteration 33, loss = 0.33267542\n",
            "Iteration 34, loss = 0.33040180\n",
            "Iteration 35, loss = 0.32691238\n",
            "Iteration 36, loss = 0.32556491\n",
            "Iteration 37, loss = 0.32252122\n",
            "Iteration 38, loss = 0.32086105\n",
            "Iteration 39, loss = 0.31920414\n",
            "Iteration 40, loss = 0.31882769\n",
            "Iteration 41, loss = 0.31600977\n",
            "Iteration 42, loss = 0.31367822\n",
            "Iteration 43, loss = 0.31043373\n",
            "Iteration 44, loss = 0.31488032\n",
            "Iteration 45, loss = 0.31066368\n",
            "Iteration 46, loss = 0.31198608\n",
            "Iteration 47, loss = 0.30914348\n",
            "Iteration 48, loss = 0.30621463\n",
            "Iteration 49, loss = 0.30387264\n",
            "Iteration 50, loss = 0.30213362\n",
            "Iteration 51, loss = 0.30068418\n",
            "Iteration 52, loss = 0.29862817\n",
            "Iteration 53, loss = 0.30125953\n",
            "Iteration 54, loss = 0.29687301\n",
            "Iteration 55, loss = 0.30153973\n",
            "Iteration 56, loss = 0.30463895\n",
            "Iteration 57, loss = 0.29911515\n",
            "Iteration 58, loss = 0.29826166\n",
            "Iteration 59, loss = 0.29544782\n",
            "Iteration 60, loss = 0.29547693\n",
            "Iteration 61, loss = 0.29355186\n",
            "Iteration 62, loss = 0.29255040\n",
            "Iteration 63, loss = 0.29397954\n",
            "Iteration 64, loss = 0.29049569\n",
            "Iteration 65, loss = 0.28888612\n",
            "Iteration 66, loss = 0.29431611\n",
            "Iteration 67, loss = 0.28861037\n",
            "Iteration 68, loss = 0.29306242\n",
            "Iteration 69, loss = 0.29040328\n",
            "Iteration 70, loss = 0.28788514\n",
            "Iteration 71, loss = 0.30556799\n",
            "Iteration 72, loss = 0.28722240\n",
            "Iteration 73, loss = 0.28934193\n",
            "Iteration 74, loss = 0.32802152\n",
            "Iteration 75, loss = 0.27951276\n",
            "Iteration 76, loss = 0.33015326\n",
            "Iteration 77, loss = 0.32088197\n",
            "Iteration 78, loss = 0.28193164\n",
            "Iteration 79, loss = 0.34073517\n",
            "Iteration 80, loss = 0.30191508\n",
            "Iteration 81, loss = 0.29107332\n",
            "Iteration 82, loss = 0.29295600\n",
            "Iteration 83, loss = 0.27986603\n",
            "Iteration 84, loss = 0.27904932\n",
            "Iteration 85, loss = 0.27903567\n",
            "Iteration 86, loss = 0.27775791\n",
            "Iteration 87, loss = 0.27741169\n",
            "Iteration 88, loss = 0.27502571\n",
            "Iteration 89, loss = 0.27426621\n",
            "Iteration 90, loss = 0.27359716\n",
            "Iteration 91, loss = 0.27359452\n",
            "Iteration 92, loss = 0.27504546\n",
            "Iteration 93, loss = 0.27434393\n",
            "Iteration 94, loss = 0.27185603\n",
            "Iteration 95, loss = 0.26990595\n",
            "Iteration 96, loss = 0.27578158\n",
            "Iteration 97, loss = 0.27750343\n",
            "Iteration 98, loss = 0.27035749\n",
            "Iteration 99, loss = 0.27329790\n",
            "Iteration 100, loss = 0.27019534\n",
            "Iteration 101, loss = 0.27186765\n",
            "Iteration 102, loss = 0.27172354\n",
            "Iteration 103, loss = 0.26757052\n",
            "Iteration 104, loss = 0.26681318\n",
            "Iteration 105, loss = 0.26522114\n",
            "Iteration 106, loss = 0.26583336\n",
            "Iteration 107, loss = 0.27069931\n",
            "Iteration 108, loss = 0.26324586\n",
            "Iteration 109, loss = 0.27523296\n",
            "Iteration 110, loss = 0.27099479\n",
            "Iteration 111, loss = 0.26904685\n",
            "Iteration 112, loss = 0.27015289\n",
            "Iteration 113, loss = 0.26439908\n",
            "Iteration 114, loss = 0.26215353\n",
            "Iteration 115, loss = 0.26146297\n",
            "Iteration 116, loss = 0.25941389\n",
            "Iteration 117, loss = 0.26554392\n",
            "Iteration 118, loss = 0.26093360\n",
            "Iteration 119, loss = 0.26635069\n",
            "Iteration 120, loss = 0.25957785\n",
            "Iteration 121, loss = 0.26498281\n",
            "Iteration 122, loss = 0.25879832\n",
            "Iteration 123, loss = 0.26179302\n",
            "Iteration 124, loss = 0.26467500\n",
            "Iteration 125, loss = 0.25541920\n",
            "Iteration 126, loss = 0.26805731\n",
            "Iteration 127, loss = 0.26381472\n",
            "Iteration 128, loss = 0.25675514\n",
            "Iteration 129, loss = 0.27404936\n",
            "Iteration 130, loss = 0.26378436\n",
            "Iteration 131, loss = 0.25660225\n",
            "Iteration 132, loss = 0.26224068\n",
            "Iteration 133, loss = 0.25838988\n",
            "Iteration 134, loss = 0.25343719\n",
            "Iteration 135, loss = 0.25368410\n",
            "Iteration 136, loss = 0.25260553\n",
            "Iteration 137, loss = 0.25505598\n",
            "Iteration 138, loss = 0.24951480\n",
            "Iteration 139, loss = 0.26873682\n",
            "Iteration 140, loss = 0.26747323\n",
            "Iteration 141, loss = 0.25524382\n",
            "Iteration 142, loss = 0.25280661\n",
            "Iteration 143, loss = 0.25636059\n",
            "Iteration 144, loss = 0.24980256\n",
            "Iteration 145, loss = 0.25621708\n",
            "Iteration 146, loss = 0.25062772\n",
            "Iteration 147, loss = 0.25228021\n",
            "Iteration 148, loss = 0.26017832\n",
            "Iteration 149, loss = 0.25244313\n",
            "Training loss did not improve more than tol=0.000100 for 10 consecutive epochs. Stopping.\n"
          ]
        },
        {
          "data": {
            "text/html": [
              "<style>#sk-container-id-15 {color: black;background-color: white;}#sk-container-id-15 pre{padding: 0;}#sk-container-id-15 div.sk-toggleable {background-color: white;}#sk-container-id-15 label.sk-toggleable__label {cursor: pointer;display: block;width: 100%;margin-bottom: 0;padding: 0.3em;box-sizing: border-box;text-align: center;}#sk-container-id-15 label.sk-toggleable__label-arrow:before {content: \"▸\";float: left;margin-right: 0.25em;color: #696969;}#sk-container-id-15 label.sk-toggleable__label-arrow:hover:before {color: black;}#sk-container-id-15 div.sk-estimator:hover label.sk-toggleable__label-arrow:before {color: black;}#sk-container-id-15 div.sk-toggleable__content {max-height: 0;max-width: 0;overflow: hidden;text-align: left;background-color: #f0f8ff;}#sk-container-id-15 div.sk-toggleable__content pre {margin: 0.2em;color: black;border-radius: 0.25em;background-color: #f0f8ff;}#sk-container-id-15 input.sk-toggleable__control:checked~div.sk-toggleable__content {max-height: 200px;max-width: 100%;overflow: auto;}#sk-container-id-15 input.sk-toggleable__control:checked~label.sk-toggleable__label-arrow:before {content: \"▾\";}#sk-container-id-15 div.sk-estimator input.sk-toggleable__control:checked~label.sk-toggleable__label {background-color: #d4ebff;}#sk-container-id-15 div.sk-label input.sk-toggleable__control:checked~label.sk-toggleable__label {background-color: #d4ebff;}#sk-container-id-15 input.sk-hidden--visually {border: 0;clip: rect(1px 1px 1px 1px);clip: rect(1px, 1px, 1px, 1px);height: 1px;margin: -1px;overflow: hidden;padding: 0;position: absolute;width: 1px;}#sk-container-id-15 div.sk-estimator {font-family: monospace;background-color: #f0f8ff;border: 1px dotted black;border-radius: 0.25em;box-sizing: border-box;margin-bottom: 0.5em;}#sk-container-id-15 div.sk-estimator:hover {background-color: #d4ebff;}#sk-container-id-15 div.sk-parallel-item::after {content: \"\";width: 100%;border-bottom: 1px solid gray;flex-grow: 1;}#sk-container-id-15 div.sk-label:hover label.sk-toggleable__label {background-color: #d4ebff;}#sk-container-id-15 div.sk-serial::before {content: \"\";position: absolute;border-left: 1px solid gray;box-sizing: border-box;top: 0;bottom: 0;left: 50%;z-index: 0;}#sk-container-id-15 div.sk-serial {display: flex;flex-direction: column;align-items: center;background-color: white;padding-right: 0.2em;padding-left: 0.2em;position: relative;}#sk-container-id-15 div.sk-item {position: relative;z-index: 1;}#sk-container-id-15 div.sk-parallel {display: flex;align-items: stretch;justify-content: center;background-color: white;position: relative;}#sk-container-id-15 div.sk-item::before, #sk-container-id-15 div.sk-parallel-item::before {content: \"\";position: absolute;border-left: 1px solid gray;box-sizing: border-box;top: 0;bottom: 0;left: 50%;z-index: -1;}#sk-container-id-15 div.sk-parallel-item {display: flex;flex-direction: column;z-index: 1;position: relative;background-color: white;}#sk-container-id-15 div.sk-parallel-item:first-child::after {align-self: flex-end;width: 50%;}#sk-container-id-15 div.sk-parallel-item:last-child::after {align-self: flex-start;width: 50%;}#sk-container-id-15 div.sk-parallel-item:only-child::after {width: 0;}#sk-container-id-15 div.sk-dashed-wrapped {border: 1px dashed gray;margin: 0 0.4em 0.5em 0.4em;box-sizing: border-box;padding-bottom: 0.4em;background-color: white;}#sk-container-id-15 div.sk-label label {font-family: monospace;font-weight: bold;display: inline-block;line-height: 1.2em;}#sk-container-id-15 div.sk-label-container {text-align: center;}#sk-container-id-15 div.sk-container {/* jupyter's `normalize.less` sets `[hidden] { display: none; }` but bootstrap.min.css set `[hidden] { display: none !important; }` so we also need the `!important` here to be able to override the default hidden behavior on the sphinx rendered scikit-learn.org. See: https://github.com/scikit-learn/scikit-learn/issues/21755 */display: inline-block !important;position: relative;}#sk-container-id-15 div.sk-text-repr-fallback {display: none;}</style><div id=\"sk-container-id-15\" class=\"sk-top-container\"><div class=\"sk-text-repr-fallback\"><pre>MLPClassifier(verbose=True)</pre><b>In a Jupyter environment, please rerun this cell to show the HTML representation or trust the notebook. <br />On GitHub, the HTML representation is unable to render, please try loading this page with nbviewer.org.</b></div><div class=\"sk-container\" hidden><div class=\"sk-item\"><div class=\"sk-estimator sk-toggleable\"><input class=\"sk-toggleable__control sk-hidden--visually\" id=\"sk-estimator-id-15\" type=\"checkbox\" checked><label for=\"sk-estimator-id-15\" class=\"sk-toggleable__label sk-toggleable__label-arrow\">MLPClassifier</label><div class=\"sk-toggleable__content\"><pre>MLPClassifier(verbose=True)</pre></div></div></div></div></div>"
            ],
            "text/plain": [
              "MLPClassifier(verbose=True)"
            ]
          },
          "execution_count": 226,
          "metadata": {},
          "output_type": "execute_result"
        }
      ],
      "source": [
        "model.fit(X_train, y_train)"
      ]
    },
    {
      "cell_type": "code",
      "execution_count": 227,
      "metadata": {
        "id": "NGY4UvLlNSfX"
      },
      "outputs": [],
      "source": [
        "y_pred = model.predict(X_test)"
      ]
    },
    {
      "cell_type": "code",
      "execution_count": 228,
      "metadata": {},
      "outputs": [
        {
          "data": {
            "text/plain": [
              "0.8870967741935484"
            ]
          },
          "execution_count": 228,
          "metadata": {},
          "output_type": "execute_result"
        }
      ],
      "source": [
        "model.score(X_test, y_test)"
      ]
    },
    {
      "cell_type": "code",
      "execution_count": 229,
      "metadata": {
        "colab": {
          "base_uri": "https://localhost:8080/"
        },
        "id": "Nyy4Jy14NV0G",
        "outputId": "a0447dea-7ee8-4b97-dd24-0ff336517526"
      },
      "outputs": [
        {
          "name": "stdout",
          "output_type": "stream",
          "text": [
            "              precision    recall  f1-score   support\n",
            "\n",
            "    Abnormal       0.93      0.90      0.92        42\n",
            "      Normal       0.81      0.85      0.83        20\n",
            "\n",
            "    accuracy                           0.89        62\n",
            "   macro avg       0.87      0.88      0.87        62\n",
            "weighted avg       0.89      0.89      0.89        62\n",
            "\n"
          ]
        }
      ],
      "source": [
        "print(classification_report(y_test, y_pred))"
      ]
    },
    {
      "cell_type": "code",
      "execution_count": 230,
      "metadata": {},
      "outputs": [
        {
          "data": {
            "image/png": "[encoded data removed]",
            "text/plain": [
              "<Figure size 640x480 with 2 Axes>"
            ]
          },
          "metadata": {},
          "output_type": "display_data"
        }
      ],
      "source": [
        "ConfusionMatrixDisplay.from_estimator(model, X_test, y_test)\n",
        "plt.show()"
      ]
    },
    {
      "cell_type": "code",
      "execution_count": 231,
      "metadata": {},
      "outputs": [
        {
          "data": {
            "text/plain": [
              "Abnormal    168\n",
              "Normal       80\n",
              "Name: Class_att, dtype: int64"
            ]
          },
          "execution_count": 231,
          "metadata": {},
          "output_type": "execute_result"
        }
      ],
      "source": [
        "y_train.value_counts()"
      ]
    },
    {
      "cell_type": "code",
      "execution_count": 232,
      "metadata": {},
      "outputs": [],
      "source": [
        "from imblearn.over_sampling import SMOTE\n",
        "smote = SMOTE(sampling_strategy='auto', random_state=42)  # Pode ajustar a estratégia de amostragem conforme necessário\n",
        "X_train_resampled, y_train_resampled = smote.fit_resample(X_train, y_train)"
      ]
    },
    {
      "cell_type": "code",
      "execution_count": 233,
      "metadata": {},
      "outputs": [
        {
          "data": {
            "text/plain": [
              "{'activation': 'relu',\n",
              " 'alpha': 0.0001,\n",
              " 'batch_size': 'auto',\n",
              " 'beta_1': 0.9,\n",
              " 'beta_2': 0.999,\n",
              " 'early_stopping': False,\n",
              " 'epsilon': 1e-08,\n",
              " 'hidden_layer_sizes': (100,),\n",
              " 'learning_rate': 'constant',\n",
              " 'learning_rate_init': 0.001,\n",
              " 'max_fun': 15000,\n",
              " 'max_iter': 200,\n",
              " 'momentum': 0.9,\n",
              " 'n_iter_no_change': 10,\n",
              " 'nesterovs_momentum': True,\n",
              " 'power_t': 0.5,\n",
              " 'random_state': None,\n",
              " 'shuffle': True,\n",
              " 'solver': 'adam',\n",
              " 'tol': 0.0001,\n",
              " 'validation_fraction': 0.1,\n",
              " 'verbose': True,\n",
              " 'warm_start': False}"
            ]
          },
          "execution_count": 233,
          "metadata": {},
          "output_type": "execute_result"
        }
      ],
      "source": [
        "model = MLPClassifier(verbose=True, max_iter=200)\n",
        "model.get_params()"
      ]
    },
    {
      "cell_type": "code",
      "execution_count": 234,
      "metadata": {},
      "outputs": [
        {
          "name": "stdout",
          "output_type": "stream",
          "text": [
            "Iteration 1, loss = 3.25517348\n",
            "Iteration 2, loss = 1.68906978\n",
            "Iteration 3, loss = 1.97770103\n",
            "Iteration 4, loss = 1.49262271\n",
            "Iteration 5, loss = 0.93380552\n",
            "Iteration 6, loss = 0.94434971\n",
            "Iteration 7, loss = 1.01008713\n",
            "Iteration 8, loss = 0.86778464\n",
            "Iteration 9, loss = 0.70369544\n",
            "Iteration 10, loss = 0.66835399\n",
            "Iteration 11, loss = 0.69460647\n",
            "Iteration 12, loss = 0.66103946\n",
            "Iteration 13, loss = 0.56668838\n",
            "Iteration 14, loss = 0.51490818\n",
            "Iteration 15, loss = 0.52612837\n",
            "Iteration 16, loss = 0.51567244\n",
            "Iteration 17, loss = 0.47152103\n",
            "Iteration 18, loss = 0.43538967\n",
            "Iteration 19, loss = 0.44135662\n",
            "Iteration 20, loss = 0.43482770\n",
            "Iteration 21, loss = 0.41315606\n",
            "Iteration 22, loss = 0.40886710\n",
            "Iteration 23, loss = 0.40861482\n",
            "Iteration 24, loss = 0.39564215\n",
            "Iteration 25, loss = 0.38813496\n",
            "Iteration 26, loss = 0.38638160\n",
            "Iteration 27, loss = 0.38115681\n",
            "Iteration 28, loss = 0.37344653\n",
            "Iteration 29, loss = 0.36917532\n",
            "Iteration 30, loss = 0.36717295\n",
            "Iteration 31, loss = 0.36414390\n",
            "Iteration 32, loss = 0.35876146\n",
            "Iteration 33, loss = 0.35499421\n",
            "Iteration 34, loss = 0.35243828\n",
            "Iteration 35, loss = 0.34837250\n",
            "Iteration 36, loss = 0.34576502\n",
            "Iteration 37, loss = 0.34292454\n",
            "Iteration 38, loss = 0.34010080\n",
            "Iteration 39, loss = 0.33723359\n",
            "Iteration 40, loss = 0.33496424\n",
            "Iteration 41, loss = 0.33255288\n",
            "Iteration 42, loss = 0.33167445\n",
            "Iteration 43, loss = 0.32732580\n",
            "Iteration 44, loss = 0.32580971\n",
            "Iteration 45, loss = 0.32281981\n",
            "Iteration 46, loss = 0.31916320\n",
            "Iteration 47, loss = 0.31901293\n",
            "Iteration 48, loss = 0.31576137\n",
            "Iteration 49, loss = 0.31214491\n",
            "Iteration 50, loss = 0.31178249\n",
            "Iteration 51, loss = 0.31066074\n",
            "Iteration 52, loss = 0.30748862\n",
            "Iteration 53, loss = 0.30708384\n",
            "Iteration 54, loss = 0.30680769\n",
            "Iteration 55, loss = 0.30325968\n",
            "Iteration 56, loss = 0.30405531\n",
            "Iteration 57, loss = 0.30170438\n",
            "Iteration 58, loss = 0.29843576\n",
            "Iteration 59, loss = 0.30047034\n",
            "Iteration 60, loss = 0.30006984\n",
            "Iteration 61, loss = 0.29613918\n",
            "Iteration 62, loss = 0.29526117\n",
            "Iteration 63, loss = 0.29317467\n",
            "Iteration 64, loss = 0.29232259\n",
            "Iteration 65, loss = 0.29122744\n",
            "Iteration 66, loss = 0.28918887\n",
            "Iteration 67, loss = 0.29001418\n",
            "Iteration 68, loss = 0.28707286\n",
            "Iteration 69, loss = 0.28656781\n",
            "Iteration 70, loss = 0.28561178\n",
            "Iteration 71, loss = 0.28443490\n",
            "Iteration 72, loss = 0.28445390\n",
            "Iteration 73, loss = 0.28218845\n",
            "Iteration 74, loss = 0.28452646\n",
            "Iteration 75, loss = 0.28056045\n",
            "Iteration 76, loss = 0.28131745\n",
            "Iteration 77, loss = 0.28102428\n",
            "Iteration 78, loss = 0.27773876\n",
            "Iteration 79, loss = 0.27839163\n",
            "Iteration 80, loss = 0.27747871\n",
            "Iteration 81, loss = 0.27906814\n",
            "Iteration 82, loss = 0.27624664\n",
            "Iteration 83, loss = 0.27420828\n",
            "Iteration 84, loss = 0.27371336\n",
            "Iteration 85, loss = 0.27320336\n",
            "Iteration 86, loss = 0.27218939\n",
            "Iteration 87, loss = 0.27128182\n",
            "Iteration 88, loss = 0.27119717\n",
            "Iteration 89, loss = 0.26983206\n",
            "Iteration 90, loss = 0.26961046\n",
            "Iteration 91, loss = 0.26919276\n",
            "Iteration 92, loss = 0.27043347\n",
            "Iteration 93, loss = 0.26794691\n",
            "Iteration 94, loss = 0.26871254\n",
            "Iteration 95, loss = 0.26638663\n",
            "Iteration 96, loss = 0.26791120\n",
            "Iteration 97, loss = 0.26676547\n",
            "Iteration 98, loss = 0.26557700\n",
            "Iteration 99, loss = 0.26450701\n",
            "Iteration 100, loss = 0.26342686\n",
            "Iteration 101, loss = 0.26419513\n",
            "Iteration 102, loss = 0.26182381\n",
            "Iteration 103, loss = 0.26345383\n",
            "Iteration 104, loss = 0.26278434\n",
            "Iteration 105, loss = 0.26097298\n",
            "Iteration 106, loss = 0.26072243\n",
            "Iteration 107, loss = 0.25926097\n",
            "Iteration 108, loss = 0.26028248\n",
            "Iteration 109, loss = 0.25929324\n",
            "Iteration 110, loss = 0.25899549\n",
            "Iteration 111, loss = 0.25704483\n",
            "Iteration 112, loss = 0.25810707\n",
            "Iteration 113, loss = 0.25788631\n",
            "Iteration 114, loss = 0.25735125\n",
            "Iteration 115, loss = 0.25725469\n",
            "Iteration 116, loss = 0.25523958\n",
            "Iteration 117, loss = 0.25415689\n",
            "Iteration 118, loss = 0.25388756\n",
            "Iteration 119, loss = 0.25357105\n",
            "Iteration 120, loss = 0.25387139\n",
            "Iteration 121, loss = 0.25302336\n",
            "Iteration 122, loss = 0.25412598\n",
            "Iteration 123, loss = 0.25567333\n",
            "Iteration 124, loss = 0.25084450\n",
            "Iteration 125, loss = 0.25037172\n",
            "Iteration 126, loss = 0.24990310\n",
            "Iteration 127, loss = 0.25156857\n",
            "Iteration 128, loss = 0.24855992\n",
            "Iteration 129, loss = 0.24948847\n",
            "Iteration 130, loss = 0.24784385\n",
            "Iteration 131, loss = 0.24856942\n",
            "Iteration 132, loss = 0.24978989\n",
            "Iteration 133, loss = 0.24881791\n",
            "Iteration 134, loss = 0.25073410\n",
            "Iteration 135, loss = 0.24611827\n",
            "Iteration 136, loss = 0.24831086\n",
            "Iteration 137, loss = 0.24359998\n",
            "Iteration 138, loss = 0.24852469\n",
            "Iteration 139, loss = 0.24665513\n",
            "Iteration 140, loss = 0.24442666\n",
            "Iteration 141, loss = 0.24370260\n",
            "Iteration 142, loss = 0.24229843\n",
            "Iteration 143, loss = 0.24369078\n",
            "Iteration 144, loss = 0.24538570\n",
            "Iteration 145, loss = 0.24243970\n",
            "Iteration 146, loss = 0.24110329\n",
            "Iteration 147, loss = 0.23966418\n",
            "Iteration 148, loss = 0.24038580\n",
            "Iteration 149, loss = 0.23973062\n",
            "Iteration 150, loss = 0.23954098\n",
            "Iteration 151, loss = 0.23802349\n",
            "Iteration 152, loss = 0.24250286\n",
            "Iteration 153, loss = 0.23700315\n",
            "Iteration 154, loss = 0.24005923\n",
            "Iteration 155, loss = 0.23671727\n",
            "Iteration 156, loss = 0.23765146\n",
            "Iteration 157, loss = 0.23972375\n",
            "Iteration 158, loss = 0.23541112\n",
            "Iteration 159, loss = 0.23903360\n",
            "Iteration 160, loss = 0.23440109\n",
            "Iteration 161, loss = 0.23672823\n",
            "Iteration 162, loss = 0.23607446\n",
            "Iteration 163, loss = 0.23415067\n",
            "Iteration 164, loss = 0.23328831\n",
            "Iteration 165, loss = 0.23916427\n",
            "Iteration 166, loss = 0.23126207\n",
            "Iteration 167, loss = 0.23494496\n",
            "Iteration 168, loss = 0.23405578\n",
            "Iteration 169, loss = 0.23293929\n",
            "Iteration 170, loss = 0.23319926\n",
            "Iteration 171, loss = 0.23694430\n",
            "Iteration 172, loss = 0.23318862\n",
            "Iteration 173, loss = 0.23088404\n",
            "Iteration 174, loss = 0.22839552\n",
            "Iteration 175, loss = 0.23039242\n",
            "Iteration 176, loss = 0.22976681\n",
            "Iteration 177, loss = 0.22859425\n",
            "Iteration 178, loss = 0.22723186\n",
            "Iteration 179, loss = 0.22684781\n",
            "Iteration 180, loss = 0.22699899\n",
            "Iteration 181, loss = 0.22637109\n",
            "Iteration 182, loss = 0.22657391\n",
            "Iteration 183, loss = 0.22549039\n",
            "Iteration 184, loss = 0.22823291\n",
            "Iteration 185, loss = 0.22556059\n",
            "Iteration 186, loss = 0.22734118\n",
            "Iteration 187, loss = 0.22432333\n",
            "Iteration 188, loss = 0.22527959\n",
            "Iteration 189, loss = 0.22578630\n",
            "Iteration 190, loss = 0.22387366\n",
            "Iteration 191, loss = 0.22256090\n",
            "Iteration 192, loss = 0.22295487\n",
            "Iteration 193, loss = 0.22243440\n",
            "Iteration 194, loss = 0.22214183\n",
            "Iteration 195, loss = 0.22110715\n",
            "Iteration 196, loss = 0.22114473\n",
            "Iteration 197, loss = 0.22072910\n",
            "Iteration 198, loss = 0.22055108\n",
            "Iteration 199, loss = 0.21986418\n",
            "Iteration 200, loss = 0.21972972\n"
          ]
        },
        {
          "name": "stderr",
          "output_type": "stream",
          "text": [
            "/home/cadu/anaconda3/lib/python3.11/site-packages/sklearn/neural_network/_multilayer_perceptron.py:686: ConvergenceWarning: Stochastic Optimizer: Maximum iterations (200) reached and the optimization hasn't converged yet.\n",
            "  warnings.warn(\n"
          ]
        },
        {
          "data": {
            "text/html": [
              "<style>#sk-container-id-16 {color: black;background-color: white;}#sk-container-id-16 pre{padding: 0;}#sk-container-id-16 div.sk-toggleable {background-color: white;}#sk-container-id-16 label.sk-toggleable__label {cursor: pointer;display: block;width: 100%;margin-bottom: 0;padding: 0.3em;box-sizing: border-box;text-align: center;}#sk-container-id-16 label.sk-toggleable__label-arrow:before {content: \"▸\";float: left;margin-right: 0.25em;color: #696969;}#sk-container-id-16 label.sk-toggleable__label-arrow:hover:before {color: black;}#sk-container-id-16 div.sk-estimator:hover label.sk-toggleable__label-arrow:before {color: black;}#sk-container-id-16 div.sk-toggleable__content {max-height: 0;max-width: 0;overflow: hidden;text-align: left;background-color: #f0f8ff;}#sk-container-id-16 div.sk-toggleable__content pre {margin: 0.2em;color: black;border-radius: 0.25em;background-color: #f0f8ff;}#sk-container-id-16 input.sk-toggleable__control:checked~div.sk-toggleable__content {max-height: 200px;max-width: 100%;overflow: auto;}#sk-container-id-16 input.sk-toggleable__control:checked~label.sk-toggleable__label-arrow:before {content: \"▾\";}#sk-container-id-16 div.sk-estimator input.sk-toggleable__control:checked~label.sk-toggleable__label {background-color: #d4ebff;}#sk-container-id-16 div.sk-label input.sk-toggleable__control:checked~label.sk-toggleable__label {background-color: #d4ebff;}#sk-container-id-16 input.sk-hidden--visually {border: 0;clip: rect(1px 1px 1px 1px);clip: rect(1px, 1px, 1px, 1px);height: 1px;margin: -1px;overflow: hidden;padding: 0;position: absolute;width: 1px;}#sk-container-id-16 div.sk-estimator {font-family: monospace;background-color: #f0f8ff;border: 1px dotted black;border-radius: 0.25em;box-sizing: border-box;margin-bottom: 0.5em;}#sk-container-id-16 div.sk-estimator:hover {background-color: #d4ebff;}#sk-container-id-16 div.sk-parallel-item::after {content: \"\";width: 100%;border-bottom: 1px solid gray;flex-grow: 1;}#sk-container-id-16 div.sk-label:hover label.sk-toggleable__label {background-color: #d4ebff;}#sk-container-id-16 div.sk-serial::before {content: \"\";position: absolute;border-left: 1px solid gray;box-sizing: border-box;top: 0;bottom: 0;left: 50%;z-index: 0;}#sk-container-id-16 div.sk-serial {display: flex;flex-direction: column;align-items: center;background-color: white;padding-right: 0.2em;padding-left: 0.2em;position: relative;}#sk-container-id-16 div.sk-item {position: relative;z-index: 1;}#sk-container-id-16 div.sk-parallel {display: flex;align-items: stretch;justify-content: center;background-color: white;position: relative;}#sk-container-id-16 div.sk-item::before, #sk-container-id-16 div.sk-parallel-item::before {content: \"\";position: absolute;border-left: 1px solid gray;box-sizing: border-box;top: 0;bottom: 0;left: 50%;z-index: -1;}#sk-container-id-16 div.sk-parallel-item {display: flex;flex-direction: column;z-index: 1;position: relative;background-color: white;}#sk-container-id-16 div.sk-parallel-item:first-child::after {align-self: flex-end;width: 50%;}#sk-container-id-16 div.sk-parallel-item:last-child::after {align-self: flex-start;width: 50%;}#sk-container-id-16 div.sk-parallel-item:only-child::after {width: 0;}#sk-container-id-16 div.sk-dashed-wrapped {border: 1px dashed gray;margin: 0 0.4em 0.5em 0.4em;box-sizing: border-box;padding-bottom: 0.4em;background-color: white;}#sk-container-id-16 div.sk-label label {font-family: monospace;font-weight: bold;display: inline-block;line-height: 1.2em;}#sk-container-id-16 div.sk-label-container {text-align: center;}#sk-container-id-16 div.sk-container {/* jupyter's `normalize.less` sets `[hidden] { display: none; }` but bootstrap.min.css set `[hidden] { display: none !important; }` so we also need the `!important` here to be able to override the default hidden behavior on the sphinx rendered scikit-learn.org. See: https://github.com/scikit-learn/scikit-learn/issues/21755 */display: inline-block !important;position: relative;}#sk-container-id-16 div.sk-text-repr-fallback {display: none;}</style><div id=\"sk-container-id-16\" class=\"sk-top-container\"><div class=\"sk-text-repr-fallback\"><pre>MLPClassifier(verbose=True)</pre><b>In a Jupyter environment, please rerun this cell to show the HTML representation or trust the notebook. <br />On GitHub, the HTML representation is unable to render, please try loading this page with nbviewer.org.</b></div><div class=\"sk-container\" hidden><div class=\"sk-item\"><div class=\"sk-estimator sk-toggleable\"><input class=\"sk-toggleable__control sk-hidden--visually\" id=\"sk-estimator-id-16\" type=\"checkbox\" checked><label for=\"sk-estimator-id-16\" class=\"sk-toggleable__label sk-toggleable__label-arrow\">MLPClassifier</label><div class=\"sk-toggleable__content\"><pre>MLPClassifier(verbose=True)</pre></div></div></div></div></div>"
            ],
            "text/plain": [
              "MLPClassifier(verbose=True)"
            ]
          },
          "execution_count": 234,
          "metadata": {},
          "output_type": "execute_result"
        }
      ],
      "source": [
        "model.fit(X_train_resampled, y_train_resampled)"
      ]
    },
    {
      "cell_type": "code",
      "execution_count": 235,
      "metadata": {},
      "outputs": [],
      "source": [
        "y_pred = model.predict(X_test)"
      ]
    },
    {
      "cell_type": "code",
      "execution_count": 236,
      "metadata": {},
      "outputs": [
        {
          "name": "stdout",
          "output_type": "stream",
          "text": [
            "              precision    recall  f1-score   support\n",
            "\n",
            "    Abnormal       0.93      0.88      0.90        42\n",
            "      Normal       0.77      0.85      0.81        20\n",
            "\n",
            "    accuracy                           0.87        62\n",
            "   macro avg       0.85      0.87      0.86        62\n",
            "weighted avg       0.88      0.87      0.87        62\n",
            "\n"
          ]
        }
      ],
      "source": [
        "print(classification_report(y_test, y_pred))"
      ]
    },
    {
      "cell_type": "code",
      "execution_count": 237,
      "metadata": {},
      "outputs": [
        {
          "data": {
            "image/png": "[encoded data removed]",
            "text/plain": [
              "<Figure size 640x480 with 2 Axes>"
            ]
          },
          "metadata": {},
          "output_type": "display_data"
        }
      ],
      "source": [
        "ConfusionMatrixDisplay.from_estimator(model, X_test, y_test)\n",
        "plt.show()"
      ]
    },
    {
      "cell_type": "markdown",
      "metadata": {
        "id": "yH1fLjQbNeMc"
      },
      "source": [
        "# using kfold\n",
        "acho que nao funcionou mto bem"
      ]
    },
    {
      "cell_type": "code",
      "execution_count": 238,
      "metadata": {
        "id": "LW2ElCgSKJHB"
      },
      "outputs": [],
      "source": [
        "kf = KFold(n_splits=3, shuffle=False)"
      ]
    },
    {
      "cell_type": "code",
      "execution_count": 239,
      "metadata": {
        "colab": {
          "base_uri": "https://localhost:8080/"
        },
        "id": "kWuA_QeqITy_",
        "outputId": "55febf88-1256-41e4-bfc7-5fd02ddaa9aa"
      },
      "outputs": [
        {
          "data": {
            "text/plain": [
              "{'activation': 'relu',\n",
              " 'alpha': 0.0001,\n",
              " 'batch_size': 'auto',\n",
              " 'beta_1': 0.9,\n",
              " 'beta_2': 0.999,\n",
              " 'early_stopping': False,\n",
              " 'epsilon': 1e-08,\n",
              " 'hidden_layer_sizes': (100,),\n",
              " 'learning_rate': 'constant',\n",
              " 'learning_rate_init': 0.001,\n",
              " 'max_fun': 15000,\n",
              " 'max_iter': 200,\n",
              " 'momentum': 0.9,\n",
              " 'n_iter_no_change': 10,\n",
              " 'nesterovs_momentum': True,\n",
              " 'power_t': 0.5,\n",
              " 'random_state': None,\n",
              " 'shuffle': True,\n",
              " 'solver': 'adam',\n",
              " 'tol': 0.0001,\n",
              " 'validation_fraction': 0.1,\n",
              " 'verbose': False,\n",
              " 'warm_start': False}"
            ]
          },
          "execution_count": 239,
          "metadata": {},
          "output_type": "execute_result"
        }
      ],
      "source": [
        "model = MLPClassifier(verbose=False)\n",
        "model.get_params()"
      ]
    },
    {
      "cell_type": "code",
      "execution_count": 240,
      "metadata": {
        "colab": {
          "base_uri": "https://localhost:8080/"
        },
        "id": "58vBV-ZfIYqz",
        "outputId": "30b43a8a-0ebd-432b-8292-dde79fd375c8"
      },
      "outputs": [
        {
          "name": "stdout",
          "output_type": "stream",
          "text": [
            "iteration 0:\n",
            "              precision    recall  f1-score   support\n",
            "\n",
            "    Abnormal       1.00      0.42      0.59       104\n",
            "      Normal       0.00      0.00      0.00         0\n",
            "\n",
            "    accuracy                           0.42       104\n",
            "   macro avg       0.50      0.21      0.30       104\n",
            "weighted avg       1.00      0.42      0.59       104\n",
            "\n",
            "iteration 1:\n",
            "              precision    recall  f1-score   support\n",
            "\n",
            "    Abnormal       1.00      0.95      0.98       103\n",
            "      Normal       0.00      0.00      0.00         0\n",
            "\n",
            "    accuracy                           0.95       103\n",
            "   macro avg       0.50      0.48      0.49       103\n",
            "weighted avg       1.00      0.95      0.98       103\n",
            "\n",
            "iteration 2:\n",
            "              precision    recall  f1-score   support\n",
            "\n",
            "    Abnormal       0.03      1.00      0.06         3\n",
            "      Normal       0.00      0.00      0.00       100\n",
            "\n",
            "    accuracy                           0.03       103\n",
            "   macro avg       0.01      0.50      0.03       103\n",
            "weighted avg       0.00      0.03      0.00       103\n",
            "\n"
          ]
        },
        {
          "name": "stderr",
          "output_type": "stream",
          "text": [
            "/home/cadu/anaconda3/lib/python3.11/site-packages/sklearn/metrics/_classification.py:1344: UndefinedMetricWarning: Recall and F-score are ill-defined and being set to 0.0 in labels with no true samples. Use `zero_division` parameter to control this behavior.\n",
            "  _warn_prf(average, modifier, msg_start, len(result))\n",
            "/home/cadu/anaconda3/lib/python3.11/site-packages/sklearn/metrics/_classification.py:1344: UndefinedMetricWarning: Recall and F-score are ill-defined and being set to 0.0 in labels with no true samples. Use `zero_division` parameter to control this behavior.\n",
            "  _warn_prf(average, modifier, msg_start, len(result))\n",
            "/home/cadu/anaconda3/lib/python3.11/site-packages/sklearn/metrics/_classification.py:1344: UndefinedMetricWarning: Recall and F-score are ill-defined and being set to 0.0 in labels with no true samples. Use `zero_division` parameter to control this behavior.\n",
            "  _warn_prf(average, modifier, msg_start, len(result))\n",
            "/home/cadu/anaconda3/lib/python3.11/site-packages/sklearn/metrics/_classification.py:1344: UndefinedMetricWarning: Recall and F-score are ill-defined and being set to 0.0 in labels with no true samples. Use `zero_division` parameter to control this behavior.\n",
            "  _warn_prf(average, modifier, msg_start, len(result))\n",
            "/home/cadu/anaconda3/lib/python3.11/site-packages/sklearn/metrics/_classification.py:1344: UndefinedMetricWarning: Recall and F-score are ill-defined and being set to 0.0 in labels with no true samples. Use `zero_division` parameter to control this behavior.\n",
            "  _warn_prf(average, modifier, msg_start, len(result))\n",
            "/home/cadu/anaconda3/lib/python3.11/site-packages/sklearn/metrics/_classification.py:1344: UndefinedMetricWarning: Recall and F-score are ill-defined and being set to 0.0 in labels with no true samples. Use `zero_division` parameter to control this behavior.\n",
            "  _warn_prf(average, modifier, msg_start, len(result))\n",
            "/home/cadu/anaconda3/lib/python3.11/site-packages/sklearn/metrics/_classification.py:1344: UndefinedMetricWarning: Precision and F-score are ill-defined and being set to 0.0 in labels with no predicted samples. Use `zero_division` parameter to control this behavior.\n",
            "  _warn_prf(average, modifier, msg_start, len(result))\n",
            "/home/cadu/anaconda3/lib/python3.11/site-packages/sklearn/metrics/_classification.py:1344: UndefinedMetricWarning: Precision and F-score are ill-defined and being set to 0.0 in labels with no predicted samples. Use `zero_division` parameter to control this behavior.\n",
            "  _warn_prf(average, modifier, msg_start, len(result))\n",
            "/home/cadu/anaconda3/lib/python3.11/site-packages/sklearn/metrics/_classification.py:1344: UndefinedMetricWarning: Precision and F-score are ill-defined and being set to 0.0 in labels with no predicted samples. Use `zero_division` parameter to control this behavior.\n",
            "  _warn_prf(average, modifier, msg_start, len(result))\n"
          ]
        }
      ],
      "source": [
        "for i, (train_index, test_index) in enumerate(kf.split(X)):\n",
        "  print(f\"iteration {i}:\")\n",
        "  X_train = X.iloc[train_index]\n",
        "  y_train = y.iloc[train_index]\n",
        "  X_test = X.iloc[test_index]\n",
        "  y_test = y.iloc[test_index]\n",
        "\n",
        "  model.fit(X_train, y_train)\n",
        "  y_pred = model.predict(X_test)\n",
        "\n",
        "  print(classification_report(y_test, y_pred))"
      ]
    },
    {
      "cell_type": "code",
      "execution_count": 241,
      "metadata": {
        "id": "GzgPK28yPPnq"
      },
      "outputs": [],
      "source": [
        "y_pred = model.predict(X_test)"
      ]
    },
    {
      "cell_type": "code",
      "execution_count": 242,
      "metadata": {
        "colab": {
          "base_uri": "https://localhost:8080/"
        },
        "id": "whfzzsCZPT8R",
        "outputId": "6c8f1938-53fc-4d85-d43e-b1d3f6e81ccc"
      },
      "outputs": [
        {
          "name": "stdout",
          "output_type": "stream",
          "text": [
            "              precision    recall  f1-score   support\n",
            "\n",
            "    Abnormal       0.03      1.00      0.06         3\n",
            "      Normal       0.00      0.00      0.00       100\n",
            "\n",
            "    accuracy                           0.03       103\n",
            "   macro avg       0.01      0.50      0.03       103\n",
            "weighted avg       0.00      0.03      0.00       103\n",
            "\n"
          ]
        },
        {
          "name": "stderr",
          "output_type": "stream",
          "text": [
            "/home/cadu/anaconda3/lib/python3.11/site-packages/sklearn/metrics/_classification.py:1344: UndefinedMetricWarning: Precision and F-score are ill-defined and being set to 0.0 in labels with no predicted samples. Use `zero_division` parameter to control this behavior.\n",
            "  _warn_prf(average, modifier, msg_start, len(result))\n",
            "/home/cadu/anaconda3/lib/python3.11/site-packages/sklearn/metrics/_classification.py:1344: UndefinedMetricWarning: Precision and F-score are ill-defined and being set to 0.0 in labels with no predicted samples. Use `zero_division` parameter to control this behavior.\n",
            "  _warn_prf(average, modifier, msg_start, len(result))\n",
            "/home/cadu/anaconda3/lib/python3.11/site-packages/sklearn/metrics/_classification.py:1344: UndefinedMetricWarning: Precision and F-score are ill-defined and being set to 0.0 in labels with no predicted samples. Use `zero_division` parameter to control this behavior.\n",
            "  _warn_prf(average, modifier, msg_start, len(result))\n"
          ]
        }
      ],
      "source": [
        "print(classification_report(y_test, y_pred))"
      ]
    },
    {
      "cell_type": "code",
      "execution_count": 243,
      "metadata": {
        "id": "IaC3J9GrJft7"
      },
      "outputs": [],
      "source": [
        "from sklearn import metrics\n",
        "from sklearn.metrics import ConfusionMatrixDisplay\n",
        "import matplotlib.pyplot as plt"
      ]
    },
    {
      "cell_type": "code",
      "execution_count": 244,
      "metadata": {
        "colab": {
          "base_uri": "https://localhost:8080/",
          "height": 390
        },
        "id": "oXX4vogJmZdv",
        "outputId": "a85c642c-5f56-4485-e5dd-cf1381f33d76"
      },
      "outputs": [
        {
          "name": "stderr",
          "output_type": "stream",
          "text": [
            "/home/cadu/anaconda3/lib/python3.11/site-packages/sklearn/metrics/_ranking.py:769: FutureWarning: elementwise comparison failed; returning scalar instead, but in the future will perform elementwise comparison\n",
            "  y_true = y_true == pos_label\n"
          ]
        },
        {
          "ename": "TypeError",
          "evalue": "'bool' object is not subscriptable",
          "output_type": "error",
          "traceback": [
            "\u001b[0;31m---------------------------------------------------------------------------\u001b[0m",
            "\u001b[0;31mTypeError\u001b[0m                                 Traceback (most recent call last)",
            "Cell \u001b[0;32mIn[244], line 1\u001b[0m\n\u001b[0;32m----> 1\u001b[0m fpr, tpr, thresholds \u001b[39m=\u001b[39m metrics\u001b[39m.\u001b[39mroc_curve(y_pred, y_test, pos_label\u001b[39m=\u001b[39m\u001b[39m1\u001b[39m)\n",
            "File \u001b[0;32m~/anaconda3/lib/python3.11/site-packages/sklearn/metrics/_ranking.py:992\u001b[0m, in \u001b[0;36mroc_curve\u001b[0;34m(y_true, y_score, pos_label, sample_weight, drop_intermediate)\u001b[0m\n\u001b[1;32m    904\u001b[0m \u001b[39mdef\u001b[39;00m \u001b[39mroc_curve\u001b[39m(\n\u001b[1;32m    905\u001b[0m     y_true, y_score, \u001b[39m*\u001b[39m, pos_label\u001b[39m=\u001b[39m\u001b[39mNone\u001b[39;00m, sample_weight\u001b[39m=\u001b[39m\u001b[39mNone\u001b[39;00m, drop_intermediate\u001b[39m=\u001b[39m\u001b[39mTrue\u001b[39;00m\n\u001b[1;32m    906\u001b[0m ):\n\u001b[1;32m    907\u001b[0m \u001b[39m    \u001b[39m\u001b[39m\"\"\"Compute Receiver operating characteristic (ROC).\u001b[39;00m\n\u001b[1;32m    908\u001b[0m \n\u001b[1;32m    909\u001b[0m \u001b[39m    Note: this implementation is restricted to the binary classification task.\u001b[39;00m\n\u001b[0;32m   (...)\u001b[0m\n\u001b[1;32m    990\u001b[0m \u001b[39m    array([1.8 , 0.8 , 0.4 , 0.35, 0.1 ])\u001b[39;00m\n\u001b[1;32m    991\u001b[0m \u001b[39m    \"\"\"\u001b[39;00m\n\u001b[0;32m--> 992\u001b[0m     fps, tps, thresholds \u001b[39m=\u001b[39m _binary_clf_curve(\n\u001b[1;32m    993\u001b[0m         y_true, y_score, pos_label\u001b[39m=\u001b[39mpos_label, sample_weight\u001b[39m=\u001b[39msample_weight\n\u001b[1;32m    994\u001b[0m     )\n\u001b[1;32m    996\u001b[0m     \u001b[39m# Attempt to drop thresholds corresponding to points in between and\u001b[39;00m\n\u001b[1;32m    997\u001b[0m     \u001b[39m# collinear with other points. These are always suboptimal and do not\u001b[39;00m\n\u001b[1;32m    998\u001b[0m     \u001b[39m# appear on a plotted ROC curve (and thus do not affect the AUC).\u001b[39;00m\n\u001b[0;32m   (...)\u001b[0m\n\u001b[1;32m   1003\u001b[0m     \u001b[39m# but does not drop more complicated cases like fps = [1, 3, 7],\u001b[39;00m\n\u001b[1;32m   1004\u001b[0m     \u001b[39m# tps = [1, 2, 4]; there is no harm in keeping too many thresholds.\u001b[39;00m\n\u001b[1;32m   1005\u001b[0m     \u001b[39mif\u001b[39;00m drop_intermediate \u001b[39mand\u001b[39;00m \u001b[39mlen\u001b[39m(fps) \u001b[39m>\u001b[39m \u001b[39m2\u001b[39m:\n",
            "File \u001b[0;32m~/anaconda3/lib/python3.11/site-packages/sklearn/metrics/_ranking.py:774\u001b[0m, in \u001b[0;36m_binary_clf_curve\u001b[0;34m(y_true, y_score, pos_label, sample_weight)\u001b[0m\n\u001b[1;32m    772\u001b[0m desc_score_indices \u001b[39m=\u001b[39m np\u001b[39m.\u001b[39margsort(y_score, kind\u001b[39m=\u001b[39m\u001b[39m\"\u001b[39m\u001b[39mmergesort\u001b[39m\u001b[39m\"\u001b[39m)[::\u001b[39m-\u001b[39m\u001b[39m1\u001b[39m]\n\u001b[1;32m    773\u001b[0m y_score \u001b[39m=\u001b[39m y_score[desc_score_indices]\n\u001b[0;32m--> 774\u001b[0m y_true \u001b[39m=\u001b[39m y_true[desc_score_indices]\n\u001b[1;32m    775\u001b[0m \u001b[39mif\u001b[39;00m sample_weight \u001b[39mis\u001b[39;00m \u001b[39mnot\u001b[39;00m \u001b[39mNone\u001b[39;00m:\n\u001b[1;32m    776\u001b[0m     weight \u001b[39m=\u001b[39m sample_weight[desc_score_indices]\n",
            "\u001b[0;31mTypeError\u001b[0m: 'bool' object is not subscriptable"
          ]
        }
      ],
      "source": [
        "fpr, tpr, thresholds = metrics.roc_curve(y_pred, y_test, pos_label=1)"
      ]
    }
  ],
  "metadata": {
    "colab": {
      "provenance": []
    },
    "kernelspec": {
      "display_name": "Python 3",
      "name": "python3"
    },
    "language_info": {
      "codemirror_mode": {
        "name": "ipython",
        "version": 3
      },
      "file_extension": ".py",
      "mimetype": "text/x-python",
      "name": "python",
      "nbconvert_exporter": "python",
      "pygments_lexer": "ipython3",
      "version": "3.11.4"
    }
  },
  "nbformat": 4,
  "nbformat_minor": 0
}

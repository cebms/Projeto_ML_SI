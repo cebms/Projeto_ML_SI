{
  "cells": [
    {
      "cell_type": "markdown",
      "metadata": {
        "id": "tmfGy0hVlhys"
      },
      "source": [
        "<h1>Projeto MLP: Classificação de sintomas de dor nas costas 🤕</h1> \n",
        "\n",
        "<p>Este projeto é parte da disciplina de Sistemas Inteligentes. Nele trabalharemos com a base de dados \"Lower Back Pain Symptoms Dataset\" com o objetivo de classificar os dados utilizando uma MLP.</p>"
      ]
    },
    {
      "cell_type": "markdown",
      "metadata": {
        "id": "rhL96SfxrIqd"
      },
      "source": [
        "# Análise e tratamento de dados 🕵️"
      ]
    },
    {
      "cell_type": "markdown",
      "metadata": {
        "id": "vhDrociymhZz"
      },
      "source": [
        "Nesta sessão iremos analisar nossa base de dados, buscando entender seus atributos, analisar possíveis anomalias e definir dados de treino, validação e teste.\n",
        "\n",
        "Primeiramente vamos importar as bibliotecas necessárias sendo elas:\n",
        "- Numpy: Operações matemáticas;\n",
        "- Pandas: Manipulação de datasets;\n",
        "- Sklearn: Modelos de machine learning.\n",
        "- Seaborn/Matplotlib: Plotagem de gráficos"
      ]
    },
    {
      "cell_type": "code",
      "execution_count": 2568,
      "metadata": {
        "id": "elZ6kDFhFIml"
      },
      "outputs": [],
      "source": [
        "# importando bibliotecas\n",
        "import numpy as np\n",
        "import pandas as pd\n",
        "import seaborn as sns\n",
        "import matplotlib.pyplot as plt\n",
        "from sklearn import metrics\n",
        "from sklearn.neural_network import MLPClassifier\n",
        "from sklearn.model_selection import train_test_split, KFold\n",
        "from sklearn.metrics import classification_report, ConfusionMatrixDisplay"
      ]
    },
    {
      "cell_type": "markdown",
      "metadata": {
        "id": "rrLeqYRfo_8S"
      },
      "source": [
        "Agora importamos a base de dados utilizando o pandas"
      ]
    },
    {
      "cell_type": "code",
      "execution_count": 2569,
      "metadata": {
        "colab": {
          "base_uri": "https://localhost:8080/",
          "height": 206
        },
        "id": "p0oafFbBGRxk",
        "outputId": "f0037cf4-bea9-4f71-ab58-a073e5e7ae08"
      },
      "outputs": [
        {
          "data": {
            "text/html": [
              "<div>\n",
              "<style scoped>\n",
              "    .dataframe tbody tr th:only-of-type {\n",
              "        vertical-align: middle;\n",
              "    }\n",
              "\n",
              "    .dataframe tbody tr th {\n",
              "        vertical-align: top;\n",
              "    }\n",
              "\n",
              "    .dataframe thead th {\n",
              "        text-align: right;\n",
              "    }\n",
              "</style>\n",
              "<table border=\"1\" class=\"dataframe\">\n",
              "  <thead>\n",
              "    <tr style=\"text-align: right;\">\n",
              "      <th></th>\n",
              "      <th>Col1</th>\n",
              "      <th>Col2</th>\n",
              "      <th>Col3</th>\n",
              "      <th>Col4</th>\n",
              "      <th>Col5</th>\n",
              "      <th>Col6</th>\n",
              "      <th>Col7</th>\n",
              "      <th>Col8</th>\n",
              "      <th>Col9</th>\n",
              "      <th>Col10</th>\n",
              "      <th>Col11</th>\n",
              "      <th>Col12</th>\n",
              "      <th>Class_att</th>\n",
              "      <th>Unnamed: 13</th>\n",
              "    </tr>\n",
              "  </thead>\n",
              "  <tbody>\n",
              "    <tr>\n",
              "      <th>0</th>\n",
              "      <td>63.027817</td>\n",
              "      <td>22.552586</td>\n",
              "      <td>39.609117</td>\n",
              "      <td>40.475232</td>\n",
              "      <td>98.672917</td>\n",
              "      <td>-0.254400</td>\n",
              "      <td>0.744503</td>\n",
              "      <td>12.5661</td>\n",
              "      <td>14.5386</td>\n",
              "      <td>15.30468</td>\n",
              "      <td>-28.658501</td>\n",
              "      <td>43.5123</td>\n",
              "      <td>Abnormal</td>\n",
              "      <td>NaN</td>\n",
              "    </tr>\n",
              "    <tr>\n",
              "      <th>1</th>\n",
              "      <td>39.056951</td>\n",
              "      <td>10.060991</td>\n",
              "      <td>25.015378</td>\n",
              "      <td>28.995960</td>\n",
              "      <td>114.405425</td>\n",
              "      <td>4.564259</td>\n",
              "      <td>0.415186</td>\n",
              "      <td>12.8874</td>\n",
              "      <td>17.5323</td>\n",
              "      <td>16.78486</td>\n",
              "      <td>-25.530607</td>\n",
              "      <td>16.1102</td>\n",
              "      <td>Abnormal</td>\n",
              "      <td>NaN</td>\n",
              "    </tr>\n",
              "    <tr>\n",
              "      <th>2</th>\n",
              "      <td>68.832021</td>\n",
              "      <td>22.218482</td>\n",
              "      <td>50.092194</td>\n",
              "      <td>46.613539</td>\n",
              "      <td>105.985135</td>\n",
              "      <td>-3.530317</td>\n",
              "      <td>0.474889</td>\n",
              "      <td>26.8343</td>\n",
              "      <td>17.4861</td>\n",
              "      <td>16.65897</td>\n",
              "      <td>-29.031888</td>\n",
              "      <td>19.2221</td>\n",
              "      <td>Abnormal</td>\n",
              "      <td>Prediction is done by using binary classificat...</td>\n",
              "    </tr>\n",
              "    <tr>\n",
              "      <th>3</th>\n",
              "      <td>69.297008</td>\n",
              "      <td>24.652878</td>\n",
              "      <td>44.311238</td>\n",
              "      <td>44.644130</td>\n",
              "      <td>101.868495</td>\n",
              "      <td>11.211523</td>\n",
              "      <td>0.369345</td>\n",
              "      <td>23.5603</td>\n",
              "      <td>12.7074</td>\n",
              "      <td>11.42447</td>\n",
              "      <td>-30.470246</td>\n",
              "      <td>18.8329</td>\n",
              "      <td>Abnormal</td>\n",
              "      <td>NaN</td>\n",
              "    </tr>\n",
              "    <tr>\n",
              "      <th>4</th>\n",
              "      <td>49.712859</td>\n",
              "      <td>9.652075</td>\n",
              "      <td>28.317406</td>\n",
              "      <td>40.060784</td>\n",
              "      <td>108.168725</td>\n",
              "      <td>7.918501</td>\n",
              "      <td>0.543360</td>\n",
              "      <td>35.4940</td>\n",
              "      <td>15.9546</td>\n",
              "      <td>8.87237</td>\n",
              "      <td>-16.378376</td>\n",
              "      <td>24.9171</td>\n",
              "      <td>Abnormal</td>\n",
              "      <td>NaN</td>\n",
              "    </tr>\n",
              "  </tbody>\n",
              "</table>\n",
              "</div>"
            ],
            "text/plain": [
              "        Col1       Col2       Col3       Col4        Col5       Col6  \\\n",
              "0  63.027817  22.552586  39.609117  40.475232   98.672917  -0.254400   \n",
              "1  39.056951  10.060991  25.015378  28.995960  114.405425   4.564259   \n",
              "2  68.832021  22.218482  50.092194  46.613539  105.985135  -3.530317   \n",
              "3  69.297008  24.652878  44.311238  44.644130  101.868495  11.211523   \n",
              "4  49.712859   9.652075  28.317406  40.060784  108.168725   7.918501   \n",
              "\n",
              "       Col7     Col8     Col9     Col10      Col11    Col12 Class_att  \\\n",
              "0  0.744503  12.5661  14.5386  15.30468 -28.658501  43.5123  Abnormal   \n",
              "1  0.415186  12.8874  17.5323  16.78486 -25.530607  16.1102  Abnormal   \n",
              "2  0.474889  26.8343  17.4861  16.65897 -29.031888  19.2221  Abnormal   \n",
              "3  0.369345  23.5603  12.7074  11.42447 -30.470246  18.8329  Abnormal   \n",
              "4  0.543360  35.4940  15.9546   8.87237 -16.378376  24.9171  Abnormal   \n",
              "\n",
              "                                         Unnamed: 13  \n",
              "0                                                NaN  \n",
              "1                                                NaN  \n",
              "2  Prediction is done by using binary classificat...  \n",
              "3                                                NaN  \n",
              "4                                                NaN  "
            ]
          },
          "execution_count": 2569,
          "metadata": {},
          "output_type": "execute_result"
        }
      ],
      "source": [
        "# Importando dados e visualizando algumas instâncias\n",
        "df = pd.read_csv('./Dataset_spine.csv')\n",
        "df.head()"
      ]
    },
    {
      "cell_type": "markdown",
      "metadata": {
        "id": "NURoDBl4nnLg"
      },
      "source": [
        "Como a coluna 'Unnamed:13' os rotúlos do dataset que não são útes para a classificação, então podemos remove-lá.\n",
        "\n",
        "Nesse momento também separamos os atributos utilizados no treino da classificação\n"
      ]
    },
    {
      "cell_type": "code",
      "execution_count": 2570,
      "metadata": {
        "id": "_clblVHkHeud"
      },
      "outputs": [],
      "source": [
        "df = df.drop(['Unnamed: 13'], axis=1)\n",
        "y = df['Class_att']\n",
        "X = df.drop(['Class_att'], axis=1)"
      ]
    },
    {
      "cell_type": "markdown",
      "metadata": {
        "id": "G1bs1ZYIr3RE"
      },
      "source": [
        "Agora, verificamos se há dados faltantes em alguma das colunas"
      ]
    },
    {
      "cell_type": "code",
      "execution_count": 2571,
      "metadata": {
        "colab": {
          "base_uri": "https://localhost:8080/"
        },
        "id": "oJrVuJ79tR-H",
        "outputId": "698f4b2c-3e1b-43d1-8e14-ccd08fbe6547"
      },
      "outputs": [
        {
          "name": "stdout",
          "output_type": "stream",
          "text": [
            "Col1         0\n",
            "Col2         0\n",
            "Col3         0\n",
            "Col4         0\n",
            "Col5         0\n",
            "Col6         0\n",
            "Col7         0\n",
            "Col8         0\n",
            "Col9         0\n",
            "Col10        0\n",
            "Col11        0\n",
            "Col12        0\n",
            "Class_att    0\n",
            "dtype: int64\n"
          ]
        }
      ],
      "source": [
        "print(df.isnull().sum())"
      ]
    },
    {
      "cell_type": "markdown",
      "metadata": {},
      "source": [
        " Como não encontramos nenhum NaN, podemos assumir que não há dados faltando em nenhuma das colunas, portanto não será necessário realizar tratamento para esses casos.\n",
        " Em seguida, vamos visualizar os outliers."
      ]
    },
    {
      "cell_type": "code",
      "execution_count": 2572,
      "metadata": {},
      "outputs": [
        {
          "data": {
            "image/png": "[encoded data removed]",
            "text/plain": [
              "<Figure size 1200x800 with 12 Axes>"
            ]
          },
          "metadata": {},
          "output_type": "display_data"
        }
      ],
      "source": [
        "import matplotlib.pyplot as plt\n",
        "import seaborn as sns\n",
        "\n",
        "# Crie uma grade de subplots 3x4 (3 linhas e 4 colunas)\n",
        "fig, axes = plt.subplots(3, 4, figsize=(12, 8))\n",
        "\n",
        "# Itere pelas colunas e adicione os boxplots aos subplots\n",
        "for col in range(1, 13):\n",
        "    row = (col - 1) // 4  # Calcule a linha atual\n",
        "    col_idx = (col - 1) % 4  # Calcule a coluna atual\n",
        "    ax = axes[row, col_idx]  # Obtenha o subplot atual\n",
        "\n",
        "    sns.boxplot(df[f'Col{col}'], ax=ax)\n",
        "    ax.set_title(f'Box Plot da Coluna {col}')\n",
        "\n",
        "# Ajuste o layout\n",
        "plt.tight_layout()\n",
        "\n",
        "# Exiba o gráfico\n",
        "plt.show()"
      ]
    },
    {
      "cell_type": "markdown",
      "metadata": {},
      "source": [
        "posições do outlier (vamos usar?)"
      ]
    },
    {
      "cell_type": "code",
      "execution_count": 2573,
      "metadata": {},
      "outputs": [
        {
          "name": "stdout",
          "output_type": "stream",
          "text": [
            "(array([ 85, 167, 180]),)\n"
          ]
        }
      ],
      "source": [
        "from scipy import stats\n",
        "z = np.abs(stats.zscore(df['Col5']))\n",
        "threshold = 3\n",
        "# Position of the outlier\n",
        "print(np.where(z > threshold))"
      ]
    },
    {
      "cell_type": "markdown",
      "metadata": {
        "id": "AL2sRiu6NHvE"
      },
      "source": [
        "\n",
        "# Primeiro Treino 💪"
      ]
    },
    {
      "cell_type": "code",
      "execution_count": 2574,
      "metadata": {
        "id": "9Lr6LeUyH4sx"
      },
      "outputs": [],
      "source": [
        "X_train, X_test, y_train, y_test = train_test_split(X, y, train_size=0.8, shuffle=True)"
      ]
    },
    {
      "cell_type": "code",
      "execution_count": 2575,
      "metadata": {
        "colab": {
          "base_uri": "https://localhost:8080/"
        },
        "id": "ULGoU6gaNQD3",
        "outputId": "2dbcd01f-bf6f-46b9-a570-1d3e4b3ca863"
      },
      "outputs": [
        {
          "data": {
            "text/plain": [
              "{'activation': 'relu',\n",
              " 'alpha': 0.0001,\n",
              " 'batch_size': 'auto',\n",
              " 'beta_1': 0.9,\n",
              " 'beta_2': 0.999,\n",
              " 'early_stopping': False,\n",
              " 'epsilon': 1e-08,\n",
              " 'hidden_layer_sizes': (100,),\n",
              " 'learning_rate': 'constant',\n",
              " 'learning_rate_init': 0.001,\n",
              " 'max_fun': 15000,\n",
              " 'max_iter': 200,\n",
              " 'momentum': 0.9,\n",
              " 'n_iter_no_change': 10,\n",
              " 'nesterovs_momentum': True,\n",
              " 'power_t': 0.5,\n",
              " 'random_state': 42,\n",
              " 'shuffle': True,\n",
              " 'solver': 'adam',\n",
              " 'tol': 0.0001,\n",
              " 'validation_fraction': 0.1,\n",
              " 'verbose': True,\n",
              " 'warm_start': False}"
            ]
          },
          "execution_count": 2575,
          "metadata": {},
          "output_type": "execute_result"
        }
      ],
      "source": [
        "model = MLPClassifier(verbose=True, max_iter=200, random_state=42)\n",
        "model.get_params()"
      ]
    },
    {
      "cell_type": "code",
      "execution_count": 2576,
      "metadata": {
        "colab": {
          "base_uri": "https://localhost:8080/",
          "height": 1000
        },
        "id": "FoAyj4BxNMEx",
        "outputId": "5353a4e0-38c4-43bb-a67a-e39239f7dcbe"
      },
      "outputs": [
        {
          "name": "stdout",
          "output_type": "stream",
          "text": [
            "Iteration 1, loss = 9.14051880\n",
            "Iteration 2, loss = 4.57682924\n",
            "Iteration 3, loss = 1.53778965\n",
            "Iteration 4, loss = 1.33537791\n",
            "Iteration 5, loss = 2.05037681\n",
            "Iteration 6, loss = 2.42632378\n",
            "Iteration 7, loss = 2.38434463\n",
            "Iteration 8, loss = 2.00744251\n",
            "Iteration 9, loss = 1.48166614\n",
            "Iteration 10, loss = 0.96410622\n",
            "Iteration 11, loss = 0.79835993\n",
            "Iteration 12, loss = 0.95684753\n",
            "Iteration 13, loss = 1.10449808\n",
            "Iteration 14, loss = 1.09216063\n",
            "Iteration 15, loss = 0.94657141\n",
            "Iteration 16, loss = 0.75940368\n",
            "Iteration 17, loss = 0.65240604\n",
            "Iteration 18, loss = 0.67600439\n",
            "Iteration 19, loss = 0.72364486\n",
            "Iteration 20, loss = 0.74408429\n",
            "Iteration 21, loss = 0.69965234\n",
            "Iteration 22, loss = 0.62377801\n",
            "Iteration 23, loss = 0.58285568\n",
            "Iteration 24, loss = 0.58760147\n",
            "Iteration 25, loss = 0.60278479\n",
            "Iteration 26, loss = 0.60295384\n",
            "Iteration 27, loss = 0.57420099\n",
            "Iteration 28, loss = 0.54322406\n",
            "Iteration 29, loss = 0.53795781\n",
            "Iteration 30, loss = 0.54843396\n",
            "Iteration 31, loss = 0.55019244\n",
            "Iteration 32, loss = 0.52954416\n",
            "Iteration 33, loss = 0.51129979\n",
            "Iteration 34, loss = 0.50947503\n",
            "Iteration 35, loss = 0.50077968\n",
            "Iteration 36, loss = 0.48963455\n",
            "Iteration 37, loss = 0.48511406\n",
            "Iteration 38, loss = 0.48564217\n",
            "Iteration 39, loss = 0.48776145\n",
            "Iteration 40, loss = 0.48152634\n",
            "Iteration 41, loss = 0.46931051\n",
            "Iteration 42, loss = 0.46471357\n",
            "Iteration 43, loss = 0.46502137\n",
            "Iteration 44, loss = 0.46083697\n",
            "Iteration 45, loss = 0.45249547\n",
            "Iteration 46, loss = 0.44822289\n",
            "Iteration 47, loss = 0.44984820\n",
            "Iteration 48, loss = 0.45017006\n",
            "Iteration 49, loss = 0.44435537\n",
            "Iteration 50, loss = 0.43709872\n",
            "Iteration 51, loss = 0.43175635\n",
            "Iteration 52, loss = 0.42937915\n",
            "Iteration 53, loss = 0.42528141\n",
            "Iteration 54, loss = 0.42014203\n",
            "Iteration 55, loss = 0.41922964\n",
            "Iteration 56, loss = 0.41754083\n",
            "Iteration 57, loss = 0.41267962\n",
            "Iteration 58, loss = 0.40707339\n",
            "Iteration 59, loss = 0.40385096\n",
            "Iteration 60, loss = 0.40048444\n",
            "Iteration 61, loss = 0.39759733\n",
            "Iteration 62, loss = 0.39430495\n",
            "Iteration 63, loss = 0.39362368\n",
            "Iteration 64, loss = 0.39034622\n",
            "Iteration 65, loss = 0.38559122\n",
            "Iteration 66, loss = 0.38227081\n",
            "Iteration 67, loss = 0.38059648\n",
            "Iteration 68, loss = 0.37850866\n",
            "Iteration 69, loss = 0.37621400\n",
            "Iteration 70, loss = 0.37208899\n",
            "Iteration 71, loss = 0.36865792\n",
            "Iteration 72, loss = 0.36599016\n",
            "Iteration 73, loss = 0.36331643\n",
            "Iteration 74, loss = 0.36081121\n",
            "Iteration 75, loss = 0.36063112\n",
            "Iteration 76, loss = 0.35791153\n",
            "Iteration 77, loss = 0.35504933\n",
            "Iteration 78, loss = 0.35398803\n",
            "Iteration 79, loss = 0.34821856\n",
            "Iteration 80, loss = 0.35646194\n",
            "Iteration 81, loss = 0.35687678\n",
            "Iteration 82, loss = 0.34640436\n",
            "Iteration 83, loss = 0.34604376\n",
            "Iteration 84, loss = 0.34427186\n",
            "Iteration 85, loss = 0.33802110\n",
            "Iteration 86, loss = 0.34157032\n",
            "Iteration 87, loss = 0.33780556\n",
            "Iteration 88, loss = 0.33358743\n",
            "Iteration 89, loss = 0.33362297\n",
            "Iteration 90, loss = 0.33191089\n",
            "Iteration 91, loss = 0.32875080\n",
            "Iteration 92, loss = 0.32613668\n",
            "Iteration 93, loss = 0.32378186\n",
            "Iteration 94, loss = 0.32352849\n",
            "Iteration 95, loss = 0.32405316\n",
            "Iteration 96, loss = 0.32173146\n",
            "Iteration 97, loss = 0.31750862\n",
            "Iteration 98, loss = 0.31628559\n",
            "Iteration 99, loss = 0.31518614\n",
            "Iteration 100, loss = 0.31639866\n",
            "Iteration 101, loss = 0.31589171\n",
            "Iteration 102, loss = 0.31195847\n",
            "Iteration 103, loss = 0.30917366\n",
            "Iteration 104, loss = 0.31070620\n",
            "Iteration 105, loss = 0.30824797\n",
            "Iteration 106, loss = 0.30449674\n",
            "Iteration 107, loss = 0.30687557\n",
            "Iteration 108, loss = 0.30690489\n",
            "Iteration 109, loss = 0.30328708\n",
            "Iteration 110, loss = 0.29996283\n",
            "Iteration 111, loss = 0.30560572\n",
            "Iteration 112, loss = 0.29945356\n",
            "Iteration 113, loss = 0.29955254\n",
            "Iteration 114, loss = 0.30150213\n",
            "Iteration 115, loss = 0.29545415\n",
            "Iteration 116, loss = 0.29794012\n",
            "Iteration 117, loss = 0.29531363\n",
            "Iteration 118, loss = 0.29198069\n",
            "Iteration 119, loss = 0.29707935\n",
            "Iteration 120, loss = 0.29095238\n",
            "Iteration 121, loss = 0.29126555\n",
            "Iteration 122, loss = 0.29664403\n",
            "Iteration 123, loss = 0.28973815\n",
            "Iteration 124, loss = 0.28746214\n",
            "Iteration 125, loss = 0.28744745\n",
            "Iteration 126, loss = 0.28445448\n",
            "Iteration 127, loss = 0.28390190\n",
            "Iteration 128, loss = 0.28381678\n",
            "Iteration 129, loss = 0.28244345\n",
            "Iteration 130, loss = 0.28194814\n",
            "Iteration 131, loss = 0.28141677\n",
            "Iteration 132, loss = 0.28073191\n",
            "Iteration 133, loss = 0.28056515\n",
            "Iteration 134, loss = 0.27790783\n",
            "Iteration 135, loss = 0.28075123\n",
            "Iteration 136, loss = 0.27645557\n",
            "Iteration 137, loss = 0.28167055\n",
            "Iteration 138, loss = 0.27364094\n",
            "Iteration 139, loss = 0.28673795\n",
            "Iteration 140, loss = 0.28702862\n",
            "Iteration 141, loss = 0.27455588\n",
            "Iteration 142, loss = 0.27332753\n",
            "Iteration 143, loss = 0.27211465\n",
            "Iteration 144, loss = 0.27094813\n",
            "Iteration 145, loss = 0.27023060\n",
            "Iteration 146, loss = 0.26937402\n",
            "Iteration 147, loss = 0.26941695\n",
            "Iteration 148, loss = 0.27001871\n",
            "Iteration 149, loss = 0.27134414\n",
            "Iteration 150, loss = 0.26849110\n",
            "Iteration 151, loss = 0.26884382\n",
            "Iteration 152, loss = 0.26668719\n",
            "Iteration 153, loss = 0.27013980\n",
            "Iteration 154, loss = 0.26627986\n",
            "Iteration 155, loss = 0.26806982\n",
            "Iteration 156, loss = 0.26960917\n",
            "Iteration 157, loss = 0.26398373\n",
            "Iteration 158, loss = 0.26519560\n",
            "Iteration 159, loss = 0.26324846\n",
            "Iteration 160, loss = 0.26359366\n",
            "Iteration 161, loss = 0.26307438\n",
            "Iteration 162, loss = 0.26110870\n",
            "Iteration 163, loss = 0.26046586\n",
            "Iteration 164, loss = 0.25984110\n",
            "Iteration 165, loss = 0.25998884\n",
            "Iteration 166, loss = 0.25969494\n",
            "Iteration 167, loss = 0.25909315\n",
            "Iteration 168, loss = 0.25907560\n",
            "Iteration 169, loss = 0.26613857\n",
            "Iteration 170, loss = 0.25847896\n",
            "Iteration 171, loss = 0.26602937\n",
            "Iteration 172, loss = 0.26943839\n",
            "Iteration 173, loss = 0.25551145\n",
            "Iteration 174, loss = 0.26415471\n",
            "Iteration 175, loss = 0.26508757\n",
            "Iteration 176, loss = 0.25301726\n",
            "Iteration 177, loss = 0.27019376\n",
            "Iteration 178, loss = 0.26158978\n",
            "Iteration 179, loss = 0.25829099\n",
            "Iteration 180, loss = 0.27980257\n",
            "Iteration 181, loss = 0.25741718\n",
            "Iteration 182, loss = 0.25890184\n",
            "Iteration 183, loss = 0.27246999\n",
            "Iteration 184, loss = 0.25699900\n",
            "Iteration 185, loss = 0.28603548\n",
            "Iteration 186, loss = 0.26639208\n",
            "Iteration 187, loss = 0.25207044\n",
            "Iteration 188, loss = 0.26814375\n",
            "Iteration 189, loss = 0.25660075\n",
            "Iteration 190, loss = 0.24697449\n",
            "Iteration 191, loss = 0.27132989\n",
            "Iteration 192, loss = 0.26034222\n",
            "Iteration 193, loss = 0.25074862\n",
            "Iteration 194, loss = 0.26202842\n",
            "Iteration 195, loss = 0.25039631\n",
            "Iteration 196, loss = 0.25205660\n",
            "Iteration 197, loss = 0.24877624\n",
            "Iteration 198, loss = 0.24717083\n",
            "Iteration 199, loss = 0.24823925\n",
            "Iteration 200, loss = 0.24570474\n"
          ]
        },
        {
          "name": "stderr",
          "output_type": "stream",
          "text": [
            "/home/cadu/anaconda3/lib/python3.11/site-packages/sklearn/neural_network/_multilayer_perceptron.py:686: ConvergenceWarning: Stochastic Optimizer: Maximum iterations (200) reached and the optimization hasn't converged yet.\n",
            "  warnings.warn(\n"
          ]
        },
        {
          "data": {
            "text/html": [
              "<style>#sk-container-id-175 {color: black;background-color: white;}#sk-container-id-175 pre{padding: 0;}#sk-container-id-175 div.sk-toggleable {background-color: white;}#sk-container-id-175 label.sk-toggleable__label {cursor: pointer;display: block;width: 100%;margin-bottom: 0;padding: 0.3em;box-sizing: border-box;text-align: center;}#sk-container-id-175 label.sk-toggleable__label-arrow:before {content: \"▸\";float: left;margin-right: 0.25em;color: #696969;}#sk-container-id-175 label.sk-toggleable__label-arrow:hover:before {color: black;}#sk-container-id-175 div.sk-estimator:hover label.sk-toggleable__label-arrow:before {color: black;}#sk-container-id-175 div.sk-toggleable__content {max-height: 0;max-width: 0;overflow: hidden;text-align: left;background-color: #f0f8ff;}#sk-container-id-175 div.sk-toggleable__content pre {margin: 0.2em;color: black;border-radius: 0.25em;background-color: #f0f8ff;}#sk-container-id-175 input.sk-toggleable__control:checked~div.sk-toggleable__content {max-height: 200px;max-width: 100%;overflow: auto;}#sk-container-id-175 input.sk-toggleable__control:checked~label.sk-toggleable__label-arrow:before {content: \"▾\";}#sk-container-id-175 div.sk-estimator input.sk-toggleable__control:checked~label.sk-toggleable__label {background-color: #d4ebff;}#sk-container-id-175 div.sk-label input.sk-toggleable__control:checked~label.sk-toggleable__label {background-color: #d4ebff;}#sk-container-id-175 input.sk-hidden--visually {border: 0;clip: rect(1px 1px 1px 1px);clip: rect(1px, 1px, 1px, 1px);height: 1px;margin: -1px;overflow: hidden;padding: 0;position: absolute;width: 1px;}#sk-container-id-175 div.sk-estimator {font-family: monospace;background-color: #f0f8ff;border: 1px dotted black;border-radius: 0.25em;box-sizing: border-box;margin-bottom: 0.5em;}#sk-container-id-175 div.sk-estimator:hover {background-color: #d4ebff;}#sk-container-id-175 div.sk-parallel-item::after {content: \"\";width: 100%;border-bottom: 1px solid gray;flex-grow: 1;}#sk-container-id-175 div.sk-label:hover label.sk-toggleable__label {background-color: #d4ebff;}#sk-container-id-175 div.sk-serial::before {content: \"\";position: absolute;border-left: 1px solid gray;box-sizing: border-box;top: 0;bottom: 0;left: 50%;z-index: 0;}#sk-container-id-175 div.sk-serial {display: flex;flex-direction: column;align-items: center;background-color: white;padding-right: 0.2em;padding-left: 0.2em;position: relative;}#sk-container-id-175 div.sk-item {position: relative;z-index: 1;}#sk-container-id-175 div.sk-parallel {display: flex;align-items: stretch;justify-content: center;background-color: white;position: relative;}#sk-container-id-175 div.sk-item::before, #sk-container-id-175 div.sk-parallel-item::before {content: \"\";position: absolute;border-left: 1px solid gray;box-sizing: border-box;top: 0;bottom: 0;left: 50%;z-index: -1;}#sk-container-id-175 div.sk-parallel-item {display: flex;flex-direction: column;z-index: 1;position: relative;background-color: white;}#sk-container-id-175 div.sk-parallel-item:first-child::after {align-self: flex-end;width: 50%;}#sk-container-id-175 div.sk-parallel-item:last-child::after {align-self: flex-start;width: 50%;}#sk-container-id-175 div.sk-parallel-item:only-child::after {width: 0;}#sk-container-id-175 div.sk-dashed-wrapped {border: 1px dashed gray;margin: 0 0.4em 0.5em 0.4em;box-sizing: border-box;padding-bottom: 0.4em;background-color: white;}#sk-container-id-175 div.sk-label label {font-family: monospace;font-weight: bold;display: inline-block;line-height: 1.2em;}#sk-container-id-175 div.sk-label-container {text-align: center;}#sk-container-id-175 div.sk-container {/* jupyter's `normalize.less` sets `[hidden] { display: none; }` but bootstrap.min.css set `[hidden] { display: none !important; }` so we also need the `!important` here to be able to override the default hidden behavior on the sphinx rendered scikit-learn.org. See: https://github.com/scikit-learn/scikit-learn/issues/21755 */display: inline-block !important;position: relative;}#sk-container-id-175 div.sk-text-repr-fallback {display: none;}</style><div id=\"sk-container-id-175\" class=\"sk-top-container\"><div class=\"sk-text-repr-fallback\"><pre>MLPClassifier(random_state=42, verbose=True)</pre><b>In a Jupyter environment, please rerun this cell to show the HTML representation or trust the notebook. <br />On GitHub, the HTML representation is unable to render, please try loading this page with nbviewer.org.</b></div><div class=\"sk-container\" hidden><div class=\"sk-item\"><div class=\"sk-estimator sk-toggleable\"><input class=\"sk-toggleable__control sk-hidden--visually\" id=\"sk-estimator-id-175\" type=\"checkbox\" checked><label for=\"sk-estimator-id-175\" class=\"sk-toggleable__label sk-toggleable__label-arrow\">MLPClassifier</label><div class=\"sk-toggleable__content\"><pre>MLPClassifier(random_state=42, verbose=True)</pre></div></div></div></div></div>"
            ],
            "text/plain": [
              "MLPClassifier(random_state=42, verbose=True)"
            ]
          },
          "execution_count": 2576,
          "metadata": {},
          "output_type": "execute_result"
        }
      ],
      "source": [
        "model.fit(X_train, y_train)"
      ]
    },
    {
      "cell_type": "code",
      "execution_count": 2577,
      "metadata": {
        "id": "NGY4UvLlNSfX"
      },
      "outputs": [],
      "source": [
        "y_pred = model.predict(X_test)"
      ]
    },
    {
      "cell_type": "code",
      "execution_count": 2578,
      "metadata": {},
      "outputs": [
        {
          "data": {
            "text/plain": [
              "0.8064516129032258"
            ]
          },
          "execution_count": 2578,
          "metadata": {},
          "output_type": "execute_result"
        }
      ],
      "source": [
        "model.score(X_test, y_test)"
      ]
    },
    {
      "cell_type": "code",
      "execution_count": 2579,
      "metadata": {
        "colab": {
          "base_uri": "https://localhost:8080/"
        },
        "id": "Nyy4Jy14NV0G",
        "outputId": "a0447dea-7ee8-4b97-dd24-0ff336517526"
      },
      "outputs": [
        {
          "name": "stdout",
          "output_type": "stream",
          "text": [
            "              precision    recall  f1-score   support\n",
            "\n",
            "    Abnormal       0.87      0.83      0.85        41\n",
            "      Normal       0.70      0.76      0.73        21\n",
            "\n",
            "    accuracy                           0.81        62\n",
            "   macro avg       0.78      0.80      0.79        62\n",
            "weighted avg       0.81      0.81      0.81        62\n",
            "\n"
          ]
        }
      ],
      "source": [
        "print(classification_report(y_test, y_pred))"
      ]
    },
    {
      "cell_type": "code",
      "execution_count": 2580,
      "metadata": {},
      "outputs": [
        {
          "data": {
            "image/png": "[encoded data removed]",
            "text/plain": [
              "<Figure size 640x480 with 2 Axes>"
            ]
          },
          "metadata": {},
          "output_type": "display_data"
        }
      ],
      "source": [
        "ConfusionMatrixDisplay.from_estimator(model, X_test, y_test)\n",
        "plt.show()"
      ]
    },
    {
      "cell_type": "code",
      "execution_count": 2581,
      "metadata": {},
      "outputs": [
        {
          "data": {
            "text/plain": [
              "Abnormal    169\n",
              "Normal       79\n",
              "Name: Class_att, dtype: int64"
            ]
          },
          "execution_count": 2581,
          "metadata": {},
          "output_type": "execute_result"
        }
      ],
      "source": [
        "y_train.value_counts()"
      ]
    },
    {
      "cell_type": "markdown",
      "metadata": {},
      "source": [
        "Como é possível perceber pelo <i>classification report</i>, temos uma facilidade maior do modelo em classificar corretamente a classe de <i>'abnormal'</i> (sobretudo olhando a métrica de precisão). De fato, ao observar o a distribuição dos valores no dataset de treino, é possível reparar que temos mais ocorrências dessa classe, do que da classe 'normal'. É necessário, então, fazer o balanceamento das classes no dataset de treino"
      ]
    },
    {
      "cell_type": "markdown",
      "metadata": {},
      "source": [
        "# Balanceamento de classes no dataset de treino"
      ]
    },
    {
      "cell_type": "code",
      "execution_count": 2582,
      "metadata": {},
      "outputs": [],
      "source": [
        "from imblearn.over_sampling import SMOTE\n",
        "smote = SMOTE(sampling_strategy='auto', random_state=42)  # Pode ajustar a estratégia de amostragem conforme necessário\n",
        "X_train_resampled, y_train_resampled = smote.fit_resample(X_train, y_train)"
      ]
    },
    {
      "cell_type": "code",
      "execution_count": 2583,
      "metadata": {},
      "outputs": [
        {
          "data": {
            "text/plain": [
              "{'activation': 'relu',\n",
              " 'alpha': 0.0001,\n",
              " 'batch_size': 'auto',\n",
              " 'beta_1': 0.9,\n",
              " 'beta_2': 0.999,\n",
              " 'early_stopping': False,\n",
              " 'epsilon': 1e-08,\n",
              " 'hidden_layer_sizes': (100,),\n",
              " 'learning_rate': 'constant',\n",
              " 'learning_rate_init': 0.001,\n",
              " 'max_fun': 15000,\n",
              " 'max_iter': 200,\n",
              " 'momentum': 0.9,\n",
              " 'n_iter_no_change': 10,\n",
              " 'nesterovs_momentum': True,\n",
              " 'power_t': 0.5,\n",
              " 'random_state': 42,\n",
              " 'shuffle': True,\n",
              " 'solver': 'adam',\n",
              " 'tol': 0.0001,\n",
              " 'validation_fraction': 0.1,\n",
              " 'verbose': True,\n",
              " 'warm_start': False}"
            ]
          },
          "execution_count": 2583,
          "metadata": {},
          "output_type": "execute_result"
        }
      ],
      "source": [
        "model = MLPClassifier(verbose=True, max_iter=200, random_state=42)\n",
        "model.get_params()"
      ]
    },
    {
      "cell_type": "code",
      "execution_count": 2584,
      "metadata": {},
      "outputs": [
        {
          "name": "stdout",
          "output_type": "stream",
          "text": [
            "Iteration 1, loss = 6.32803432\n",
            "Iteration 2, loss = 3.01651647\n",
            "Iteration 3, loss = 1.31505361\n",
            "Iteration 4, loss = 1.78455231\n",
            "Iteration 5, loss = 2.15412629\n",
            "Iteration 6, loss = 1.74631463\n",
            "Iteration 7, loss = 1.13178680\n",
            "Iteration 8, loss = 0.79359944\n",
            "Iteration 9, loss = 0.88874829\n",
            "Iteration 10, loss = 1.04184252\n",
            "Iteration 11, loss = 1.00580396\n",
            "Iteration 12, loss = 0.82290790\n",
            "Iteration 13, loss = 0.67925823\n",
            "Iteration 14, loss = 0.63366886\n",
            "Iteration 15, loss = 0.65651465\n",
            "Iteration 16, loss = 0.69366260\n",
            "Iteration 17, loss = 0.65725759\n",
            "Iteration 18, loss = 0.59971135\n",
            "Iteration 19, loss = 0.55183872\n",
            "Iteration 20, loss = 0.55454280\n",
            "Iteration 21, loss = 0.56005234\n",
            "Iteration 22, loss = 0.55051396\n",
            "Iteration 23, loss = 0.52988730\n",
            "Iteration 24, loss = 0.50729911\n",
            "Iteration 25, loss = 0.49871290\n",
            "Iteration 26, loss = 0.49737672\n",
            "Iteration 27, loss = 0.49119763\n",
            "Iteration 28, loss = 0.48007993\n",
            "Iteration 29, loss = 0.47152685\n",
            "Iteration 30, loss = 0.46737868\n",
            "Iteration 31, loss = 0.46264215\n",
            "Iteration 32, loss = 0.45547024\n",
            "Iteration 33, loss = 0.44744725\n",
            "Iteration 34, loss = 0.44369750\n",
            "Iteration 35, loss = 0.44453905\n",
            "Iteration 36, loss = 0.43775943\n",
            "Iteration 37, loss = 0.43136929\n",
            "Iteration 38, loss = 0.42941459\n",
            "Iteration 39, loss = 0.42606795\n",
            "Iteration 40, loss = 0.42141984\n",
            "Iteration 41, loss = 0.41784193\n",
            "Iteration 42, loss = 0.41322953\n",
            "Iteration 43, loss = 0.41045338\n",
            "Iteration 44, loss = 0.40580791\n",
            "Iteration 45, loss = 0.40225708\n",
            "Iteration 46, loss = 0.39952968\n",
            "Iteration 47, loss = 0.39580488\n",
            "Iteration 48, loss = 0.39320570\n",
            "Iteration 49, loss = 0.38837749\n",
            "Iteration 50, loss = 0.38552198\n",
            "Iteration 51, loss = 0.38320038\n",
            "Iteration 52, loss = 0.38071277\n",
            "Iteration 53, loss = 0.37765039\n",
            "Iteration 54, loss = 0.37441823\n",
            "Iteration 55, loss = 0.37241429\n",
            "Iteration 56, loss = 0.36890744\n",
            "Iteration 57, loss = 0.36665085\n",
            "Iteration 58, loss = 0.36702835\n",
            "Iteration 59, loss = 0.36291068\n",
            "Iteration 60, loss = 0.36076009\n",
            "Iteration 61, loss = 0.35673095\n",
            "Iteration 62, loss = 0.35487681\n",
            "Iteration 63, loss = 0.35239214\n",
            "Iteration 64, loss = 0.34960744\n",
            "Iteration 65, loss = 0.34861375\n",
            "Iteration 66, loss = 0.34703385\n",
            "Iteration 67, loss = 0.34407519\n",
            "Iteration 68, loss = 0.34163803\n",
            "Iteration 69, loss = 0.33980016\n",
            "Iteration 70, loss = 0.33694466\n",
            "Iteration 71, loss = 0.33677374\n",
            "Iteration 72, loss = 0.33434521\n",
            "Iteration 73, loss = 0.33036639\n",
            "Iteration 74, loss = 0.32819555\n",
            "Iteration 75, loss = 0.32589054\n",
            "Iteration 76, loss = 0.32449839\n",
            "Iteration 77, loss = 0.32067699\n",
            "Iteration 78, loss = 0.31913213\n",
            "Iteration 79, loss = 0.31880835\n",
            "Iteration 80, loss = 0.31480927\n",
            "Iteration 81, loss = 0.31413406\n",
            "Iteration 82, loss = 0.31120804\n",
            "Iteration 83, loss = 0.30977385\n",
            "Iteration 84, loss = 0.30800794\n",
            "Iteration 85, loss = 0.30564542\n",
            "Iteration 86, loss = 0.30478002\n",
            "Iteration 87, loss = 0.30387341\n",
            "Iteration 88, loss = 0.30049468\n",
            "Iteration 89, loss = 0.29808124\n",
            "Iteration 90, loss = 0.29849021\n",
            "Iteration 91, loss = 0.29581661\n",
            "Iteration 92, loss = 0.29309563\n",
            "Iteration 93, loss = 0.29154058\n",
            "Iteration 94, loss = 0.28821789\n",
            "Iteration 95, loss = 0.28955868\n",
            "Iteration 96, loss = 0.28694523\n",
            "Iteration 97, loss = 0.28259744\n",
            "Iteration 98, loss = 0.28143860\n",
            "Iteration 99, loss = 0.27893516\n",
            "Iteration 100, loss = 0.27751097\n",
            "Iteration 101, loss = 0.27621530\n",
            "Iteration 102, loss = 0.27462458\n",
            "Iteration 103, loss = 0.27335801\n",
            "Iteration 104, loss = 0.27296405\n",
            "Iteration 105, loss = 0.27042867\n",
            "Iteration 106, loss = 0.26970310\n",
            "Iteration 107, loss = 0.26845984\n",
            "Iteration 108, loss = 0.26709139\n",
            "Iteration 109, loss = 0.26572959\n",
            "Iteration 110, loss = 0.26489920\n",
            "Iteration 111, loss = 0.26389774\n",
            "Iteration 112, loss = 0.26170872\n",
            "Iteration 113, loss = 0.26289383\n",
            "Iteration 114, loss = 0.26055416\n",
            "Iteration 115, loss = 0.25882005\n",
            "Iteration 116, loss = 0.26002861\n",
            "Iteration 117, loss = 0.25768472\n",
            "Iteration 118, loss = 0.25691438\n",
            "Iteration 119, loss = 0.25608944\n",
            "Iteration 120, loss = 0.25490948\n",
            "Iteration 121, loss = 0.25407255\n",
            "Iteration 122, loss = 0.25307665\n",
            "Iteration 123, loss = 0.25226539\n",
            "Iteration 124, loss = 0.25133192\n",
            "Iteration 125, loss = 0.25065672\n",
            "Iteration 126, loss = 0.25115265\n",
            "Iteration 127, loss = 0.24949265\n",
            "Iteration 128, loss = 0.24864849\n",
            "Iteration 129, loss = 0.24957346\n",
            "Iteration 130, loss = 0.24767681\n",
            "Iteration 131, loss = 0.24910222\n",
            "Iteration 132, loss = 0.25090699\n",
            "Iteration 133, loss = 0.24609954\n",
            "Iteration 134, loss = 0.24525388\n",
            "Iteration 135, loss = 0.24423482\n",
            "Iteration 136, loss = 0.24657827\n",
            "Iteration 137, loss = 0.24379217\n",
            "Iteration 138, loss = 0.24358472\n",
            "Iteration 139, loss = 0.24235832\n",
            "Iteration 140, loss = 0.24200293\n",
            "Iteration 141, loss = 0.24214755\n",
            "Iteration 142, loss = 0.24046379\n",
            "Iteration 143, loss = 0.24082933\n",
            "Iteration 144, loss = 0.24122249\n",
            "Iteration 145, loss = 0.23932323\n",
            "Iteration 146, loss = 0.23873044\n",
            "Iteration 147, loss = 0.23816780\n",
            "Iteration 148, loss = 0.23760852\n",
            "Iteration 149, loss = 0.23792546\n",
            "Iteration 150, loss = 0.23702530\n",
            "Iteration 151, loss = 0.23741919\n",
            "Iteration 152, loss = 0.23722988\n",
            "Iteration 153, loss = 0.23671431\n",
            "Iteration 154, loss = 0.23724346\n",
            "Iteration 155, loss = 0.23527738\n",
            "Iteration 156, loss = 0.23601312\n",
            "Iteration 157, loss = 0.23482008\n",
            "Iteration 158, loss = 0.23243797\n",
            "Iteration 159, loss = 0.23481965\n",
            "Iteration 160, loss = 0.23362875\n",
            "Iteration 161, loss = 0.23566129\n",
            "Iteration 162, loss = 0.23369118\n",
            "Iteration 163, loss = 0.23115177\n",
            "Iteration 164, loss = 0.23176020\n",
            "Iteration 165, loss = 0.23024631\n",
            "Iteration 166, loss = 0.23152088\n",
            "Iteration 167, loss = 0.22945264\n",
            "Iteration 168, loss = 0.22896706\n",
            "Iteration 169, loss = 0.22841801\n",
            "Iteration 170, loss = 0.23028074\n",
            "Iteration 171, loss = 0.22978369\n",
            "Iteration 172, loss = 0.22906640\n",
            "Iteration 173, loss = 0.22658875\n",
            "Iteration 174, loss = 0.23121543\n",
            "Iteration 175, loss = 0.22763814\n",
            "Iteration 176, loss = 0.22897437\n",
            "Iteration 177, loss = 0.22621808\n",
            "Iteration 178, loss = 0.22831112\n",
            "Iteration 179, loss = 0.22728599\n",
            "Iteration 180, loss = 0.22434816\n",
            "Iteration 181, loss = 0.22604942\n",
            "Iteration 182, loss = 0.22560514\n",
            "Iteration 183, loss = 0.22585097\n",
            "Iteration 184, loss = 0.22364539\n",
            "Iteration 185, loss = 0.22389470\n",
            "Iteration 186, loss = 0.22260195\n",
            "Iteration 187, loss = 0.22234178\n",
            "Iteration 188, loss = 0.22291676\n",
            "Iteration 189, loss = 0.22193755\n",
            "Iteration 190, loss = 0.22144535\n",
            "Iteration 191, loss = 0.22199668\n",
            "Iteration 192, loss = 0.22342871\n",
            "Iteration 193, loss = 0.22110582\n",
            "Iteration 194, loss = 0.22217361\n",
            "Iteration 195, loss = 0.22071617\n",
            "Iteration 196, loss = 0.22024181\n",
            "Iteration 197, loss = 0.22133402\n",
            "Iteration 198, loss = 0.21891242\n",
            "Iteration 199, loss = 0.21904177\n",
            "Iteration 200, loss = 0.21906774\n"
          ]
        },
        {
          "name": "stderr",
          "output_type": "stream",
          "text": [
            "/home/cadu/anaconda3/lib/python3.11/site-packages/sklearn/neural_network/_multilayer_perceptron.py:686: ConvergenceWarning: Stochastic Optimizer: Maximum iterations (200) reached and the optimization hasn't converged yet.\n",
            "  warnings.warn(\n"
          ]
        },
        {
          "data": {
            "text/html": [
              "<style>#sk-container-id-176 {color: black;background-color: white;}#sk-container-id-176 pre{padding: 0;}#sk-container-id-176 div.sk-toggleable {background-color: white;}#sk-container-id-176 label.sk-toggleable__label {cursor: pointer;display: block;width: 100%;margin-bottom: 0;padding: 0.3em;box-sizing: border-box;text-align: center;}#sk-container-id-176 label.sk-toggleable__label-arrow:before {content: \"▸\";float: left;margin-right: 0.25em;color: #696969;}#sk-container-id-176 label.sk-toggleable__label-arrow:hover:before {color: black;}#sk-container-id-176 div.sk-estimator:hover label.sk-toggleable__label-arrow:before {color: black;}#sk-container-id-176 div.sk-toggleable__content {max-height: 0;max-width: 0;overflow: hidden;text-align: left;background-color: #f0f8ff;}#sk-container-id-176 div.sk-toggleable__content pre {margin: 0.2em;color: black;border-radius: 0.25em;background-color: #f0f8ff;}#sk-container-id-176 input.sk-toggleable__control:checked~div.sk-toggleable__content {max-height: 200px;max-width: 100%;overflow: auto;}#sk-container-id-176 input.sk-toggleable__control:checked~label.sk-toggleable__label-arrow:before {content: \"▾\";}#sk-container-id-176 div.sk-estimator input.sk-toggleable__control:checked~label.sk-toggleable__label {background-color: #d4ebff;}#sk-container-id-176 div.sk-label input.sk-toggleable__control:checked~label.sk-toggleable__label {background-color: #d4ebff;}#sk-container-id-176 input.sk-hidden--visually {border: 0;clip: rect(1px 1px 1px 1px);clip: rect(1px, 1px, 1px, 1px);height: 1px;margin: -1px;overflow: hidden;padding: 0;position: absolute;width: 1px;}#sk-container-id-176 div.sk-estimator {font-family: monospace;background-color: #f0f8ff;border: 1px dotted black;border-radius: 0.25em;box-sizing: border-box;margin-bottom: 0.5em;}#sk-container-id-176 div.sk-estimator:hover {background-color: #d4ebff;}#sk-container-id-176 div.sk-parallel-item::after {content: \"\";width: 100%;border-bottom: 1px solid gray;flex-grow: 1;}#sk-container-id-176 div.sk-label:hover label.sk-toggleable__label {background-color: #d4ebff;}#sk-container-id-176 div.sk-serial::before {content: \"\";position: absolute;border-left: 1px solid gray;box-sizing: border-box;top: 0;bottom: 0;left: 50%;z-index: 0;}#sk-container-id-176 div.sk-serial {display: flex;flex-direction: column;align-items: center;background-color: white;padding-right: 0.2em;padding-left: 0.2em;position: relative;}#sk-container-id-176 div.sk-item {position: relative;z-index: 1;}#sk-container-id-176 div.sk-parallel {display: flex;align-items: stretch;justify-content: center;background-color: white;position: relative;}#sk-container-id-176 div.sk-item::before, #sk-container-id-176 div.sk-parallel-item::before {content: \"\";position: absolute;border-left: 1px solid gray;box-sizing: border-box;top: 0;bottom: 0;left: 50%;z-index: -1;}#sk-container-id-176 div.sk-parallel-item {display: flex;flex-direction: column;z-index: 1;position: relative;background-color: white;}#sk-container-id-176 div.sk-parallel-item:first-child::after {align-self: flex-end;width: 50%;}#sk-container-id-176 div.sk-parallel-item:last-child::after {align-self: flex-start;width: 50%;}#sk-container-id-176 div.sk-parallel-item:only-child::after {width: 0;}#sk-container-id-176 div.sk-dashed-wrapped {border: 1px dashed gray;margin: 0 0.4em 0.5em 0.4em;box-sizing: border-box;padding-bottom: 0.4em;background-color: white;}#sk-container-id-176 div.sk-label label {font-family: monospace;font-weight: bold;display: inline-block;line-height: 1.2em;}#sk-container-id-176 div.sk-label-container {text-align: center;}#sk-container-id-176 div.sk-container {/* jupyter's `normalize.less` sets `[hidden] { display: none; }` but bootstrap.min.css set `[hidden] { display: none !important; }` so we also need the `!important` here to be able to override the default hidden behavior on the sphinx rendered scikit-learn.org. See: https://github.com/scikit-learn/scikit-learn/issues/21755 */display: inline-block !important;position: relative;}#sk-container-id-176 div.sk-text-repr-fallback {display: none;}</style><div id=\"sk-container-id-176\" class=\"sk-top-container\"><div class=\"sk-text-repr-fallback\"><pre>MLPClassifier(random_state=42, verbose=True)</pre><b>In a Jupyter environment, please rerun this cell to show the HTML representation or trust the notebook. <br />On GitHub, the HTML representation is unable to render, please try loading this page with nbviewer.org.</b></div><div class=\"sk-container\" hidden><div class=\"sk-item\"><div class=\"sk-estimator sk-toggleable\"><input class=\"sk-toggleable__control sk-hidden--visually\" id=\"sk-estimator-id-176\" type=\"checkbox\" checked><label for=\"sk-estimator-id-176\" class=\"sk-toggleable__label sk-toggleable__label-arrow\">MLPClassifier</label><div class=\"sk-toggleable__content\"><pre>MLPClassifier(random_state=42, verbose=True)</pre></div></div></div></div></div>"
            ],
            "text/plain": [
              "MLPClassifier(random_state=42, verbose=True)"
            ]
          },
          "execution_count": 2584,
          "metadata": {},
          "output_type": "execute_result"
        }
      ],
      "source": [
        "model.fit(X_train_resampled, y_train_resampled)"
      ]
    },
    {
      "cell_type": "code",
      "execution_count": 2585,
      "metadata": {},
      "outputs": [],
      "source": [
        "y_pred = model.predict(X_test)"
      ]
    },
    {
      "cell_type": "code",
      "execution_count": 2586,
      "metadata": {},
      "outputs": [
        {
          "name": "stdout",
          "output_type": "stream",
          "text": [
            "              precision    recall  f1-score   support\n",
            "\n",
            "    Abnormal       0.91      0.78      0.84        41\n",
            "      Normal       0.67      0.86      0.75        21\n",
            "\n",
            "    accuracy                           0.81        62\n",
            "   macro avg       0.79      0.82      0.80        62\n",
            "weighted avg       0.83      0.81      0.81        62\n",
            "\n"
          ]
        }
      ],
      "source": [
        "print(classification_report(y_test, y_pred))"
      ]
    },
    {
      "cell_type": "code",
      "execution_count": 2587,
      "metadata": {},
      "outputs": [
        {
          "data": {
            "image/png": "[encoded data removed]",
            "text/plain": [
              "<Figure size 640x480 with 2 Axes>"
            ]
          },
          "metadata": {},
          "output_type": "display_data"
        }
      ],
      "source": [
        "ConfusionMatrixDisplay.from_estimator(model, X_test, y_test)\n",
        "plt.show()"
      ]
    },
    {
      "cell_type": "code",
      "execution_count": 2588,
      "metadata": {},
      "outputs": [
        {
          "data": {
            "text/plain": [
              "(298, 13)"
            ]
          },
          "execution_count": 2588,
          "metadata": {},
          "output_type": "execute_result"
        }
      ],
      "source": [
        "#WIP: removing outliers\n",
        "from scipy import stats\n",
        "outliers_removed = df[(np.abs(stats.zscore(X)) < 3).all(axis=1)]\n",
        "outliers_removed.shape"
      ]
    },
    {
      "cell_type": "code",
      "execution_count": 2589,
      "metadata": {},
      "outputs": [
        {
          "name": "stdout",
          "output_type": "stream",
          "text": [
            "Iteration 1, loss = 9.26068715\n",
            "Iteration 2, loss = 4.57920091\n",
            "Iteration 3, loss = 1.52988891\n",
            "Iteration 4, loss = 1.38432154\n",
            "Iteration 5, loss = 2.12724785\n",
            "Iteration 6, loss = 2.49206331\n",
            "Iteration 7, loss = 2.42621711\n",
            "Iteration 8, loss = 2.06857676\n",
            "Iteration 9, loss = 1.57137653\n",
            "Iteration 10, loss = 1.10296525\n",
            "Iteration 11, loss = 0.86548157\n",
            "Iteration 12, loss = 0.85590090\n",
            "Iteration 13, loss = 0.97001123\n",
            "Iteration 14, loss = 1.02037639\n",
            "Iteration 15, loss = 0.94812904\n",
            "Iteration 16, loss = 0.81640113\n",
            "Iteration 17, loss = 0.73446947\n",
            "Iteration 18, loss = 0.73096075\n",
            "Iteration 19, loss = 0.74703459\n",
            "Iteration 20, loss = 0.73459524\n",
            "Iteration 21, loss = 0.69359508\n",
            "Iteration 22, loss = 0.65189221\n",
            "Iteration 23, loss = 0.65606889\n",
            "Iteration 24, loss = 0.67631908\n",
            "Iteration 25, loss = 0.67970151\n",
            "Iteration 26, loss = 0.65561601\n",
            "Iteration 27, loss = 0.61881023\n",
            "Iteration 28, loss = 0.59853564\n",
            "Iteration 29, loss = 0.60197528\n",
            "Iteration 30, loss = 0.60180990\n",
            "Iteration 31, loss = 0.58602028\n",
            "Iteration 32, loss = 0.56736533\n",
            "Iteration 33, loss = 0.56472084\n",
            "Iteration 34, loss = 0.55641540\n",
            "Iteration 35, loss = 0.54828679\n",
            "Iteration 36, loss = 0.54213450\n",
            "Iteration 37, loss = 0.53579238\n",
            "Iteration 38, loss = 0.53031893\n",
            "Iteration 39, loss = 0.52424452\n",
            "Iteration 40, loss = 0.52037691\n",
            "Iteration 41, loss = 0.51268838\n",
            "Iteration 42, loss = 0.50769775\n",
            "Iteration 43, loss = 0.50650310\n",
            "Iteration 44, loss = 0.50054414\n",
            "Iteration 45, loss = 0.49405209\n",
            "Iteration 46, loss = 0.48912854\n",
            "Iteration 47, loss = 0.48359962\n",
            "Iteration 48, loss = 0.48244686\n",
            "Iteration 49, loss = 0.48746437\n",
            "Iteration 50, loss = 0.48271154\n",
            "Iteration 51, loss = 0.46986803\n",
            "Iteration 52, loss = 0.47534206\n",
            "Iteration 53, loss = 0.47488044\n",
            "Iteration 54, loss = 0.45706851\n",
            "Iteration 55, loss = 0.46025628\n",
            "Iteration 56, loss = 0.46348165\n",
            "Iteration 57, loss = 0.44767683\n",
            "Iteration 58, loss = 0.44772949\n",
            "Iteration 59, loss = 0.45259879\n",
            "Iteration 60, loss = 0.44419822\n",
            "Iteration 61, loss = 0.43213905\n",
            "Iteration 62, loss = 0.43345167\n",
            "Iteration 63, loss = 0.43916260\n",
            "Iteration 64, loss = 0.43098417\n",
            "Iteration 65, loss = 0.41885603\n",
            "Iteration 66, loss = 0.41895620\n",
            "Iteration 67, loss = 0.42027613\n",
            "Iteration 68, loss = 0.41710987\n",
            "Iteration 69, loss = 0.41076119\n",
            "Iteration 70, loss = 0.40666548\n",
            "Iteration 71, loss = 0.40324447\n",
            "Iteration 72, loss = 0.40023704\n",
            "Iteration 73, loss = 0.39756202\n",
            "Iteration 74, loss = 0.39717635\n",
            "Iteration 75, loss = 0.39297798\n",
            "Iteration 76, loss = 0.39005125\n",
            "Iteration 77, loss = 0.38827068\n",
            "Iteration 78, loss = 0.38558342\n",
            "Iteration 79, loss = 0.38391172\n",
            "Iteration 80, loss = 0.37995297\n",
            "Iteration 81, loss = 0.37748718\n",
            "Iteration 82, loss = 0.37637708\n",
            "Iteration 83, loss = 0.37318454\n",
            "Iteration 84, loss = 0.37088711\n",
            "Iteration 85, loss = 0.36494961\n",
            "Iteration 86, loss = 0.36665321\n",
            "Iteration 87, loss = 0.36701410\n",
            "Iteration 88, loss = 0.36020468\n",
            "Iteration 89, loss = 0.35620192\n",
            "Iteration 90, loss = 0.35585130\n",
            "Iteration 91, loss = 0.35515716\n",
            "Iteration 92, loss = 0.35417863\n",
            "Iteration 93, loss = 0.35134116\n",
            "Iteration 94, loss = 0.35159189\n",
            "Iteration 95, loss = 0.34619748\n",
            "Iteration 96, loss = 0.35141299\n",
            "Iteration 97, loss = 0.34925782\n",
            "Iteration 98, loss = 0.34073372\n",
            "Iteration 99, loss = 0.35248062\n",
            "Iteration 100, loss = 0.33805537\n",
            "Iteration 101, loss = 0.34821782\n",
            "Iteration 102, loss = 0.36878671\n",
            "Iteration 103, loss = 0.33540746\n",
            "Iteration 104, loss = 0.35026825\n",
            "Iteration 105, loss = 0.37193539\n",
            "Iteration 106, loss = 0.33411935\n",
            "Iteration 107, loss = 0.34242749\n",
            "Iteration 108, loss = 0.36079424\n",
            "Iteration 109, loss = 0.32936527\n",
            "Iteration 110, loss = 0.34139089\n",
            "Iteration 111, loss = 0.35130930\n",
            "Iteration 112, loss = 0.32288135\n",
            "Iteration 113, loss = 0.33203812\n",
            "Iteration 114, loss = 0.35403636\n",
            "Iteration 115, loss = 0.32797754\n",
            "Iteration 116, loss = 0.32162301\n",
            "Iteration 117, loss = 0.33212404\n",
            "Iteration 118, loss = 0.32329586\n",
            "Iteration 119, loss = 0.32365293\n",
            "Iteration 120, loss = 0.31837215\n",
            "Iteration 121, loss = 0.31457623\n",
            "Iteration 122, loss = 0.31709778\n",
            "Iteration 123, loss = 0.31571361\n",
            "Iteration 124, loss = 0.31251038\n",
            "Iteration 125, loss = 0.31161227\n",
            "Iteration 126, loss = 0.30976499\n",
            "Iteration 127, loss = 0.30728762\n",
            "Iteration 128, loss = 0.30668527\n",
            "Iteration 129, loss = 0.30559212\n",
            "Iteration 130, loss = 0.30871812\n",
            "Iteration 131, loss = 0.30844580\n",
            "Iteration 132, loss = 0.31215930\n",
            "Iteration 133, loss = 0.31049006\n",
            "Iteration 134, loss = 0.31174260\n",
            "Iteration 135, loss = 0.30613439\n",
            "Iteration 136, loss = 0.30399376\n",
            "Iteration 137, loss = 0.30221578\n",
            "Iteration 138, loss = 0.30142033\n",
            "Iteration 139, loss = 0.30136989\n",
            "Iteration 140, loss = 0.30122147\n",
            "Iteration 141, loss = 0.29928655\n",
            "Iteration 142, loss = 0.29897288\n",
            "Iteration 143, loss = 0.29842184\n",
            "Iteration 144, loss = 0.30264451\n",
            "Iteration 145, loss = 0.30298886\n",
            "Iteration 146, loss = 0.29729230\n",
            "Iteration 147, loss = 0.29602263\n",
            "Iteration 148, loss = 0.29706678\n",
            "Iteration 149, loss = 0.29769922\n",
            "Iteration 150, loss = 0.30724398\n",
            "Iteration 151, loss = 0.29798479\n",
            "Iteration 152, loss = 0.30116708\n",
            "Iteration 153, loss = 0.31177570\n",
            "Iteration 154, loss = 0.29264812\n",
            "Iteration 155, loss = 0.30818229\n",
            "Iteration 156, loss = 0.29693636\n",
            "Iteration 157, loss = 0.29930472\n",
            "Iteration 158, loss = 0.32571951\n",
            "Iteration 159, loss = 0.30705225\n",
            "Iteration 160, loss = 0.29074278\n",
            "Iteration 161, loss = 0.29058424\n",
            "Iteration 162, loss = 0.29365488\n",
            "Iteration 163, loss = 0.29186403\n",
            "Iteration 164, loss = 0.28768724\n",
            "Iteration 165, loss = 0.28705998\n",
            "Iteration 166, loss = 0.28765102\n",
            "Iteration 167, loss = 0.28933892\n",
            "Iteration 168, loss = 0.28638850\n",
            "Iteration 169, loss = 0.28951353\n",
            "Iteration 170, loss = 0.28923380\n",
            "Iteration 171, loss = 0.28870780\n",
            "Iteration 172, loss = 0.28898862\n",
            "Iteration 173, loss = 0.28458877\n",
            "Iteration 174, loss = 0.28726361\n",
            "Iteration 175, loss = 0.28468916\n",
            "Iteration 176, loss = 0.29346524\n",
            "Iteration 177, loss = 0.28400562\n",
            "Iteration 178, loss = 0.28910483\n",
            "Iteration 179, loss = 0.29128951\n",
            "Iteration 180, loss = 0.28377475\n",
            "Iteration 181, loss = 0.28129212\n",
            "Iteration 182, loss = 0.28177541\n",
            "Iteration 183, loss = 0.28115676\n",
            "Iteration 184, loss = 0.28124469\n",
            "Iteration 185, loss = 0.28172937\n",
            "Iteration 186, loss = 0.28135675\n",
            "Iteration 187, loss = 0.27989209\n",
            "Iteration 188, loss = 0.28089915\n",
            "Iteration 189, loss = 0.28042844\n",
            "Iteration 190, loss = 0.28762790\n",
            "Iteration 191, loss = 0.28009556\n",
            "Iteration 192, loss = 0.27902183\n",
            "Iteration 193, loss = 0.29777071\n",
            "Iteration 194, loss = 0.28679965\n",
            "Iteration 195, loss = 0.28000992\n",
            "Iteration 196, loss = 0.28025479\n",
            "Iteration 197, loss = 0.28886048\n",
            "Iteration 198, loss = 0.28449963\n",
            "Iteration 199, loss = 0.28749697\n",
            "Iteration 200, loss = 0.28271847\n",
            "              precision    recall  f1-score   support\n",
            "\n",
            "    Abnormal       0.81      0.91      0.86        33\n",
            "      Normal       0.87      0.74      0.80        27\n",
            "\n",
            "    accuracy                           0.83        60\n",
            "   macro avg       0.84      0.82      0.83        60\n",
            "weighted avg       0.84      0.83      0.83        60\n",
            "\n"
          ]
        },
        {
          "name": "stderr",
          "output_type": "stream",
          "text": [
            "/home/cadu/anaconda3/lib/python3.11/site-packages/sklearn/neural_network/_multilayer_perceptron.py:686: ConvergenceWarning: Stochastic Optimizer: Maximum iterations (200) reached and the optimization hasn't converged yet.\n",
            "  warnings.warn(\n"
          ]
        }
      ],
      "source": [
        "y = outliers_removed['Class_att']\n",
        "X = outliers_removed.drop(['Class_att'], axis=1)\n",
        "\n",
        "X_train, X_test, y_train, y_test = train_test_split(X, y, train_size=0.8, shuffle=True)\n",
        "model = MLPClassifier(verbose=True, max_iter=200, random_state=42)\n",
        "# smote = SMOTE(sampling_strategy='auto', random_state=42)  # Pode ajustar a estratégia de amostragem conforme necessário\n",
        "# X_train_resampled, y_train_resampled = smote.fit_resample(X_train, y_train)\n",
        "model.fit(X_train, y_train)\n",
        "y_pred = model.predict(X_test)\n",
        "print(classification_report(y_test, y_pred))\n"
      ]
    },
    {
      "cell_type": "markdown",
      "metadata": {
        "id": "yH1fLjQbNeMc"
      },
      "source": [
        "# using kfold\n",
        "acho que nao funcionou mto bem"
      ]
    },
    {
      "cell_type": "code",
      "execution_count": 2590,
      "metadata": {
        "id": "LW2ElCgSKJHB"
      },
      "outputs": [],
      "source": [
        "kf = KFold(n_splits=3, shuffle=False)"
      ]
    },
    {
      "cell_type": "code",
      "execution_count": 2591,
      "metadata": {
        "colab": {
          "base_uri": "https://localhost:8080/"
        },
        "id": "kWuA_QeqITy_",
        "outputId": "55febf88-1256-41e4-bfc7-5fd02ddaa9aa"
      },
      "outputs": [
        {
          "data": {
            "text/plain": [
              "{'activation': 'relu',\n",
              " 'alpha': 0.0001,\n",
              " 'batch_size': 'auto',\n",
              " 'beta_1': 0.9,\n",
              " 'beta_2': 0.999,\n",
              " 'early_stopping': False,\n",
              " 'epsilon': 1e-08,\n",
              " 'hidden_layer_sizes': (100,),\n",
              " 'learning_rate': 'constant',\n",
              " 'learning_rate_init': 0.001,\n",
              " 'max_fun': 15000,\n",
              " 'max_iter': 200,\n",
              " 'momentum': 0.9,\n",
              " 'n_iter_no_change': 10,\n",
              " 'nesterovs_momentum': True,\n",
              " 'power_t': 0.5,\n",
              " 'random_state': None,\n",
              " 'shuffle': True,\n",
              " 'solver': 'adam',\n",
              " 'tol': 0.0001,\n",
              " 'validation_fraction': 0.1,\n",
              " 'verbose': False,\n",
              " 'warm_start': False}"
            ]
          },
          "execution_count": 2591,
          "metadata": {},
          "output_type": "execute_result"
        }
      ],
      "source": [
        "model = MLPClassifier(verbose=False)\n",
        "model.get_params()"
      ]
    },
    {
      "cell_type": "code",
      "execution_count": 2592,
      "metadata": {
        "colab": {
          "base_uri": "https://localhost:8080/"
        },
        "id": "58vBV-ZfIYqz",
        "outputId": "30b43a8a-0ebd-432b-8292-dde79fd375c8"
      },
      "outputs": [
        {
          "name": "stdout",
          "output_type": "stream",
          "text": [
            "iteration 0:\n",
            "              precision    recall  f1-score   support\n",
            "\n",
            "    Abnormal       1.00      0.41      0.58       100\n",
            "      Normal       0.00      0.00      0.00         0\n",
            "\n",
            "    accuracy                           0.41       100\n",
            "   macro avg       0.50      0.20      0.29       100\n",
            "weighted avg       1.00      0.41      0.58       100\n",
            "\n",
            "iteration 1:\n",
            "              precision    recall  f1-score   support\n",
            "\n",
            "    Abnormal       0.99      0.98      0.98        98\n",
            "      Normal       0.00      0.00      0.00         1\n",
            "\n",
            "    accuracy                           0.97        99\n",
            "   macro avg       0.49      0.49      0.49        99\n",
            "weighted avg       0.98      0.97      0.97        99\n",
            "\n",
            "iteration 2:\n",
            "              precision    recall  f1-score   support\n",
            "\n",
            "    Abnormal       0.00      0.00      0.00       0.0\n",
            "      Normal       0.00      0.00      0.00      99.0\n",
            "\n",
            "    accuracy                           0.00      99.0\n",
            "   macro avg       0.00      0.00      0.00      99.0\n",
            "weighted avg       0.00      0.00      0.00      99.0\n",
            "\n"
          ]
        },
        {
          "name": "stderr",
          "output_type": "stream",
          "text": [
            "/home/cadu/anaconda3/lib/python3.11/site-packages/sklearn/neural_network/_multilayer_perceptron.py:686: ConvergenceWarning: Stochastic Optimizer: Maximum iterations (200) reached and the optimization hasn't converged yet.\n",
            "  warnings.warn(\n",
            "/home/cadu/anaconda3/lib/python3.11/site-packages/sklearn/metrics/_classification.py:1344: UndefinedMetricWarning: Recall and F-score are ill-defined and being set to 0.0 in labels with no true samples. Use `zero_division` parameter to control this behavior.\n",
            "  _warn_prf(average, modifier, msg_start, len(result))\n",
            "/home/cadu/anaconda3/lib/python3.11/site-packages/sklearn/metrics/_classification.py:1344: UndefinedMetricWarning: Recall and F-score are ill-defined and being set to 0.0 in labels with no true samples. Use `zero_division` parameter to control this behavior.\n",
            "  _warn_prf(average, modifier, msg_start, len(result))\n",
            "/home/cadu/anaconda3/lib/python3.11/site-packages/sklearn/metrics/_classification.py:1344: UndefinedMetricWarning: Recall and F-score are ill-defined and being set to 0.0 in labels with no true samples. Use `zero_division` parameter to control this behavior.\n",
            "  _warn_prf(average, modifier, msg_start, len(result))\n",
            "/home/cadu/anaconda3/lib/python3.11/site-packages/sklearn/neural_network/_multilayer_perceptron.py:686: ConvergenceWarning: Stochastic Optimizer: Maximum iterations (200) reached and the optimization hasn't converged yet.\n",
            "  warnings.warn(\n",
            "/home/cadu/anaconda3/lib/python3.11/site-packages/sklearn/metrics/_classification.py:1344: UndefinedMetricWarning: Precision and F-score are ill-defined and being set to 0.0 in labels with no predicted samples. Use `zero_division` parameter to control this behavior.\n",
            "  _warn_prf(average, modifier, msg_start, len(result))\n",
            "/home/cadu/anaconda3/lib/python3.11/site-packages/sklearn/metrics/_classification.py:1344: UndefinedMetricWarning: Recall and F-score are ill-defined and being set to 0.0 in labels with no true samples. Use `zero_division` parameter to control this behavior.\n",
            "  _warn_prf(average, modifier, msg_start, len(result))\n",
            "/home/cadu/anaconda3/lib/python3.11/site-packages/sklearn/metrics/_classification.py:1344: UndefinedMetricWarning: Precision and F-score are ill-defined and being set to 0.0 in labels with no predicted samples. Use `zero_division` parameter to control this behavior.\n",
            "  _warn_prf(average, modifier, msg_start, len(result))\n",
            "/home/cadu/anaconda3/lib/python3.11/site-packages/sklearn/metrics/_classification.py:1344: UndefinedMetricWarning: Recall and F-score are ill-defined and being set to 0.0 in labels with no true samples. Use `zero_division` parameter to control this behavior.\n",
            "  _warn_prf(average, modifier, msg_start, len(result))\n",
            "/home/cadu/anaconda3/lib/python3.11/site-packages/sklearn/metrics/_classification.py:1344: UndefinedMetricWarning: Precision and F-score are ill-defined and being set to 0.0 in labels with no predicted samples. Use `zero_division` parameter to control this behavior.\n",
            "  _warn_prf(average, modifier, msg_start, len(result))\n",
            "/home/cadu/anaconda3/lib/python3.11/site-packages/sklearn/metrics/_classification.py:1344: UndefinedMetricWarning: Recall and F-score are ill-defined and being set to 0.0 in labels with no true samples. Use `zero_division` parameter to control this behavior.\n",
            "  _warn_prf(average, modifier, msg_start, len(result))\n"
          ]
        }
      ],
      "source": [
        "for i, (train_index, test_index) in enumerate(kf.split(X)):\n",
        "  print(f\"iteration {i}:\")\n",
        "  X_train = X.iloc[train_index]\n",
        "  y_train = y.iloc[train_index]\n",
        "  X_test = X.iloc[test_index]\n",
        "  y_test = y.iloc[test_index]\n",
        "\n",
        "  model.fit(X_train, y_train)\n",
        "  y_pred = model.predict(X_test)\n",
        "\n",
        "  print(classification_report(y_test, y_pred))"
      ]
    },
    {
      "cell_type": "code",
      "execution_count": 2593,
      "metadata": {
        "id": "GzgPK28yPPnq"
      },
      "outputs": [],
      "source": [
        "y_pred = model.predict(X_test)"
      ]
    },
    {
      "cell_type": "code",
      "execution_count": 2594,
      "metadata": {
        "colab": {
          "base_uri": "https://localhost:8080/"
        },
        "id": "whfzzsCZPT8R",
        "outputId": "6c8f1938-53fc-4d85-d43e-b1d3f6e81ccc"
      },
      "outputs": [
        {
          "name": "stdout",
          "output_type": "stream",
          "text": [
            "              precision    recall  f1-score   support\n",
            "\n",
            "    Abnormal       0.00      0.00      0.00       0.0\n",
            "      Normal       0.00      0.00      0.00      99.0\n",
            "\n",
            "    accuracy                           0.00      99.0\n",
            "   macro avg       0.00      0.00      0.00      99.0\n",
            "weighted avg       0.00      0.00      0.00      99.0\n",
            "\n"
          ]
        },
        {
          "name": "stderr",
          "output_type": "stream",
          "text": [
            "/home/cadu/anaconda3/lib/python3.11/site-packages/sklearn/metrics/_classification.py:1344: UndefinedMetricWarning: Precision and F-score are ill-defined and being set to 0.0 in labels with no predicted samples. Use `zero_division` parameter to control this behavior.\n",
            "  _warn_prf(average, modifier, msg_start, len(result))\n",
            "/home/cadu/anaconda3/lib/python3.11/site-packages/sklearn/metrics/_classification.py:1344: UndefinedMetricWarning: Recall and F-score are ill-defined and being set to 0.0 in labels with no true samples. Use `zero_division` parameter to control this behavior.\n",
            "  _warn_prf(average, modifier, msg_start, len(result))\n",
            "/home/cadu/anaconda3/lib/python3.11/site-packages/sklearn/metrics/_classification.py:1344: UndefinedMetricWarning: Precision and F-score are ill-defined and being set to 0.0 in labels with no predicted samples. Use `zero_division` parameter to control this behavior.\n",
            "  _warn_prf(average, modifier, msg_start, len(result))\n",
            "/home/cadu/anaconda3/lib/python3.11/site-packages/sklearn/metrics/_classification.py:1344: UndefinedMetricWarning: Recall and F-score are ill-defined and being set to 0.0 in labels with no true samples. Use `zero_division` parameter to control this behavior.\n",
            "  _warn_prf(average, modifier, msg_start, len(result))\n",
            "/home/cadu/anaconda3/lib/python3.11/site-packages/sklearn/metrics/_classification.py:1344: UndefinedMetricWarning: Precision and F-score are ill-defined and being set to 0.0 in labels with no predicted samples. Use `zero_division` parameter to control this behavior.\n",
            "  _warn_prf(average, modifier, msg_start, len(result))\n",
            "/home/cadu/anaconda3/lib/python3.11/site-packages/sklearn/metrics/_classification.py:1344: UndefinedMetricWarning: Recall and F-score are ill-defined and being set to 0.0 in labels with no true samples. Use `zero_division` parameter to control this behavior.\n",
            "  _warn_prf(average, modifier, msg_start, len(result))\n"
          ]
        }
      ],
      "source": [
        "print(classification_report(y_test, y_pred))"
      ]
    },
    {
      "cell_type": "code",
      "execution_count": 2595,
      "metadata": {
        "id": "IaC3J9GrJft7"
      },
      "outputs": [],
      "source": [
        "from sklearn import metrics\n",
        "from sklearn.metrics import ConfusionMatrixDisplay\n",
        "import matplotlib.pyplot as plt"
      ]
    },
    {
      "cell_type": "code",
      "execution_count": 2596,
      "metadata": {
        "colab": {
          "base_uri": "https://localhost:8080/",
          "height": 390
        },
        "id": "oXX4vogJmZdv",
        "outputId": "a85c642c-5f56-4485-e5dd-cf1381f33d76"
      },
      "outputs": [
        {
          "name": "stderr",
          "output_type": "stream",
          "text": [
            "/home/cadu/anaconda3/lib/python3.11/site-packages/sklearn/metrics/_ranking.py:769: FutureWarning: elementwise comparison failed; returning scalar instead, but in the future will perform elementwise comparison\n",
            "  y_true = y_true == pos_label\n"
          ]
        },
        {
          "ename": "TypeError",
          "evalue": "'bool' object is not subscriptable",
          "output_type": "error",
          "traceback": [
            "\u001b[0;31m---------------------------------------------------------------------------\u001b[0m",
            "\u001b[0;31mTypeError\u001b[0m                                 Traceback (most recent call last)",
            "Cell \u001b[0;32mIn[2596], line 1\u001b[0m\n\u001b[0;32m----> 1\u001b[0m fpr, tpr, thresholds \u001b[39m=\u001b[39m metrics\u001b[39m.\u001b[39mroc_curve(y_pred, y_test, pos_label\u001b[39m=\u001b[39m\u001b[39m1\u001b[39m)\n",
            "File \u001b[0;32m~/anaconda3/lib/python3.11/site-packages/sklearn/metrics/_ranking.py:992\u001b[0m, in \u001b[0;36mroc_curve\u001b[0;34m(y_true, y_score, pos_label, sample_weight, drop_intermediate)\u001b[0m\n\u001b[1;32m    904\u001b[0m \u001b[39mdef\u001b[39;00m \u001b[39mroc_curve\u001b[39m(\n\u001b[1;32m    905\u001b[0m     y_true, y_score, \u001b[39m*\u001b[39m, pos_label\u001b[39m=\u001b[39m\u001b[39mNone\u001b[39;00m, sample_weight\u001b[39m=\u001b[39m\u001b[39mNone\u001b[39;00m, drop_intermediate\u001b[39m=\u001b[39m\u001b[39mTrue\u001b[39;00m\n\u001b[1;32m    906\u001b[0m ):\n\u001b[1;32m    907\u001b[0m \u001b[39m    \u001b[39m\u001b[39m\"\"\"Compute Receiver operating characteristic (ROC).\u001b[39;00m\n\u001b[1;32m    908\u001b[0m \n\u001b[1;32m    909\u001b[0m \u001b[39m    Note: this implementation is restricted to the binary classification task.\u001b[39;00m\n\u001b[0;32m   (...)\u001b[0m\n\u001b[1;32m    990\u001b[0m \u001b[39m    array([1.8 , 0.8 , 0.4 , 0.35, 0.1 ])\u001b[39;00m\n\u001b[1;32m    991\u001b[0m \u001b[39m    \"\"\"\u001b[39;00m\n\u001b[0;32m--> 992\u001b[0m     fps, tps, thresholds \u001b[39m=\u001b[39m _binary_clf_curve(\n\u001b[1;32m    993\u001b[0m         y_true, y_score, pos_label\u001b[39m=\u001b[39mpos_label, sample_weight\u001b[39m=\u001b[39msample_weight\n\u001b[1;32m    994\u001b[0m     )\n\u001b[1;32m    996\u001b[0m     \u001b[39m# Attempt to drop thresholds corresponding to points in between and\u001b[39;00m\n\u001b[1;32m    997\u001b[0m     \u001b[39m# collinear with other points. These are always suboptimal and do not\u001b[39;00m\n\u001b[1;32m    998\u001b[0m     \u001b[39m# appear on a plotted ROC curve (and thus do not affect the AUC).\u001b[39;00m\n\u001b[0;32m   (...)\u001b[0m\n\u001b[1;32m   1003\u001b[0m     \u001b[39m# but does not drop more complicated cases like fps = [1, 3, 7],\u001b[39;00m\n\u001b[1;32m   1004\u001b[0m     \u001b[39m# tps = [1, 2, 4]; there is no harm in keeping too many thresholds.\u001b[39;00m\n\u001b[1;32m   1005\u001b[0m     \u001b[39mif\u001b[39;00m drop_intermediate \u001b[39mand\u001b[39;00m \u001b[39mlen\u001b[39m(fps) \u001b[39m>\u001b[39m \u001b[39m2\u001b[39m:\n",
            "File \u001b[0;32m~/anaconda3/lib/python3.11/site-packages/sklearn/metrics/_ranking.py:774\u001b[0m, in \u001b[0;36m_binary_clf_curve\u001b[0;34m(y_true, y_score, pos_label, sample_weight)\u001b[0m\n\u001b[1;32m    772\u001b[0m desc_score_indices \u001b[39m=\u001b[39m np\u001b[39m.\u001b[39margsort(y_score, kind\u001b[39m=\u001b[39m\u001b[39m\"\u001b[39m\u001b[39mmergesort\u001b[39m\u001b[39m\"\u001b[39m)[::\u001b[39m-\u001b[39m\u001b[39m1\u001b[39m]\n\u001b[1;32m    773\u001b[0m y_score \u001b[39m=\u001b[39m y_score[desc_score_indices]\n\u001b[0;32m--> 774\u001b[0m y_true \u001b[39m=\u001b[39m y_true[desc_score_indices]\n\u001b[1;32m    775\u001b[0m \u001b[39mif\u001b[39;00m sample_weight \u001b[39mis\u001b[39;00m \u001b[39mnot\u001b[39;00m \u001b[39mNone\u001b[39;00m:\n\u001b[1;32m    776\u001b[0m     weight \u001b[39m=\u001b[39m sample_weight[desc_score_indices]\n",
            "\u001b[0;31mTypeError\u001b[0m: 'bool' object is not subscriptable"
          ]
        }
      ],
      "source": [
        "fpr, tpr, thresholds = metrics.roc_curve(y_pred, y_test, pos_label=1)"
      ]
    }
  ],
  "metadata": {
    "colab": {
      "provenance": []
    },
    "kernelspec": {
      "display_name": "Python 3",
      "name": "python3"
    },
    "language_info": {
      "codemirror_mode": {
        "name": "ipython",
        "version": 3
      },
      "file_extension": ".py",
      "mimetype": "text/x-python",
      "name": "python",
      "nbconvert_exporter": "python",
      "pygments_lexer": "ipython3",
      "version": "3.11.4"
    }
  },
  "nbformat": 4,
  "nbformat_minor": 0
}

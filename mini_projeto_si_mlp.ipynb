{
  "cells": [
    {
      "cell_type": "markdown",
      "metadata": {
        "id": "tmfGy0hVlhys"
      },
      "source": [
        "<h1>Projeto MLP: Classificação de sintomas de dor nas costas 🤕</h1> \n",
        "\n",
        "<p>Este projeto é parte da disciplina de Sistemas Inteligentes. Nele trabalharemos com a base de dados \"Lower Back Pain Symptoms Dataset\" com o objetivo de classificar os dados utilizando uma MLP.</p>"
      ]
    },
    {
      "cell_type": "markdown",
      "metadata": {
        "id": "rhL96SfxrIqd"
      },
      "source": [
        "# Análise e tratamento de dados 🕵️"
      ]
    },
    {
      "cell_type": "markdown",
      "metadata": {
        "id": "vhDrociymhZz"
      },
      "source": [
        "Nesta sessão iremos analisar nossa base de dados, buscando entender seus atributos, analisar possíveis anomalias e definir dados de treino, validação e teste.\n",
        "\n",
        "Primeiramente vamos importar as bibliotecas necessárias sendo elas:\n",
        "- Numpy: Operações matemáticas;\n",
        "- Pandas: Manipulação de datasets;\n",
        "- Sklearn: Modelos de machine learning.\n",
        "- Seaborn/Matplotlib: Plotagem de gráficos"
      ]
    },
    {
      "cell_type": "code",
      "execution_count": 67,
      "metadata": {
        "id": "elZ6kDFhFIml"
      },
      "outputs": [],
      "source": [
        "# importando bibliotecas\n",
        "import numpy as np\n",
        "import pandas as pd\n",
        "import seaborn as sns\n",
        "import matplotlib.pyplot as plt\n",
        "from sklearn import metrics\n",
        "from sklearn.neural_network import MLPClassifier\n",
        "from sklearn.model_selection import train_test_split, KFold\n",
        "from sklearn.metrics import classification_report, ConfusionMatrixDisplay"
      ]
    },
    {
      "cell_type": "markdown",
      "metadata": {
        "id": "rrLeqYRfo_8S"
      },
      "source": [
        "Agora importamos a base de dados utilizando o pandas"
      ]
    },
    {
      "cell_type": "code",
      "execution_count": 69,
      "metadata": {
        "colab": {
          "base_uri": "https://localhost:8080/",
          "height": 206
        },
        "id": "p0oafFbBGRxk",
        "outputId": "f0037cf4-bea9-4f71-ab58-a073e5e7ae08"
      },
      "outputs": [
        {
          "data": {
            "text/html": [
              "<div>\n",
              "<style scoped>\n",
              "    .dataframe tbody tr th:only-of-type {\n",
              "        vertical-align: middle;\n",
              "    }\n",
              "\n",
              "    .dataframe tbody tr th {\n",
              "        vertical-align: top;\n",
              "    }\n",
              "\n",
              "    .dataframe thead th {\n",
              "        text-align: right;\n",
              "    }\n",
              "</style>\n",
              "<table border=\"1\" class=\"dataframe\">\n",
              "  <thead>\n",
              "    <tr style=\"text-align: right;\">\n",
              "      <th></th>\n",
              "      <th>Col1</th>\n",
              "      <th>Col2</th>\n",
              "      <th>Col3</th>\n",
              "      <th>Col4</th>\n",
              "      <th>Col5</th>\n",
              "      <th>Col6</th>\n",
              "      <th>Col7</th>\n",
              "      <th>Col8</th>\n",
              "      <th>Col9</th>\n",
              "      <th>Col10</th>\n",
              "      <th>Col11</th>\n",
              "      <th>Col12</th>\n",
              "      <th>Class_att</th>\n",
              "      <th>Unnamed: 13</th>\n",
              "    </tr>\n",
              "  </thead>\n",
              "  <tbody>\n",
              "    <tr>\n",
              "      <th>0</th>\n",
              "      <td>63.027817</td>\n",
              "      <td>22.552586</td>\n",
              "      <td>39.609117</td>\n",
              "      <td>40.475232</td>\n",
              "      <td>98.672917</td>\n",
              "      <td>-0.254400</td>\n",
              "      <td>0.744503</td>\n",
              "      <td>12.5661</td>\n",
              "      <td>14.5386</td>\n",
              "      <td>15.30468</td>\n",
              "      <td>-28.658501</td>\n",
              "      <td>43.5123</td>\n",
              "      <td>Abnormal</td>\n",
              "      <td>NaN</td>\n",
              "    </tr>\n",
              "    <tr>\n",
              "      <th>1</th>\n",
              "      <td>39.056951</td>\n",
              "      <td>10.060991</td>\n",
              "      <td>25.015378</td>\n",
              "      <td>28.995960</td>\n",
              "      <td>114.405425</td>\n",
              "      <td>4.564259</td>\n",
              "      <td>0.415186</td>\n",
              "      <td>12.8874</td>\n",
              "      <td>17.5323</td>\n",
              "      <td>16.78486</td>\n",
              "      <td>-25.530607</td>\n",
              "      <td>16.1102</td>\n",
              "      <td>Abnormal</td>\n",
              "      <td>NaN</td>\n",
              "    </tr>\n",
              "    <tr>\n",
              "      <th>2</th>\n",
              "      <td>68.832021</td>\n",
              "      <td>22.218482</td>\n",
              "      <td>50.092194</td>\n",
              "      <td>46.613539</td>\n",
              "      <td>105.985135</td>\n",
              "      <td>-3.530317</td>\n",
              "      <td>0.474889</td>\n",
              "      <td>26.8343</td>\n",
              "      <td>17.4861</td>\n",
              "      <td>16.65897</td>\n",
              "      <td>-29.031888</td>\n",
              "      <td>19.2221</td>\n",
              "      <td>Abnormal</td>\n",
              "      <td>Prediction is done by using binary classificat...</td>\n",
              "    </tr>\n",
              "    <tr>\n",
              "      <th>3</th>\n",
              "      <td>69.297008</td>\n",
              "      <td>24.652878</td>\n",
              "      <td>44.311238</td>\n",
              "      <td>44.644130</td>\n",
              "      <td>101.868495</td>\n",
              "      <td>11.211523</td>\n",
              "      <td>0.369345</td>\n",
              "      <td>23.5603</td>\n",
              "      <td>12.7074</td>\n",
              "      <td>11.42447</td>\n",
              "      <td>-30.470246</td>\n",
              "      <td>18.8329</td>\n",
              "      <td>Abnormal</td>\n",
              "      <td>NaN</td>\n",
              "    </tr>\n",
              "    <tr>\n",
              "      <th>4</th>\n",
              "      <td>49.712859</td>\n",
              "      <td>9.652075</td>\n",
              "      <td>28.317406</td>\n",
              "      <td>40.060784</td>\n",
              "      <td>108.168725</td>\n",
              "      <td>7.918501</td>\n",
              "      <td>0.543360</td>\n",
              "      <td>35.4940</td>\n",
              "      <td>15.9546</td>\n",
              "      <td>8.87237</td>\n",
              "      <td>-16.378376</td>\n",
              "      <td>24.9171</td>\n",
              "      <td>Abnormal</td>\n",
              "      <td>NaN</td>\n",
              "    </tr>\n",
              "  </tbody>\n",
              "</table>\n",
              "</div>"
            ],
            "text/plain": [
              "        Col1       Col2       Col3       Col4        Col5       Col6  \\\n",
              "0  63.027817  22.552586  39.609117  40.475232   98.672917  -0.254400   \n",
              "1  39.056951  10.060991  25.015378  28.995960  114.405425   4.564259   \n",
              "2  68.832021  22.218482  50.092194  46.613539  105.985135  -3.530317   \n",
              "3  69.297008  24.652878  44.311238  44.644130  101.868495  11.211523   \n",
              "4  49.712859   9.652075  28.317406  40.060784  108.168725   7.918501   \n",
              "\n",
              "       Col7     Col8     Col9     Col10      Col11    Col12 Class_att  \\\n",
              "0  0.744503  12.5661  14.5386  15.30468 -28.658501  43.5123  Abnormal   \n",
              "1  0.415186  12.8874  17.5323  16.78486 -25.530607  16.1102  Abnormal   \n",
              "2  0.474889  26.8343  17.4861  16.65897 -29.031888  19.2221  Abnormal   \n",
              "3  0.369345  23.5603  12.7074  11.42447 -30.470246  18.8329  Abnormal   \n",
              "4  0.543360  35.4940  15.9546   8.87237 -16.378376  24.9171  Abnormal   \n",
              "\n",
              "                                         Unnamed: 13  \n",
              "0                                                NaN  \n",
              "1                                                NaN  \n",
              "2  Prediction is done by using binary classificat...  \n",
              "3                                                NaN  \n",
              "4                                                NaN  "
            ]
          },
          "execution_count": 69,
          "metadata": {},
          "output_type": "execute_result"
        }
      ],
      "source": [
        "# Importando dados e visualizando algumas instâncias\n",
        "df = pd.read_csv('./Dataset_spine.csv')\n",
        "df.head()"
      ]
    },
    {
      "cell_type": "markdown",
      "metadata": {
        "id": "NURoDBl4nnLg"
      },
      "source": [
        "Como a coluna 'Unnamed:13' os rotúlos do dataset que não são útes para a classificação, então podemos remove-lá.\n",
        "\n",
        "Nesse momento também separamos os atributos utilizados no treino da classificação\n"
      ]
    },
    {
      "cell_type": "code",
      "execution_count": 22,
      "metadata": {
        "id": "_clblVHkHeud"
      },
      "outputs": [],
      "source": [
        "df = df.drop(['Unnamed: 13'], axis=1)\n",
        "y = df['Class_att']\n",
        "X = df.drop(['Class_att'], axis=1)"
      ]
    },
    {
      "cell_type": "markdown",
      "metadata": {
        "id": "G1bs1ZYIr3RE"
      },
      "source": [
        "Agora, verificamos se há dados faltantes em alguma das colunas"
      ]
    },
    {
      "cell_type": "code",
      "execution_count": 15,
      "metadata": {
        "colab": {
          "base_uri": "https://localhost:8080/"
        },
        "id": "oJrVuJ79tR-H",
        "outputId": "698f4b2c-3e1b-43d1-8e14-ccd08fbe6547"
      },
      "outputs": [
        {
          "name": "stdout",
          "output_type": "stream",
          "text": [
            "Col1         0\n",
            "Col2         0\n",
            "Col3         0\n",
            "Col4         0\n",
            "Col5         0\n",
            "Col6         0\n",
            "Col7         0\n",
            "Col8         0\n",
            "Col9         0\n",
            "Col10        0\n",
            "Col11        0\n",
            "Col12        0\n",
            "Class_att    0\n",
            "dtype: int64\n"
          ]
        }
      ],
      "source": [
        "print(df.isnull().sum())"
      ]
    },
    {
      "cell_type": "markdown",
      "metadata": {},
      "source": [
        " Como não encontramos nenhum NaN, podemos assumir que não há dados faltando em nenhuma das colunas, portanto não será necessário aplicar oversampling ou técnicas similares.\n",
        "\n",
        " Em seguida, vamos visualizar os outliers."
      ]
    },
    {
      "cell_type": "code",
      "execution_count": 54,
      "metadata": {},
      "outputs": [
        {
          "data": {
            "image/png": "[encoded data removed]",
            "text/plain": [
              "<Figure size 1200x800 with 12 Axes>"
            ]
          },
          "metadata": {},
          "output_type": "display_data"
        }
      ],
      "source": [
        "import matplotlib.pyplot as plt\n",
        "import seaborn as sns\n",
        "\n",
        "# Crie uma grade de subplots 3x4 (3 linhas e 4 colunas)\n",
        "fig, axes = plt.subplots(3, 4, figsize=(12, 8))\n",
        "\n",
        "# Itere pelas colunas e adicione os boxplots aos subplots\n",
        "for col in range(1, 13):\n",
        "    row = (col - 1) // 4  # Calcule a linha atual\n",
        "    col_idx = (col - 1) % 4  # Calcule a coluna atual\n",
        "    ax = axes[row, col_idx]  # Obtenha o subplot atual\n",
        "\n",
        "    sns.boxplot(df[f'Col{col}'], ax=ax)\n",
        "    ax.set_title(f'Box Plot da Coluna {col}')\n",
        "\n",
        "# Ajuste o layout\n",
        "plt.tight_layout()\n",
        "\n",
        "# Exiba o gráfico\n",
        "plt.show()"
      ]
    },
    {
      "cell_type": "markdown",
      "metadata": {},
      "source": [
        "posições do outlier (vamos usar?)"
      ]
    },
    {
      "cell_type": "code",
      "execution_count": 61,
      "metadata": {},
      "outputs": [
        {
          "name": "stdout",
          "output_type": "stream",
          "text": [
            "(array([ 85, 167, 180]),)\n"
          ]
        }
      ],
      "source": [
        "from scipy import stats\n",
        "z = np.abs(stats.zscore(df['Col5']))\n",
        "threshold = 3\n",
        "# Position of the outlier\n",
        "print(np.where(z > threshold))"
      ]
    },
    {
      "cell_type": "markdown",
      "metadata": {
        "id": "AL2sRiu6NHvE"
      },
      "source": [
        "\n",
        "# Primeiro Treino 💪"
      ]
    },
    {
      "cell_type": "code",
      "execution_count": 62,
      "metadata": {
        "id": "9Lr6LeUyH4sx"
      },
      "outputs": [],
      "source": [
        "X_train, X_test, y_train, y_test = train_test_split(X, y, train_size=0.8, shuffle=True)"
      ]
    },
    {
      "cell_type": "code",
      "execution_count": null,
      "metadata": {
        "colab": {
          "base_uri": "https://localhost:8080/"
        },
        "id": "ULGoU6gaNQD3",
        "outputId": "2dbcd01f-bf6f-46b9-a570-1d3e4b3ca863"
      },
      "outputs": [],
      "source": [
        "model = MLPClassifier(verbose=True)\n",
        "model.get_params()"
      ]
    },
    {
      "cell_type": "code",
      "execution_count": null,
      "metadata": {
        "colab": {
          "base_uri": "https://localhost:8080/",
          "height": 1000
        },
        "id": "FoAyj4BxNMEx",
        "outputId": "5353a4e0-38c4-43bb-a67a-e39239f7dcbe"
      },
      "outputs": [],
      "source": [
        "model.fit(X_train, y_train)"
      ]
    },
    {
      "cell_type": "code",
      "execution_count": 65,
      "metadata": {
        "id": "NGY4UvLlNSfX"
      },
      "outputs": [],
      "source": [
        "y_pred = model.predict(X_test)"
      ]
    },
    {
      "cell_type": "code",
      "execution_count": null,
      "metadata": {
        "colab": {
          "base_uri": "https://localhost:8080/"
        },
        "id": "Nyy4Jy14NV0G",
        "outputId": "a0447dea-7ee8-4b97-dd24-0ff336517526"
      },
      "outputs": [],
      "source": [
        "print(classification_report(y_test, y_pred))"
      ]
    },
    {
      "cell_type": "code",
      "execution_count": 68,
      "metadata": {},
      "outputs": [
        {
          "data": {
            "image/png": "[encoded data removed]",
            "text/plain": [
              "<Figure size 640x480 with 2 Axes>"
            ]
          },
          "metadata": {},
          "output_type": "display_data"
        }
      ],
      "source": [
        "ConfusionMatrixDisplay.from_estimator(model, X_test, y_test)\n",
        "plt.show()"
      ]
    },
    {
      "cell_type": "markdown",
      "metadata": {
        "id": "yH1fLjQbNeMc"
      },
      "source": [
        "# using kfold\n",
        "acho que nao funcionou mto bem"
      ]
    },
    {
      "cell_type": "code",
      "execution_count": null,
      "metadata": {
        "id": "LW2ElCgSKJHB"
      },
      "outputs": [],
      "source": [
        "kf = KFold(n_splits=3, shuffle=False)"
      ]
    },
    {
      "cell_type": "code",
      "execution_count": null,
      "metadata": {
        "colab": {
          "base_uri": "https://localhost:8080/"
        },
        "id": "kWuA_QeqITy_",
        "outputId": "55febf88-1256-41e4-bfc7-5fd02ddaa9aa"
      },
      "outputs": [],
      "source": [
        "model = MLPClassifier(verbose=False)\n",
        "model.get_params()"
      ]
    },
    {
      "cell_type": "code",
      "execution_count": null,
      "metadata": {
        "colab": {
          "base_uri": "https://localhost:8080/"
        },
        "id": "58vBV-ZfIYqz",
        "outputId": "30b43a8a-0ebd-432b-8292-dde79fd375c8"
      },
      "outputs": [],
      "source": [
        "for i, (train_index, test_index) in enumerate(kf.split(X)):\n",
        "  print(f\"iteration {i}:\")\n",
        "  X_train = X.iloc[train_index]\n",
        "  y_train = y.iloc[train_index]\n",
        "  X_test = X.iloc[test_index]\n",
        "  y_test = y.iloc[test_index]\n",
        "\n",
        "  model.fit(X_train, y_train)\n",
        "  y_pred = model.predict(X_test)\n",
        "\n",
        "  print(classification_report(y_test, y_pred))"
      ]
    },
    {
      "cell_type": "code",
      "execution_count": null,
      "metadata": {
        "id": "GzgPK28yPPnq"
      },
      "outputs": [],
      "source": [
        "y_pred = model.predict(X_test)"
      ]
    },
    {
      "cell_type": "code",
      "execution_count": null,
      "metadata": {
        "colab": {
          "base_uri": "https://localhost:8080/"
        },
        "id": "whfzzsCZPT8R",
        "outputId": "6c8f1938-53fc-4d85-d43e-b1d3f6e81ccc"
      },
      "outputs": [],
      "source": [
        "print(classification_report(y_test, y_pred))"
      ]
    },
    {
      "cell_type": "code",
      "execution_count": null,
      "metadata": {
        "id": "IaC3J9GrJft7"
      },
      "outputs": [],
      "source": [
        "from sklearn import metrics\n",
        "from sklearn.metrics import ConfusionMatrixDisplay\n",
        "import matplotlib.pyplot as plt"
      ]
    },
    {
      "cell_type": "code",
      "execution_count": null,
      "metadata": {
        "colab": {
          "base_uri": "https://localhost:8080/",
          "height": 390
        },
        "id": "oXX4vogJmZdv",
        "outputId": "a85c642c-5f56-4485-e5dd-cf1381f33d76"
      },
      "outputs": [],
      "source": [
        "fpr, tpr, thresholds = metrics.roc_curve(y_pred, y_test, pos_label=1)"
      ]
    }
  ],
  "metadata": {
    "colab": {
      "provenance": []
    },
    "kernelspec": {
      "display_name": "Python 3",
      "name": "python3"
    },
    "language_info": {
      "codemirror_mode": {
        "name": "ipython",
        "version": 3
      },
      "file_extension": ".py",
      "mimetype": "text/x-python",
      "name": "python",
      "nbconvert_exporter": "python",
      "pygments_lexer": "ipython3",
      "version": "3.11.4"
    }
  },
  "nbformat": 4,
  "nbformat_minor": 0
}

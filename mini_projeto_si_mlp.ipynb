{
  "cells": [
    {
      "cell_type": "markdown",
      "metadata": {
        "id": "tmfGy0hVlhys"
      },
      "source": [
        "<h1>Projeto MLP: Classificação de sintomas de dor nas costas 🤕</h1> \n",
        "\n",
        "<p>Este projeto é parte da disciplina de Sistemas Inteligentes. Nele trabalharemos com a base de dados \"Lower Back Pain Symptoms Dataset\" com o objetivo de classificar os dados utilizando uma MLP.</p>"
      ]
    },
    {
      "cell_type": "markdown",
      "metadata": {
        "id": "rhL96SfxrIqd"
      },
      "source": [
        "# Análise e tratamento de dados 🕵️"
      ]
    },
    {
      "cell_type": "markdown",
      "metadata": {
        "id": "vhDrociymhZz"
      },
      "source": [
        "Nesta sessão iremos analisar nossa base de dados, buscando entender seus atributos, analisar possíveis anomalias e definir dados de treino, validação e teste.\n",
        "\n",
        "Primeiramente vamos importar as bibliotecas necessárias sendo elas:\n",
        "- Numpy: Operações matemáticas;\n",
        "- Pandas: Manipulação de datasets;\n",
        "- Sklearn: Modelos de machine learning.\n",
        "- Seaborn/Matplotlib: Plotagem de gráficos"
      ]
    },
    {
      "cell_type": "code",
      "execution_count": 476,
      "metadata": {
        "id": "elZ6kDFhFIml"
      },
      "outputs": [],
      "source": [
        "# importando bibliotecas\n",
        "import numpy as np\n",
        "import pandas as pd\n",
        "import seaborn as sns\n",
        "import matplotlib.pyplot as plt\n",
        "from sklearn import metrics\n",
        "from sklearn.neural_network import MLPClassifier\n",
        "from sklearn.model_selection import train_test_split, KFold\n",
        "from sklearn.metrics import classification_report, ConfusionMatrixDisplay"
      ]
    },
    {
      "cell_type": "markdown",
      "metadata": {
        "id": "rrLeqYRfo_8S"
      },
      "source": [
        "Agora importamos a base de dados utilizando o pandas"
      ]
    },
    {
      "cell_type": "code",
      "execution_count": 477,
      "metadata": {
        "colab": {
          "base_uri": "https://localhost:8080/",
          "height": 206
        },
        "id": "p0oafFbBGRxk",
        "outputId": "f0037cf4-bea9-4f71-ab58-a073e5e7ae08"
      },
      "outputs": [
        {
          "data": {
            "text/html": [
              "<div>\n",
              "<style scoped>\n",
              "    .dataframe tbody tr th:only-of-type {\n",
              "        vertical-align: middle;\n",
              "    }\n",
              "\n",
              "    .dataframe tbody tr th {\n",
              "        vertical-align: top;\n",
              "    }\n",
              "\n",
              "    .dataframe thead th {\n",
              "        text-align: right;\n",
              "    }\n",
              "</style>\n",
              "<table border=\"1\" class=\"dataframe\">\n",
              "  <thead>\n",
              "    <tr style=\"text-align: right;\">\n",
              "      <th></th>\n",
              "      <th>Col1</th>\n",
              "      <th>Col2</th>\n",
              "      <th>Col3</th>\n",
              "      <th>Col4</th>\n",
              "      <th>Col5</th>\n",
              "      <th>Col6</th>\n",
              "      <th>Col7</th>\n",
              "      <th>Col8</th>\n",
              "      <th>Col9</th>\n",
              "      <th>Col10</th>\n",
              "      <th>Col11</th>\n",
              "      <th>Col12</th>\n",
              "      <th>Class_att</th>\n",
              "      <th>Unnamed: 13</th>\n",
              "    </tr>\n",
              "  </thead>\n",
              "  <tbody>\n",
              "    <tr>\n",
              "      <th>0</th>\n",
              "      <td>63.027817</td>\n",
              "      <td>22.552586</td>\n",
              "      <td>39.609117</td>\n",
              "      <td>40.475232</td>\n",
              "      <td>98.672917</td>\n",
              "      <td>-0.254400</td>\n",
              "      <td>0.744503</td>\n",
              "      <td>12.5661</td>\n",
              "      <td>14.5386</td>\n",
              "      <td>15.30468</td>\n",
              "      <td>-28.658501</td>\n",
              "      <td>43.5123</td>\n",
              "      <td>Abnormal</td>\n",
              "      <td>NaN</td>\n",
              "    </tr>\n",
              "    <tr>\n",
              "      <th>1</th>\n",
              "      <td>39.056951</td>\n",
              "      <td>10.060991</td>\n",
              "      <td>25.015378</td>\n",
              "      <td>28.995960</td>\n",
              "      <td>114.405425</td>\n",
              "      <td>4.564259</td>\n",
              "      <td>0.415186</td>\n",
              "      <td>12.8874</td>\n",
              "      <td>17.5323</td>\n",
              "      <td>16.78486</td>\n",
              "      <td>-25.530607</td>\n",
              "      <td>16.1102</td>\n",
              "      <td>Abnormal</td>\n",
              "      <td>NaN</td>\n",
              "    </tr>\n",
              "    <tr>\n",
              "      <th>2</th>\n",
              "      <td>68.832021</td>\n",
              "      <td>22.218482</td>\n",
              "      <td>50.092194</td>\n",
              "      <td>46.613539</td>\n",
              "      <td>105.985135</td>\n",
              "      <td>-3.530317</td>\n",
              "      <td>0.474889</td>\n",
              "      <td>26.8343</td>\n",
              "      <td>17.4861</td>\n",
              "      <td>16.65897</td>\n",
              "      <td>-29.031888</td>\n",
              "      <td>19.2221</td>\n",
              "      <td>Abnormal</td>\n",
              "      <td>Prediction is done by using binary classificat...</td>\n",
              "    </tr>\n",
              "    <tr>\n",
              "      <th>3</th>\n",
              "      <td>69.297008</td>\n",
              "      <td>24.652878</td>\n",
              "      <td>44.311238</td>\n",
              "      <td>44.644130</td>\n",
              "      <td>101.868495</td>\n",
              "      <td>11.211523</td>\n",
              "      <td>0.369345</td>\n",
              "      <td>23.5603</td>\n",
              "      <td>12.7074</td>\n",
              "      <td>11.42447</td>\n",
              "      <td>-30.470246</td>\n",
              "      <td>18.8329</td>\n",
              "      <td>Abnormal</td>\n",
              "      <td>NaN</td>\n",
              "    </tr>\n",
              "    <tr>\n",
              "      <th>4</th>\n",
              "      <td>49.712859</td>\n",
              "      <td>9.652075</td>\n",
              "      <td>28.317406</td>\n",
              "      <td>40.060784</td>\n",
              "      <td>108.168725</td>\n",
              "      <td>7.918501</td>\n",
              "      <td>0.543360</td>\n",
              "      <td>35.4940</td>\n",
              "      <td>15.9546</td>\n",
              "      <td>8.87237</td>\n",
              "      <td>-16.378376</td>\n",
              "      <td>24.9171</td>\n",
              "      <td>Abnormal</td>\n",
              "      <td>NaN</td>\n",
              "    </tr>\n",
              "  </tbody>\n",
              "</table>\n",
              "</div>"
            ],
            "text/plain": [
              "        Col1       Col2       Col3       Col4        Col5       Col6  \\\n",
              "0  63.027817  22.552586  39.609117  40.475232   98.672917  -0.254400   \n",
              "1  39.056951  10.060991  25.015378  28.995960  114.405425   4.564259   \n",
              "2  68.832021  22.218482  50.092194  46.613539  105.985135  -3.530317   \n",
              "3  69.297008  24.652878  44.311238  44.644130  101.868495  11.211523   \n",
              "4  49.712859   9.652075  28.317406  40.060784  108.168725   7.918501   \n",
              "\n",
              "       Col7     Col8     Col9     Col10      Col11    Col12 Class_att  \\\n",
              "0  0.744503  12.5661  14.5386  15.30468 -28.658501  43.5123  Abnormal   \n",
              "1  0.415186  12.8874  17.5323  16.78486 -25.530607  16.1102  Abnormal   \n",
              "2  0.474889  26.8343  17.4861  16.65897 -29.031888  19.2221  Abnormal   \n",
              "3  0.369345  23.5603  12.7074  11.42447 -30.470246  18.8329  Abnormal   \n",
              "4  0.543360  35.4940  15.9546   8.87237 -16.378376  24.9171  Abnormal   \n",
              "\n",
              "                                         Unnamed: 13  \n",
              "0                                                NaN  \n",
              "1                                                NaN  \n",
              "2  Prediction is done by using binary classificat...  \n",
              "3                                                NaN  \n",
              "4                                                NaN  "
            ]
          },
          "execution_count": 477,
          "metadata": {},
          "output_type": "execute_result"
        }
      ],
      "source": [
        "# Importando dados e visualizando algumas instâncias\n",
        "df = pd.read_csv('./Dataset_spine.csv')\n",
        "df.head()"
      ]
    },
    {
      "cell_type": "markdown",
      "metadata": {
        "id": "NURoDBl4nnLg"
      },
      "source": [
        "Como a coluna 'Unnamed:13' os rotúlos do dataset que não são útes para a classificação, então podemos remove-lá.\n",
        "\n",
        "Nesse momento também separamos os atributos utilizados no treino da classificação\n"
      ]
    },
    {
      "cell_type": "code",
      "execution_count": 478,
      "metadata": {
        "id": "_clblVHkHeud"
      },
      "outputs": [],
      "source": [
        "df = df.drop(['Unnamed: 13'], axis=1)\n",
        "y = df['Class_att']\n",
        "X = df.drop(['Class_att'], axis=1)"
      ]
    },
    {
      "cell_type": "markdown",
      "metadata": {
        "id": "G1bs1ZYIr3RE"
      },
      "source": [
        "Agora, verificamos se há dados faltantes em alguma das colunas"
      ]
    },
    {
      "cell_type": "code",
      "execution_count": 479,
      "metadata": {
        "colab": {
          "base_uri": "https://localhost:8080/"
        },
        "id": "oJrVuJ79tR-H",
        "outputId": "698f4b2c-3e1b-43d1-8e14-ccd08fbe6547"
      },
      "outputs": [
        {
          "name": "stdout",
          "output_type": "stream",
          "text": [
            "Col1         0\n",
            "Col2         0\n",
            "Col3         0\n",
            "Col4         0\n",
            "Col5         0\n",
            "Col6         0\n",
            "Col7         0\n",
            "Col8         0\n",
            "Col9         0\n",
            "Col10        0\n",
            "Col11        0\n",
            "Col12        0\n",
            "Class_att    0\n",
            "dtype: int64\n"
          ]
        }
      ],
      "source": [
        "print(df.isnull().sum())"
      ]
    },
    {
      "cell_type": "markdown",
      "metadata": {},
      "source": [
        " Como não encontramos nenhum NaN, podemos assumir que não há dados faltando em nenhuma das colunas, portanto não será necessário realizar tratamento para esses casos.\n",
        " Em seguida, vamos visualizar os outliers."
      ]
    },
    {
      "cell_type": "code",
      "execution_count": 480,
      "metadata": {},
      "outputs": [
        {
          "data": {
            "image/png": "[encoded data removed]",
            "text/plain": [
              "<Figure size 1200x800 with 12 Axes>"
            ]
          },
          "metadata": {},
          "output_type": "display_data"
        }
      ],
      "source": [
        "import matplotlib.pyplot as plt\n",
        "import seaborn as sns\n",
        "\n",
        "# Crie uma grade de subplots 3x4 (3 linhas e 4 colunas)\n",
        "fig, axes = plt.subplots(3, 4, figsize=(12, 8))\n",
        "\n",
        "# Itere pelas colunas e adicione os boxplots aos subplots\n",
        "for col in range(1, 13):\n",
        "    row = (col - 1) // 4  # Calcule a linha atual\n",
        "    col_idx = (col - 1) % 4  # Calcule a coluna atual\n",
        "    ax = axes[row, col_idx]  # Obtenha o subplot atual\n",
        "\n",
        "    sns.boxplot(df[f'Col{col}'], ax=ax)\n",
        "    ax.set_title(f'Box Plot da Coluna {col}')\n",
        "\n",
        "# Ajuste o layout\n",
        "plt.tight_layout()\n",
        "\n",
        "# Exiba o gráfico\n",
        "plt.show()"
      ]
    },
    {
      "cell_type": "markdown",
      "metadata": {},
      "source": [
        "posições do outlier (vamos usar?)"
      ]
    },
    {
      "cell_type": "code",
      "execution_count": 481,
      "metadata": {},
      "outputs": [
        {
          "name": "stdout",
          "output_type": "stream",
          "text": [
            "(array([ 85, 167, 180]),)\n"
          ]
        }
      ],
      "source": [
        "from scipy import stats\n",
        "z = np.abs(stats.zscore(df['Col5']))\n",
        "threshold = 3\n",
        "# Position of the outlier\n",
        "print(np.where(z > threshold))"
      ]
    },
    {
      "cell_type": "markdown",
      "metadata": {
        "id": "AL2sRiu6NHvE"
      },
      "source": [
        "\n",
        "# Primeiro Treino 💪"
      ]
    },
    {
      "cell_type": "code",
      "execution_count": 482,
      "metadata": {
        "id": "9Lr6LeUyH4sx"
      },
      "outputs": [],
      "source": [
        "X_train, X_test, y_train, y_test = train_test_split(X, y, train_size=0.8, shuffle=True)"
      ]
    },
    {
      "cell_type": "code",
      "execution_count": 483,
      "metadata": {
        "colab": {
          "base_uri": "https://localhost:8080/"
        },
        "id": "ULGoU6gaNQD3",
        "outputId": "2dbcd01f-bf6f-46b9-a570-1d3e4b3ca863"
      },
      "outputs": [
        {
          "data": {
            "text/plain": [
              "{'activation': 'relu',\n",
              " 'alpha': 0.0001,\n",
              " 'batch_size': 'auto',\n",
              " 'beta_1': 0.9,\n",
              " 'beta_2': 0.999,\n",
              " 'early_stopping': False,\n",
              " 'epsilon': 1e-08,\n",
              " 'hidden_layer_sizes': (100,),\n",
              " 'learning_rate': 'constant',\n",
              " 'learning_rate_init': 0.001,\n",
              " 'max_fun': 15000,\n",
              " 'max_iter': 200,\n",
              " 'momentum': 0.9,\n",
              " 'n_iter_no_change': 10,\n",
              " 'nesterovs_momentum': True,\n",
              " 'power_t': 0.5,\n",
              " 'random_state': None,\n",
              " 'shuffle': True,\n",
              " 'solver': 'adam',\n",
              " 'tol': 0.0001,\n",
              " 'validation_fraction': 0.1,\n",
              " 'verbose': True,\n",
              " 'warm_start': False}"
            ]
          },
          "execution_count": 483,
          "metadata": {},
          "output_type": "execute_result"
        }
      ],
      "source": [
        "model = MLPClassifier(verbose=True, max_iter=200)\n",
        "model.get_params()"
      ]
    },
    {
      "cell_type": "code",
      "execution_count": 484,
      "metadata": {
        "colab": {
          "base_uri": "https://localhost:8080/",
          "height": 1000
        },
        "id": "FoAyj4BxNMEx",
        "outputId": "5353a4e0-38c4-43bb-a67a-e39239f7dcbe"
      },
      "outputs": [
        {
          "name": "stdout",
          "output_type": "stream",
          "text": [
            "Iteration 1, loss = 18.65924640\n",
            "Iteration 2, loss = 13.39233028\n",
            "Iteration 3, loss = 8.20175247\n",
            "Iteration 4, loss = 4.01118445\n",
            "Iteration 5, loss = 1.40595159\n",
            "Iteration 6, loss = 0.57989653\n",
            "Iteration 7, loss = 1.38577625\n",
            "Iteration 8, loss = 2.19768914\n",
            "Iteration 9, loss = 2.60677561\n",
            "Iteration 10, loss = 2.58661456\n",
            "Iteration 11, loss = 2.22810433\n",
            "Iteration 12, loss = 1.66034430\n",
            "Iteration 13, loss = 1.03674433\n",
            "Iteration 14, loss = 0.60923655\n",
            "Iteration 15, loss = 0.55926888\n",
            "Iteration 16, loss = 0.78979992\n",
            "Iteration 17, loss = 0.95170481\n",
            "Iteration 18, loss = 0.97759747\n",
            "Iteration 19, loss = 0.86620216\n",
            "Iteration 20, loss = 0.67611235\n",
            "Iteration 21, loss = 0.52536664\n",
            "Iteration 22, loss = 0.50332529\n",
            "Iteration 23, loss = 0.57103102\n",
            "Iteration 24, loss = 0.61997533\n",
            "Iteration 25, loss = 0.59405556\n",
            "Iteration 26, loss = 0.52311850\n",
            "Iteration 27, loss = 0.46667112\n",
            "Iteration 28, loss = 0.46309075\n",
            "Iteration 29, loss = 0.47851386\n",
            "Iteration 30, loss = 0.47816301\n",
            "Iteration 31, loss = 0.45712795\n",
            "Iteration 32, loss = 0.43646642\n",
            "Iteration 33, loss = 0.42756815\n",
            "Iteration 34, loss = 0.43414164\n",
            "Iteration 35, loss = 0.44205986\n",
            "Iteration 36, loss = 0.42870736\n",
            "Iteration 37, loss = 0.41455746\n",
            "Iteration 38, loss = 0.40797177\n",
            "Iteration 39, loss = 0.40792343\n",
            "Iteration 40, loss = 0.40578640\n",
            "Iteration 41, loss = 0.40089530\n",
            "Iteration 42, loss = 0.39384741\n"
          ]
        },
        {
          "name": "stderr",
          "output_type": "stream",
          "text": [
            "/home/cebms/anaconda3/envs/SI/lib/python3.10/site-packages/sklearn/utils/validation.py:767: FutureWarning: is_sparse is deprecated and will be removed in a future version. Check `isinstance(dtype, pd.SparseDtype)` instead.\n",
            "  if not hasattr(array, \"sparse\") and array.dtypes.apply(is_sparse).any():\n",
            "/home/cebms/anaconda3/envs/SI/lib/python3.10/site-packages/sklearn/utils/validation.py:605: FutureWarning: is_sparse is deprecated and will be removed in a future version. Check `isinstance(dtype, pd.SparseDtype)` instead.\n",
            "  if is_sparse(pd_dtype):\n",
            "/home/cebms/anaconda3/envs/SI/lib/python3.10/site-packages/sklearn/utils/validation.py:614: FutureWarning: is_sparse is deprecated and will be removed in a future version. Check `isinstance(dtype, pd.SparseDtype)` instead.\n",
            "  if is_sparse(pd_dtype) or not is_extension_array_dtype(pd_dtype):\n",
            "/home/cebms/anaconda3/envs/SI/lib/python3.10/site-packages/sklearn/utils/validation.py:605: FutureWarning: is_sparse is deprecated and will be removed in a future version. Check `isinstance(dtype, pd.SparseDtype)` instead.\n",
            "  if is_sparse(pd_dtype):\n",
            "/home/cebms/anaconda3/envs/SI/lib/python3.10/site-packages/sklearn/utils/validation.py:614: FutureWarning: is_sparse is deprecated and will be removed in a future version. Check `isinstance(dtype, pd.SparseDtype)` instead.\n",
            "  if is_sparse(pd_dtype) or not is_extension_array_dtype(pd_dtype):\n"
          ]
        },
        {
          "name": "stdout",
          "output_type": "stream",
          "text": [
            "Iteration 43, loss = 0.38690183\n",
            "Iteration 44, loss = 0.38442240\n",
            "Iteration 45, loss = 0.38155315\n",
            "Iteration 46, loss = 0.37849819\n",
            "Iteration 47, loss = 0.37540531\n",
            "Iteration 48, loss = 0.37234373\n",
            "Iteration 49, loss = 0.36919672\n"
          ]
        },
        {
          "name": "stdout",
          "output_type": "stream",
          "text": [
            "Iteration 50, loss = 0.36808719\n",
            "Iteration 51, loss = 0.37203762\n",
            "Iteration 52, loss = 0.37808507\n",
            "Iteration 53, loss = 0.37258316\n",
            "Iteration 54, loss = 0.36255055\n",
            "Iteration 55, loss = 0.35363702\n",
            "Iteration 56, loss = 0.35188758\n",
            "Iteration 57, loss = 0.35388909\n",
            "Iteration 58, loss = 0.35016445\n",
            "Iteration 59, loss = 0.34448645\n",
            "Iteration 60, loss = 0.34458327\n",
            "Iteration 61, loss = 0.34368397\n",
            "Iteration 62, loss = 0.34129287\n",
            "Iteration 63, loss = 0.33848235\n",
            "Iteration 64, loss = 0.33772954\n",
            "Iteration 65, loss = 0.33601982\n",
            "Iteration 66, loss = 0.33380883\n",
            "Iteration 67, loss = 0.33304417\n",
            "Iteration 68, loss = 0.33211156\n",
            "Iteration 69, loss = 0.33019513\n",
            "Iteration 70, loss = 0.32805150\n",
            "Iteration 71, loss = 0.32987511\n",
            "Iteration 72, loss = 0.33217501\n",
            "Iteration 73, loss = 0.32894390\n",
            "Iteration 74, loss = 0.32411329\n",
            "Iteration 75, loss = 0.32588526\n",
            "Iteration 76, loss = 0.32858613\n",
            "Iteration 77, loss = 0.32532259\n",
            "Iteration 78, loss = 0.32129273\n",
            "Iteration 79, loss = 0.32425206\n",
            "Iteration 80, loss = 0.32471582\n",
            "Iteration 81, loss = 0.31960044\n",
            "Iteration 82, loss = 0.31611700\n",
            "Iteration 83, loss = 0.31674872\n",
            "Iteration 84, loss = 0.31690694\n",
            "Iteration 85, loss = 0.31490200\n",
            "Iteration 86, loss = 0.31287161\n",
            "Iteration 87, loss = 0.31216376\n",
            "Iteration 88, loss = 0.31066047\n",
            "Iteration 89, loss = 0.31157324\n",
            "Iteration 90, loss = 0.31062059\n",
            "Iteration 91, loss = 0.30854218\n",
            "Iteration 92, loss = 0.30667269\n",
            "Iteration 93, loss = 0.30580048\n",
            "Iteration 94, loss = 0.30879736\n",
            "Iteration 95, loss = 0.30709082\n",
            "Iteration 96, loss = 0.30503825\n",
            "Iteration 97, loss = 0.30457670\n",
            "Iteration 98, loss = 0.30267296\n",
            "Iteration 99, loss = 0.30320546\n",
            "Iteration 100, loss = 0.30656181\n",
            "Iteration 101, loss = 0.30269653\n",
            "Iteration 102, loss = 0.29967651\n",
            "Iteration 103, loss = 0.30365508\n",
            "Iteration 104, loss = 0.30705362\n",
            "Iteration 105, loss = 0.30246760\n",
            "Iteration 106, loss = 0.29770331\n",
            "Iteration 107, loss = 0.29848833\n",
            "Iteration 108, loss = 0.29747936\n",
            "Iteration 109, loss = 0.29574463\n",
            "Iteration 110, loss = 0.29822732\n",
            "Iteration 111, loss = 0.29676584\n",
            "Iteration 112, loss = 0.29401328\n",
            "Iteration 113, loss = 0.29652851\n",
            "Iteration 114, loss = 0.30138853\n",
            "Iteration 115, loss = 0.30216766\n",
            "Iteration 116, loss = 0.29360348\n",
            "Iteration 117, loss = 0.29269195\n",
            "Iteration 118, loss = 0.29958646\n",
            "Iteration 119, loss = 0.29700719\n",
            "Iteration 120, loss = 0.28854769\n",
            "Iteration 121, loss = 0.29930988\n",
            "Iteration 122, loss = 0.30176638\n",
            "Iteration 123, loss = 0.29082045\n",
            "Iteration 124, loss = 0.28895123\n",
            "Iteration 125, loss = 0.28820958\n",
            "Iteration 126, loss = 0.28623506\n",
            "Iteration 127, loss = 0.28974192\n",
            "Iteration 128, loss = 0.28869244\n",
            "Iteration 129, loss = 0.28553089\n",
            "Iteration 130, loss = 0.28680821\n",
            "Iteration 131, loss = 0.29185098\n",
            "Iteration 132, loss = 0.28970578\n",
            "Iteration 133, loss = 0.28360102\n",
            "Iteration 134, loss = 0.29566203\n",
            "Iteration 135, loss = 0.29397955\n",
            "Iteration 136, loss = 0.28190073\n",
            "Iteration 137, loss = 0.28291090\n",
            "Iteration 138, loss = 0.29193968\n",
            "Iteration 139, loss = 0.28749522\n",
            "Iteration 140, loss = 0.28451654\n",
            "Iteration 141, loss = 0.27948863\n",
            "Iteration 142, loss = 0.28163695\n",
            "Iteration 143, loss = 0.28169465\n",
            "Iteration 144, loss = 0.27835655\n",
            "Iteration 145, loss = 0.27879681\n",
            "Iteration 146, loss = 0.27888633\n",
            "Iteration 147, loss = 0.27707791\n",
            "Iteration 148, loss = 0.27694388\n",
            "Iteration 149, loss = 0.27698132\n",
            "Iteration 150, loss = 0.27576302\n",
            "Iteration 151, loss = 0.27543300\n",
            "Iteration 152, loss = 0.27481581\n",
            "Iteration 153, loss = 0.27473545\n",
            "Iteration 154, loss = 0.27466764\n",
            "Iteration 155, loss = 0.27437525\n",
            "Iteration 156, loss = 0.27408853\n",
            "Iteration 157, loss = 0.27430272\n",
            "Iteration 158, loss = 0.27421145\n",
            "Iteration 159, loss = 0.27431567\n",
            "Iteration 160, loss = 0.27271926\n",
            "Iteration 161, loss = 0.27387133\n",
            "Iteration 162, loss = 0.27395937\n",
            "Iteration 163, loss = 0.27281736\n",
            "Iteration 164, loss = 0.27271909\n",
            "Iteration 165, loss = 0.27443379\n",
            "Iteration 166, loss = 0.27240288\n",
            "Iteration 167, loss = 0.27024410\n",
            "Iteration 168, loss = 0.27039936\n",
            "Iteration 169, loss = 0.27063757\n",
            "Iteration 170, loss = 0.26938704\n",
            "Iteration 171, loss = 0.26955169\n",
            "Iteration 172, loss = 0.27723535\n",
            "Iteration 173, loss = 0.27184620\n",
            "Iteration 174, loss = 0.27200088\n",
            "Iteration 175, loss = 0.27464814\n",
            "Iteration 176, loss = 0.26933305\n",
            "Iteration 177, loss = 0.26797356\n",
            "Iteration 178, loss = 0.26783170\n",
            "Iteration 179, loss = 0.26796109\n",
            "Iteration 180, loss = 0.26804621\n",
            "Iteration 181, loss = 0.26674670\n",
            "Iteration 182, loss = 0.26781866\n",
            "Iteration 183, loss = 0.26826854\n",
            "Iteration 184, loss = 0.26718738\n",
            "Iteration 185, loss = 0.26722020\n",
            "Iteration 186, loss = 0.26753427\n",
            "Iteration 187, loss = 0.26578893\n",
            "Iteration 188, loss = 0.26538051\n",
            "Iteration 189, loss = 0.26665358\n",
            "Iteration 190, loss = 0.26560163\n",
            "Iteration 191, loss = 0.26550683\n",
            "Iteration 192, loss = 0.26514500\n",
            "Iteration 193, loss = 0.26462719\n",
            "Iteration 194, loss = 0.26497390\n",
            "Iteration 195, loss = 0.26407167\n",
            "Iteration 196, loss = 0.26569302\n",
            "Iteration 197, loss = 0.26263745\n",
            "Iteration 198, loss = 0.26776105\n",
            "Iteration 199, loss = 0.27624763\n",
            "Iteration 200, loss = 0.26286936\n"
          ]
        },
        {
          "name": "stderr",
          "output_type": "stream",
          "text": [
            "/home/cebms/anaconda3/envs/SI/lib/python3.10/site-packages/sklearn/neural_network/_multilayer_perceptron.py:686: ConvergenceWarning: Stochastic Optimizer: Maximum iterations (200) reached and the optimization hasn't converged yet.\n",
            "  warnings.warn(\n"
          ]
        },
        {
          "data": {
            "text/html": [
              "<style>#sk-container-id-35 {color: black;background-color: white;}#sk-container-id-35 pre{padding: 0;}#sk-container-id-35 div.sk-toggleable {background-color: white;}#sk-container-id-35 label.sk-toggleable__label {cursor: pointer;display: block;width: 100%;margin-bottom: 0;padding: 0.3em;box-sizing: border-box;text-align: center;}#sk-container-id-35 label.sk-toggleable__label-arrow:before {content: \"▸\";float: left;margin-right: 0.25em;color: #696969;}#sk-container-id-35 label.sk-toggleable__label-arrow:hover:before {color: black;}#sk-container-id-35 div.sk-estimator:hover label.sk-toggleable__label-arrow:before {color: black;}#sk-container-id-35 div.sk-toggleable__content {max-height: 0;max-width: 0;overflow: hidden;text-align: left;background-color: #f0f8ff;}#sk-container-id-35 div.sk-toggleable__content pre {margin: 0.2em;color: black;border-radius: 0.25em;background-color: #f0f8ff;}#sk-container-id-35 input.sk-toggleable__control:checked~div.sk-toggleable__content {max-height: 200px;max-width: 100%;overflow: auto;}#sk-container-id-35 input.sk-toggleable__control:checked~label.sk-toggleable__label-arrow:before {content: \"▾\";}#sk-container-id-35 div.sk-estimator input.sk-toggleable__control:checked~label.sk-toggleable__label {background-color: #d4ebff;}#sk-container-id-35 div.sk-label input.sk-toggleable__control:checked~label.sk-toggleable__label {background-color: #d4ebff;}#sk-container-id-35 input.sk-hidden--visually {border: 0;clip: rect(1px 1px 1px 1px);clip: rect(1px, 1px, 1px, 1px);height: 1px;margin: -1px;overflow: hidden;padding: 0;position: absolute;width: 1px;}#sk-container-id-35 div.sk-estimator {font-family: monospace;background-color: #f0f8ff;border: 1px dotted black;border-radius: 0.25em;box-sizing: border-box;margin-bottom: 0.5em;}#sk-container-id-35 div.sk-estimator:hover {background-color: #d4ebff;}#sk-container-id-35 div.sk-parallel-item::after {content: \"\";width: 100%;border-bottom: 1px solid gray;flex-grow: 1;}#sk-container-id-35 div.sk-label:hover label.sk-toggleable__label {background-color: #d4ebff;}#sk-container-id-35 div.sk-serial::before {content: \"\";position: absolute;border-left: 1px solid gray;box-sizing: border-box;top: 0;bottom: 0;left: 50%;z-index: 0;}#sk-container-id-35 div.sk-serial {display: flex;flex-direction: column;align-items: center;background-color: white;padding-right: 0.2em;padding-left: 0.2em;position: relative;}#sk-container-id-35 div.sk-item {position: relative;z-index: 1;}#sk-container-id-35 div.sk-parallel {display: flex;align-items: stretch;justify-content: center;background-color: white;position: relative;}#sk-container-id-35 div.sk-item::before, #sk-container-id-35 div.sk-parallel-item::before {content: \"\";position: absolute;border-left: 1px solid gray;box-sizing: border-box;top: 0;bottom: 0;left: 50%;z-index: -1;}#sk-container-id-35 div.sk-parallel-item {display: flex;flex-direction: column;z-index: 1;position: relative;background-color: white;}#sk-container-id-35 div.sk-parallel-item:first-child::after {align-self: flex-end;width: 50%;}#sk-container-id-35 div.sk-parallel-item:last-child::after {align-self: flex-start;width: 50%;}#sk-container-id-35 div.sk-parallel-item:only-child::after {width: 0;}#sk-container-id-35 div.sk-dashed-wrapped {border: 1px dashed gray;margin: 0 0.4em 0.5em 0.4em;box-sizing: border-box;padding-bottom: 0.4em;background-color: white;}#sk-container-id-35 div.sk-label label {font-family: monospace;font-weight: bold;display: inline-block;line-height: 1.2em;}#sk-container-id-35 div.sk-label-container {text-align: center;}#sk-container-id-35 div.sk-container {/* jupyter's `normalize.less` sets `[hidden] { display: none; }` but bootstrap.min.css set `[hidden] { display: none !important; }` so we also need the `!important` here to be able to override the default hidden behavior on the sphinx rendered scikit-learn.org. See: https://github.com/scikit-learn/scikit-learn/issues/21755 */display: inline-block !important;position: relative;}#sk-container-id-35 div.sk-text-repr-fallback {display: none;}</style><div id=\"sk-container-id-35\" class=\"sk-top-container\"><div class=\"sk-text-repr-fallback\"><pre>MLPClassifier(verbose=True)</pre><b>In a Jupyter environment, please rerun this cell to show the HTML representation or trust the notebook. <br />On GitHub, the HTML representation is unable to render, please try loading this page with nbviewer.org.</b></div><div class=\"sk-container\" hidden><div class=\"sk-item\"><div class=\"sk-estimator sk-toggleable\"><input class=\"sk-toggleable__control sk-hidden--visually\" id=\"sk-estimator-id-35\" type=\"checkbox\" checked><label for=\"sk-estimator-id-35\" class=\"sk-toggleable__label sk-toggleable__label-arrow\">MLPClassifier</label><div class=\"sk-toggleable__content\"><pre>MLPClassifier(verbose=True)</pre></div></div></div></div></div>"
            ],
            "text/plain": [
              "MLPClassifier(verbose=True)"
            ]
          },
          "execution_count": 484,
          "metadata": {},
          "output_type": "execute_result"
        }
      ],
      "source": [
        "model.fit(X_train, y_train)"
      ]
    },
    {
      "cell_type": "code",
      "execution_count": 485,
      "metadata": {
        "id": "NGY4UvLlNSfX"
      },
      "outputs": [
        {
          "name": "stderr",
          "output_type": "stream",
          "text": [
            "/home/cebms/anaconda3/envs/SI/lib/python3.10/site-packages/sklearn/utils/validation.py:767: FutureWarning: is_sparse is deprecated and will be removed in a future version. Check `isinstance(dtype, pd.SparseDtype)` instead.\n",
            "  if not hasattr(array, \"sparse\") and array.dtypes.apply(is_sparse).any():\n",
            "/home/cebms/anaconda3/envs/SI/lib/python3.10/site-packages/sklearn/utils/validation.py:605: FutureWarning: is_sparse is deprecated and will be removed in a future version. Check `isinstance(dtype, pd.SparseDtype)` instead.\n",
            "  if is_sparse(pd_dtype):\n",
            "/home/cebms/anaconda3/envs/SI/lib/python3.10/site-packages/sklearn/utils/validation.py:614: FutureWarning: is_sparse is deprecated and will be removed in a future version. Check `isinstance(dtype, pd.SparseDtype)` instead.\n",
            "  if is_sparse(pd_dtype) or not is_extension_array_dtype(pd_dtype):\n"
          ]
        }
      ],
      "source": [
        "y_pred = model.predict(X_test)"
      ]
    },
    {
      "cell_type": "code",
      "execution_count": 486,
      "metadata": {},
      "outputs": [
        {
          "name": "stderr",
          "output_type": "stream",
          "text": [
            "/home/cebms/anaconda3/envs/SI/lib/python3.10/site-packages/sklearn/utils/validation.py:767: FutureWarning: is_sparse is deprecated and will be removed in a future version. Check `isinstance(dtype, pd.SparseDtype)` instead.\n",
            "  if not hasattr(array, \"sparse\") and array.dtypes.apply(is_sparse).any():\n",
            "/home/cebms/anaconda3/envs/SI/lib/python3.10/site-packages/sklearn/utils/validation.py:605: FutureWarning: is_sparse is deprecated and will be removed in a future version. Check `isinstance(dtype, pd.SparseDtype)` instead.\n",
            "  if is_sparse(pd_dtype):\n",
            "/home/cebms/anaconda3/envs/SI/lib/python3.10/site-packages/sklearn/utils/validation.py:614: FutureWarning: is_sparse is deprecated and will be removed in a future version. Check `isinstance(dtype, pd.SparseDtype)` instead.\n",
            "  if is_sparse(pd_dtype) or not is_extension_array_dtype(pd_dtype):\n",
            "/home/cebms/anaconda3/envs/SI/lib/python3.10/site-packages/sklearn/utils/validation.py:605: FutureWarning: is_sparse is deprecated and will be removed in a future version. Check `isinstance(dtype, pd.SparseDtype)` instead.\n",
            "  if is_sparse(pd_dtype):\n",
            "/home/cebms/anaconda3/envs/SI/lib/python3.10/site-packages/sklearn/utils/validation.py:614: FutureWarning: is_sparse is deprecated and will be removed in a future version. Check `isinstance(dtype, pd.SparseDtype)` instead.\n",
            "  if is_sparse(pd_dtype) or not is_extension_array_dtype(pd_dtype):\n",
            "/home/cebms/anaconda3/envs/SI/lib/python3.10/site-packages/sklearn/utils/validation.py:605: FutureWarning: is_sparse is deprecated and will be removed in a future version. Check `isinstance(dtype, pd.SparseDtype)` instead.\n",
            "  if is_sparse(pd_dtype):\n",
            "/home/cebms/anaconda3/envs/SI/lib/python3.10/site-packages/sklearn/utils/validation.py:614: FutureWarning: is_sparse is deprecated and will be removed in a future version. Check `isinstance(dtype, pd.SparseDtype)` instead.\n",
            "  if is_sparse(pd_dtype) or not is_extension_array_dtype(pd_dtype):\n",
            "/home/cebms/anaconda3/envs/SI/lib/python3.10/site-packages/sklearn/utils/validation.py:605: FutureWarning: is_sparse is deprecated and will be removed in a future version. Check `isinstance(dtype, pd.SparseDtype)` instead.\n",
            "  if is_sparse(pd_dtype):\n",
            "/home/cebms/anaconda3/envs/SI/lib/python3.10/site-packages/sklearn/utils/validation.py:614: FutureWarning: is_sparse is deprecated and will be removed in a future version. Check `isinstance(dtype, pd.SparseDtype)` instead.\n",
            "  if is_sparse(pd_dtype) or not is_extension_array_dtype(pd_dtype):\n"
          ]
        },
        {
          "data": {
            "text/plain": [
              "0.8064516129032258"
            ]
          },
          "execution_count": 486,
          "metadata": {},
          "output_type": "execute_result"
        }
      ],
      "source": [
        "model.score(X_test, y_test)"
      ]
    },
    {
      "cell_type": "code",
      "execution_count": 487,
      "metadata": {
        "colab": {
          "base_uri": "https://localhost:8080/"
        },
        "id": "Nyy4Jy14NV0G",
        "outputId": "a0447dea-7ee8-4b97-dd24-0ff336517526"
      },
      "outputs": [
        {
          "name": "stdout",
          "output_type": "stream",
          "text": [
            "              precision    recall  f1-score   support\n",
            "\n",
            "    Abnormal       0.92      0.80      0.85        44\n",
            "      Normal       0.62      0.83      0.71        18\n",
            "\n",
            "    accuracy                           0.81        62\n",
            "   macro avg       0.77      0.81      0.78        62\n",
            "weighted avg       0.84      0.81      0.81        62\n",
            "\n"
          ]
        },
        {
          "name": "stderr",
          "output_type": "stream",
          "text": [
            "/home/cebms/anaconda3/envs/SI/lib/python3.10/site-packages/sklearn/utils/validation.py:605: FutureWarning: is_sparse is deprecated and will be removed in a future version. Check `isinstance(dtype, pd.SparseDtype)` instead.\n",
            "  if is_sparse(pd_dtype):\n",
            "/home/cebms/anaconda3/envs/SI/lib/python3.10/site-packages/sklearn/utils/validation.py:614: FutureWarning: is_sparse is deprecated and will be removed in a future version. Check `isinstance(dtype, pd.SparseDtype)` instead.\n",
            "  if is_sparse(pd_dtype) or not is_extension_array_dtype(pd_dtype):\n",
            "/home/cebms/anaconda3/envs/SI/lib/python3.10/site-packages/sklearn/utils/validation.py:605: FutureWarning: is_sparse is deprecated and will be removed in a future version. Check `isinstance(dtype, pd.SparseDtype)` instead.\n",
            "  if is_sparse(pd_dtype):\n",
            "/home/cebms/anaconda3/envs/SI/lib/python3.10/site-packages/sklearn/utils/validation.py:614: FutureWarning: is_sparse is deprecated and will be removed in a future version. Check `isinstance(dtype, pd.SparseDtype)` instead.\n",
            "  if is_sparse(pd_dtype) or not is_extension_array_dtype(pd_dtype):\n",
            "/home/cebms/anaconda3/envs/SI/lib/python3.10/site-packages/sklearn/utils/validation.py:605: FutureWarning: is_sparse is deprecated and will be removed in a future version. Check `isinstance(dtype, pd.SparseDtype)` instead.\n",
            "  if is_sparse(pd_dtype):\n",
            "/home/cebms/anaconda3/envs/SI/lib/python3.10/site-packages/sklearn/utils/validation.py:614: FutureWarning: is_sparse is deprecated and will be removed in a future version. Check `isinstance(dtype, pd.SparseDtype)` instead.\n",
            "  if is_sparse(pd_dtype) or not is_extension_array_dtype(pd_dtype):\n"
          ]
        }
      ],
      "source": [
        "print(classification_report(y_test, y_pred))"
      ]
    },
    {
      "cell_type": "code",
      "execution_count": 488,
      "metadata": {},
      "outputs": [
        {
          "name": "stderr",
          "output_type": "stream",
          "text": [
            "/home/cebms/anaconda3/envs/SI/lib/python3.10/site-packages/sklearn/utils/validation.py:767: FutureWarning: is_sparse is deprecated and will be removed in a future version. Check `isinstance(dtype, pd.SparseDtype)` instead.\n",
            "  if not hasattr(array, \"sparse\") and array.dtypes.apply(is_sparse).any():\n",
            "/home/cebms/anaconda3/envs/SI/lib/python3.10/site-packages/sklearn/utils/validation.py:605: FutureWarning: is_sparse is deprecated and will be removed in a future version. Check `isinstance(dtype, pd.SparseDtype)` instead.\n",
            "  if is_sparse(pd_dtype):\n",
            "/home/cebms/anaconda3/envs/SI/lib/python3.10/site-packages/sklearn/utils/validation.py:614: FutureWarning: is_sparse is deprecated and will be removed in a future version. Check `isinstance(dtype, pd.SparseDtype)` instead.\n",
            "  if is_sparse(pd_dtype) or not is_extension_array_dtype(pd_dtype):\n",
            "/home/cebms/anaconda3/envs/SI/lib/python3.10/site-packages/sklearn/utils/validation.py:605: FutureWarning: is_sparse is deprecated and will be removed in a future version. Check `isinstance(dtype, pd.SparseDtype)` instead.\n",
            "  if is_sparse(pd_dtype):\n",
            "/home/cebms/anaconda3/envs/SI/lib/python3.10/site-packages/sklearn/utils/validation.py:614: FutureWarning: is_sparse is deprecated and will be removed in a future version. Check `isinstance(dtype, pd.SparseDtype)` instead.\n",
            "  if is_sparse(pd_dtype) or not is_extension_array_dtype(pd_dtype):\n",
            "/home/cebms/anaconda3/envs/SI/lib/python3.10/site-packages/sklearn/utils/validation.py:605: FutureWarning: is_sparse is deprecated and will be removed in a future version. Check `isinstance(dtype, pd.SparseDtype)` instead.\n",
            "  if is_sparse(pd_dtype):\n",
            "/home/cebms/anaconda3/envs/SI/lib/python3.10/site-packages/sklearn/utils/validation.py:614: FutureWarning: is_sparse is deprecated and will be removed in a future version. Check `isinstance(dtype, pd.SparseDtype)` instead.\n",
            "  if is_sparse(pd_dtype) or not is_extension_array_dtype(pd_dtype):\n",
            "/home/cebms/anaconda3/envs/SI/lib/python3.10/site-packages/sklearn/utils/validation.py:605: FutureWarning: is_sparse is deprecated and will be removed in a future version. Check `isinstance(dtype, pd.SparseDtype)` instead.\n",
            "  if is_sparse(pd_dtype):\n",
            "/home/cebms/anaconda3/envs/SI/lib/python3.10/site-packages/sklearn/utils/validation.py:614: FutureWarning: is_sparse is deprecated and will be removed in a future version. Check `isinstance(dtype, pd.SparseDtype)` instead.\n",
            "  if is_sparse(pd_dtype) or not is_extension_array_dtype(pd_dtype):\n",
            "/home/cebms/anaconda3/envs/SI/lib/python3.10/site-packages/sklearn/utils/validation.py:605: FutureWarning: is_sparse is deprecated and will be removed in a future version. Check `isinstance(dtype, pd.SparseDtype)` instead.\n",
            "  if is_sparse(pd_dtype):\n",
            "/home/cebms/anaconda3/envs/SI/lib/python3.10/site-packages/sklearn/utils/validation.py:614: FutureWarning: is_sparse is deprecated and will be removed in a future version. Check `isinstance(dtype, pd.SparseDtype)` instead.\n",
            "  if is_sparse(pd_dtype) or not is_extension_array_dtype(pd_dtype):\n",
            "/home/cebms/anaconda3/envs/SI/lib/python3.10/site-packages/sklearn/utils/validation.py:605: FutureWarning: is_sparse is deprecated and will be removed in a future version. Check `isinstance(dtype, pd.SparseDtype)` instead.\n",
            "  if is_sparse(pd_dtype):\n",
            "/home/cebms/anaconda3/envs/SI/lib/python3.10/site-packages/sklearn/utils/validation.py:614: FutureWarning: is_sparse is deprecated and will be removed in a future version. Check `isinstance(dtype, pd.SparseDtype)` instead.\n",
            "  if is_sparse(pd_dtype) or not is_extension_array_dtype(pd_dtype):\n"
          ]
        },
        {
          "data": {
            "image/png": "[encoded data removed]",
            "text/plain": [
              "<Figure size 640x480 with 2 Axes>"
            ]
          },
          "metadata": {},
          "output_type": "display_data"
        }
      ],
      "source": [
        "ConfusionMatrixDisplay.from_estimator(model, X_test, y_test)\n",
        "plt.show()"
      ]
    },
    {
      "cell_type": "code",
      "execution_count": 489,
      "metadata": {},
      "outputs": [
        {
          "data": {
            "text/plain": [
              "Class_att\n",
              "Abnormal    166\n",
              "Normal       82\n",
              "Name: count, dtype: int64"
            ]
          },
          "execution_count": 489,
          "metadata": {},
          "output_type": "execute_result"
        }
      ],
      "source": [
        "y_train.value_counts()"
      ]
    },
    {
      "cell_type": "markdown",
      "metadata": {},
      "source": [
        "Como é possível perceber pelo <i>classification report</i>, temos uma facilidade maior do modelo em classificar corretamente a classe de <i>'abnormal'</i> (sobretudo olhando a métrica de precisão). De fato, ao observar o a distribuição dos valores no dataset de treino, é possível reparar que temos mais ocorrências dessa classe, do que da classe 'normal'. É necessário, então, fazer o balanceamento das classes no dataset de treino"
      ]
    },
    {
      "cell_type": "markdown",
      "metadata": {},
      "source": [
        "# Balanceamento de classes no dataset de treino"
      ]
    },
    {
      "cell_type": "code",
      "execution_count": 490,
      "metadata": {},
      "outputs": [
        {
          "name": "stderr",
          "output_type": "stream",
          "text": [
            "/home/cebms/anaconda3/envs/SI/lib/python3.10/site-packages/sklearn/utils/validation.py:605: FutureWarning: is_sparse is deprecated and will be removed in a future version. Check `isinstance(dtype, pd.SparseDtype)` instead.\n",
            "  if is_sparse(pd_dtype):\n",
            "/home/cebms/anaconda3/envs/SI/lib/python3.10/site-packages/sklearn/utils/validation.py:614: FutureWarning: is_sparse is deprecated and will be removed in a future version. Check `isinstance(dtype, pd.SparseDtype)` instead.\n",
            "  if is_sparse(pd_dtype) or not is_extension_array_dtype(pd_dtype):\n",
            "/home/cebms/anaconda3/envs/SI/lib/python3.10/site-packages/sklearn/utils/validation.py:605: FutureWarning: is_sparse is deprecated and will be removed in a future version. Check `isinstance(dtype, pd.SparseDtype)` instead.\n",
            "  if is_sparse(pd_dtype):\n",
            "/home/cebms/anaconda3/envs/SI/lib/python3.10/site-packages/sklearn/utils/validation.py:614: FutureWarning: is_sparse is deprecated and will be removed in a future version. Check `isinstance(dtype, pd.SparseDtype)` instead.\n",
            "  if is_sparse(pd_dtype) or not is_extension_array_dtype(pd_dtype):\n",
            "/home/cebms/anaconda3/envs/SI/lib/python3.10/site-packages/sklearn/utils/validation.py:605: FutureWarning: is_sparse is deprecated and will be removed in a future version. Check `isinstance(dtype, pd.SparseDtype)` instead.\n",
            "  if is_sparse(pd_dtype):\n",
            "/home/cebms/anaconda3/envs/SI/lib/python3.10/site-packages/sklearn/utils/validation.py:614: FutureWarning: is_sparse is deprecated and will be removed in a future version. Check `isinstance(dtype, pd.SparseDtype)` instead.\n",
            "  if is_sparse(pd_dtype) or not is_extension_array_dtype(pd_dtype):\n",
            "/home/cebms/anaconda3/envs/SI/lib/python3.10/site-packages/sklearn/utils/validation.py:605: FutureWarning: is_sparse is deprecated and will be removed in a future version. Check `isinstance(dtype, pd.SparseDtype)` instead.\n",
            "  if is_sparse(pd_dtype):\n",
            "/home/cebms/anaconda3/envs/SI/lib/python3.10/site-packages/sklearn/utils/validation.py:614: FutureWarning: is_sparse is deprecated and will be removed in a future version. Check `isinstance(dtype, pd.SparseDtype)` instead.\n",
            "  if is_sparse(pd_dtype) or not is_extension_array_dtype(pd_dtype):\n",
            "/home/cebms/anaconda3/envs/SI/lib/python3.10/site-packages/sklearn/utils/validation.py:605: FutureWarning: is_sparse is deprecated and will be removed in a future version. Check `isinstance(dtype, pd.SparseDtype)` instead.\n",
            "  if is_sparse(pd_dtype):\n",
            "/home/cebms/anaconda3/envs/SI/lib/python3.10/site-packages/sklearn/utils/validation.py:614: FutureWarning: is_sparse is deprecated and will be removed in a future version. Check `isinstance(dtype, pd.SparseDtype)` instead.\n",
            "  if is_sparse(pd_dtype) or not is_extension_array_dtype(pd_dtype):\n",
            "/home/cebms/anaconda3/envs/SI/lib/python3.10/site-packages/sklearn/utils/validation.py:767: FutureWarning: is_sparse is deprecated and will be removed in a future version. Check `isinstance(dtype, pd.SparseDtype)` instead.\n",
            "  if not hasattr(array, \"sparse\") and array.dtypes.apply(is_sparse).any():\n",
            "/home/cebms/anaconda3/envs/SI/lib/python3.10/site-packages/sklearn/utils/validation.py:605: FutureWarning: is_sparse is deprecated and will be removed in a future version. Check `isinstance(dtype, pd.SparseDtype)` instead.\n",
            "  if is_sparse(pd_dtype):\n",
            "/home/cebms/anaconda3/envs/SI/lib/python3.10/site-packages/sklearn/utils/validation.py:614: FutureWarning: is_sparse is deprecated and will be removed in a future version. Check `isinstance(dtype, pd.SparseDtype)` instead.\n",
            "  if is_sparse(pd_dtype) or not is_extension_array_dtype(pd_dtype):\n"
          ]
        }
      ],
      "source": [
        "from imblearn.over_sampling import SMOTE\n",
        "smote = SMOTE(sampling_strategy='auto', random_state=42)  # Pode ajustar a estratégia de amostragem conforme necessário\n",
        "X_train_resampled, y_train_resampled = smote.fit_resample(X_train, y_train)"
      ]
    },
    {
      "cell_type": "code",
      "execution_count": 491,
      "metadata": {},
      "outputs": [
        {
          "data": {
            "text/plain": [
              "{'activation': 'relu',\n",
              " 'alpha': 0.0001,\n",
              " 'batch_size': 'auto',\n",
              " 'beta_1': 0.9,\n",
              " 'beta_2': 0.999,\n",
              " 'early_stopping': False,\n",
              " 'epsilon': 1e-08,\n",
              " 'hidden_layer_sizes': (100,),\n",
              " 'learning_rate': 'constant',\n",
              " 'learning_rate_init': 0.001,\n",
              " 'max_fun': 15000,\n",
              " 'max_iter': 200,\n",
              " 'momentum': 0.9,\n",
              " 'n_iter_no_change': 10,\n",
              " 'nesterovs_momentum': True,\n",
              " 'power_t': 0.5,\n",
              " 'random_state': None,\n",
              " 'shuffle': True,\n",
              " 'solver': 'adam',\n",
              " 'tol': 0.0001,\n",
              " 'validation_fraction': 0.1,\n",
              " 'verbose': True,\n",
              " 'warm_start': False}"
            ]
          },
          "execution_count": 491,
          "metadata": {},
          "output_type": "execute_result"
        }
      ],
      "source": [
        "model = MLPClassifier(verbose=True, max_iter=200)\n",
        "model.get_params()"
      ]
    },
    {
      "cell_type": "code",
      "execution_count": 492,
      "metadata": {},
      "outputs": [
        {
          "name": "stderr",
          "output_type": "stream",
          "text": [
            "/home/cebms/anaconda3/envs/SI/lib/python3.10/site-packages/sklearn/utils/validation.py:767: FutureWarning: is_sparse is deprecated and will be removed in a future version. Check `isinstance(dtype, pd.SparseDtype)` instead.\n",
            "  if not hasattr(array, \"sparse\") and array.dtypes.apply(is_sparse).any():\n",
            "/home/cebms/anaconda3/envs/SI/lib/python3.10/site-packages/sklearn/utils/validation.py:605: FutureWarning: is_sparse is deprecated and will be removed in a future version. Check `isinstance(dtype, pd.SparseDtype)` instead.\n",
            "  if is_sparse(pd_dtype):\n",
            "/home/cebms/anaconda3/envs/SI/lib/python3.10/site-packages/sklearn/utils/validation.py:614: FutureWarning: is_sparse is deprecated and will be removed in a future version. Check `isinstance(dtype, pd.SparseDtype)` instead.\n",
            "  if is_sparse(pd_dtype) or not is_extension_array_dtype(pd_dtype):\n",
            "/home/cebms/anaconda3/envs/SI/lib/python3.10/site-packages/sklearn/utils/validation.py:605: FutureWarning: is_sparse is deprecated and will be removed in a future version. Check `isinstance(dtype, pd.SparseDtype)` instead.\n",
            "  if is_sparse(pd_dtype):\n",
            "/home/cebms/anaconda3/envs/SI/lib/python3.10/site-packages/sklearn/utils/validation.py:614: FutureWarning: is_sparse is deprecated and will be removed in a future version. Check `isinstance(dtype, pd.SparseDtype)` instead.\n",
            "  if is_sparse(pd_dtype) or not is_extension_array_dtype(pd_dtype):\n"
          ]
        },
        {
          "name": "stdout",
          "output_type": "stream",
          "text": [
            "Iteration 1, loss = 9.93855237\n",
            "Iteration 2, loss = 7.35316194\n",
            "Iteration 3, loss = 5.11438634\n",
            "Iteration 4, loss = 3.82669556\n",
            "Iteration 5, loss = 3.60859256\n",
            "Iteration 6, loss = 3.67616837\n",
            "Iteration 7, loss = 3.13012975\n",
            "Iteration 8, loss = 2.18569881\n",
            "Iteration 9, loss = 1.50063109\n",
            "Iteration 10, loss = 1.46997717\n",
            "Iteration 11, loss = 1.48898273\n",
            "Iteration 12, loss = 1.27989821\n",
            "Iteration 13, loss = 1.00523513\n",
            "Iteration 14, loss = 0.88185664\n",
            "Iteration 15, loss = 0.91437411\n",
            "Iteration 16, loss = 0.93719907\n",
            "Iteration 17, loss = 0.88262882\n",
            "Iteration 18, loss = 0.78683017\n",
            "Iteration 19, loss = 0.69695937\n",
            "Iteration 20, loss = 0.68722850\n",
            "Iteration 21, loss = 0.70703962\n",
            "Iteration 22, loss = 0.66363501\n",
            "Iteration 23, loss = 0.61322174\n",
            "Iteration 24, loss = 0.58077516\n",
            "Iteration 25, loss = 0.57732166\n",
            "Iteration 26, loss = 0.55342094\n",
            "Iteration 27, loss = 0.51614404\n",
            "Iteration 28, loss = 0.50415473\n",
            "Iteration 29, loss = 0.50737083\n",
            "Iteration 30, loss = 0.48868895\n",
            "Iteration 31, loss = 0.46885883\n",
            "Iteration 32, loss = 0.46034874\n",
            "Iteration 33, loss = 0.45981138\n"
          ]
        },
        {
          "name": "stdout",
          "output_type": "stream",
          "text": [
            "Iteration 34, loss = 0.44522657\n",
            "Iteration 35, loss = 0.43431331\n",
            "Iteration 36, loss = 0.43066535\n",
            "Iteration 37, loss = 0.42482930\n",
            "Iteration 38, loss = 0.41397495\n",
            "Iteration 39, loss = 0.40827762\n",
            "Iteration 40, loss = 0.40485310\n",
            "Iteration 41, loss = 0.39729023\n",
            "Iteration 42, loss = 0.39537542\n",
            "Iteration 43, loss = 0.38633533\n",
            "Iteration 44, loss = 0.38158076\n",
            "Iteration 45, loss = 0.37630058\n",
            "Iteration 46, loss = 0.37157984\n",
            "Iteration 47, loss = 0.36633421\n",
            "Iteration 48, loss = 0.36252283\n",
            "Iteration 49, loss = 0.35755159\n",
            "Iteration 50, loss = 0.35024905\n",
            "Iteration 51, loss = 0.34285453\n",
            "Iteration 52, loss = 0.33566591\n",
            "Iteration 53, loss = 0.32905380\n",
            "Iteration 54, loss = 0.32498109\n",
            "Iteration 55, loss = 0.32246534\n",
            "Iteration 56, loss = 0.31763511\n",
            "Iteration 57, loss = 0.31552025\n",
            "Iteration 58, loss = 0.31330803\n",
            "Iteration 59, loss = 0.30957762\n",
            "Iteration 60, loss = 0.30668045\n",
            "Iteration 61, loss = 0.30713803\n",
            "Iteration 62, loss = 0.30208955\n",
            "Iteration 63, loss = 0.30184150\n",
            "Iteration 64, loss = 0.30062855\n",
            "Iteration 65, loss = 0.29760230\n",
            "Iteration 66, loss = 0.29741654\n",
            "Iteration 67, loss = 0.29375218\n",
            "Iteration 68, loss = 0.29144656\n",
            "Iteration 69, loss = 0.29204440\n",
            "Iteration 70, loss = 0.28802666\n",
            "Iteration 71, loss = 0.28782305\n",
            "Iteration 72, loss = 0.28703358\n",
            "Iteration 73, loss = 0.28475363\n",
            "Iteration 74, loss = 0.28535187\n",
            "Iteration 75, loss = 0.28285680\n",
            "Iteration 76, loss = 0.28110034\n",
            "Iteration 77, loss = 0.28005392\n",
            "Iteration 78, loss = 0.27902484\n",
            "Iteration 79, loss = 0.27788941\n",
            "Iteration 80, loss = 0.27590912\n",
            "Iteration 81, loss = 0.27496330\n",
            "Iteration 82, loss = 0.27392765\n",
            "Iteration 83, loss = 0.27389168\n",
            "Iteration 84, loss = 0.27186809\n",
            "Iteration 85, loss = 0.27247040\n",
            "Iteration 86, loss = 0.27124644\n",
            "Iteration 87, loss = 0.27214059\n",
            "Iteration 88, loss = 0.26913750\n",
            "Iteration 89, loss = 0.26802743\n",
            "Iteration 90, loss = 0.26802362\n",
            "Iteration 91, loss = 0.27055302\n",
            "Iteration 92, loss = 0.26710477\n",
            "Iteration 93, loss = 0.26600693\n",
            "Iteration 94, loss = 0.26491983\n",
            "Iteration 95, loss = 0.26486628\n",
            "Iteration 96, loss = 0.26408352\n",
            "Iteration 97, loss = 0.26347108\n",
            "Iteration 98, loss = 0.26306758\n",
            "Iteration 99, loss = 0.26292212\n",
            "Iteration 100, loss = 0.26179442\n",
            "Iteration 101, loss = 0.26205850\n",
            "Iteration 102, loss = 0.26174610\n",
            "Iteration 103, loss = 0.26015201\n",
            "Iteration 104, loss = 0.25966168\n",
            "Iteration 105, loss = 0.25911460\n",
            "Iteration 106, loss = 0.25910857\n",
            "Iteration 107, loss = 0.25953530\n",
            "Iteration 108, loss = 0.25773265\n",
            "Iteration 109, loss = 0.25755036\n",
            "Iteration 110, loss = 0.26157116\n",
            "Iteration 111, loss = 0.25699179\n",
            "Iteration 112, loss = 0.25974121\n",
            "Iteration 113, loss = 0.25959387\n",
            "Iteration 114, loss = 0.25527979\n",
            "Iteration 115, loss = 0.25554663\n",
            "Iteration 116, loss = 0.25565390\n",
            "Iteration 117, loss = 0.25355913\n",
            "Iteration 118, loss = 0.25714193\n",
            "Iteration 119, loss = 0.25434447\n",
            "Iteration 120, loss = 0.25436493\n",
            "Iteration 121, loss = 0.25398021\n",
            "Iteration 122, loss = 0.25598134\n",
            "Iteration 123, loss = 0.25806933\n",
            "Iteration 124, loss = 0.25185705\n",
            "Iteration 125, loss = 0.25134378\n",
            "Iteration 126, loss = 0.25176806\n",
            "Iteration 127, loss = 0.25118593\n",
            "Iteration 128, loss = 0.25094946\n",
            "Iteration 129, loss = 0.25054200\n",
            "Iteration 130, loss = 0.25027735\n",
            "Iteration 131, loss = 0.25031919\n",
            "Iteration 132, loss = 0.24911029\n",
            "Iteration 133, loss = 0.24998281\n",
            "Iteration 134, loss = 0.24925510\n",
            "Iteration 135, loss = 0.24920606\n",
            "Iteration 136, loss = 0.24872119\n",
            "Iteration 137, loss = 0.24825842\n",
            "Iteration 138, loss = 0.24860053\n",
            "Iteration 139, loss = 0.24755379\n",
            "Iteration 140, loss = 0.24766625\n",
            "Iteration 141, loss = 0.24609514\n",
            "Iteration 142, loss = 0.24665800\n",
            "Iteration 143, loss = 0.24622390\n",
            "Iteration 144, loss = 0.24618471\n",
            "Iteration 145, loss = 0.24719357\n",
            "Iteration 146, loss = 0.24384952\n",
            "Iteration 147, loss = 0.24736422\n",
            "Iteration 148, loss = 0.24667835\n",
            "Iteration 149, loss = 0.24349109\n",
            "Iteration 150, loss = 0.24504339\n",
            "Iteration 151, loss = 0.24330081\n",
            "Iteration 152, loss = 0.24400295\n",
            "Iteration 153, loss = 0.24274074\n",
            "Iteration 154, loss = 0.24281236\n",
            "Iteration 155, loss = 0.24372499\n",
            "Iteration 156, loss = 0.24136289\n",
            "Iteration 157, loss = 0.24648687\n",
            "Iteration 158, loss = 0.24158798\n",
            "Iteration 159, loss = 0.24324495\n",
            "Iteration 160, loss = 0.23973513\n",
            "Iteration 161, loss = 0.24103624\n",
            "Iteration 162, loss = 0.24143757\n",
            "Iteration 163, loss = 0.23895446\n",
            "Iteration 164, loss = 0.23998346\n",
            "Iteration 165, loss = 0.23909166\n",
            "Iteration 166, loss = 0.23822477\n",
            "Iteration 167, loss = 0.23990728\n",
            "Iteration 168, loss = 0.23914900\n",
            "Iteration 169, loss = 0.23806879\n",
            "Iteration 170, loss = 0.23679103\n",
            "Iteration 171, loss = 0.23816442\n",
            "Iteration 172, loss = 0.23612239\n",
            "Iteration 173, loss = 0.23693132\n",
            "Iteration 174, loss = 0.23562135\n",
            "Iteration 175, loss = 0.23602112\n",
            "Iteration 176, loss = 0.23491678\n",
            "Iteration 177, loss = 0.23483582\n",
            "Iteration 178, loss = 0.23421518\n",
            "Iteration 179, loss = 0.23387356\n",
            "Iteration 180, loss = 0.23347659\n",
            "Iteration 181, loss = 0.23569015\n",
            "Iteration 182, loss = 0.23191678\n",
            "Iteration 183, loss = 0.23455162\n",
            "Iteration 184, loss = 0.23501696\n",
            "Iteration 185, loss = 0.23143044\n",
            "Iteration 186, loss = 0.23167257\n",
            "Iteration 187, loss = 0.23115234\n",
            "Iteration 188, loss = 0.23209101\n",
            "Iteration 189, loss = 0.23042358\n",
            "Iteration 190, loss = 0.23034133\n",
            "Iteration 191, loss = 0.23022804\n",
            "Iteration 192, loss = 0.22980712\n",
            "Iteration 193, loss = 0.22930506\n",
            "Iteration 194, loss = 0.22894286\n",
            "Iteration 195, loss = 0.22863929\n",
            "Iteration 196, loss = 0.22836549\n",
            "Iteration 197, loss = 0.23021251\n",
            "Iteration 198, loss = 0.22829557\n",
            "Iteration 199, loss = 0.22889717\n",
            "Iteration 200, loss = 0.22806534\n"
          ]
        },
        {
          "name": "stderr",
          "output_type": "stream",
          "text": [
            "/home/cebms/anaconda3/envs/SI/lib/python3.10/site-packages/sklearn/neural_network/_multilayer_perceptron.py:686: ConvergenceWarning: Stochastic Optimizer: Maximum iterations (200) reached and the optimization hasn't converged yet.\n",
            "  warnings.warn(\n"
          ]
        },
        {
          "data": {
            "text/html": [
              "<style>#sk-container-id-36 {color: black;background-color: white;}#sk-container-id-36 pre{padding: 0;}#sk-container-id-36 div.sk-toggleable {background-color: white;}#sk-container-id-36 label.sk-toggleable__label {cursor: pointer;display: block;width: 100%;margin-bottom: 0;padding: 0.3em;box-sizing: border-box;text-align: center;}#sk-container-id-36 label.sk-toggleable__label-arrow:before {content: \"▸\";float: left;margin-right: 0.25em;color: #696969;}#sk-container-id-36 label.sk-toggleable__label-arrow:hover:before {color: black;}#sk-container-id-36 div.sk-estimator:hover label.sk-toggleable__label-arrow:before {color: black;}#sk-container-id-36 div.sk-toggleable__content {max-height: 0;max-width: 0;overflow: hidden;text-align: left;background-color: #f0f8ff;}#sk-container-id-36 div.sk-toggleable__content pre {margin: 0.2em;color: black;border-radius: 0.25em;background-color: #f0f8ff;}#sk-container-id-36 input.sk-toggleable__control:checked~div.sk-toggleable__content {max-height: 200px;max-width: 100%;overflow: auto;}#sk-container-id-36 input.sk-toggleable__control:checked~label.sk-toggleable__label-arrow:before {content: \"▾\";}#sk-container-id-36 div.sk-estimator input.sk-toggleable__control:checked~label.sk-toggleable__label {background-color: #d4ebff;}#sk-container-id-36 div.sk-label input.sk-toggleable__control:checked~label.sk-toggleable__label {background-color: #d4ebff;}#sk-container-id-36 input.sk-hidden--visually {border: 0;clip: rect(1px 1px 1px 1px);clip: rect(1px, 1px, 1px, 1px);height: 1px;margin: -1px;overflow: hidden;padding: 0;position: absolute;width: 1px;}#sk-container-id-36 div.sk-estimator {font-family: monospace;background-color: #f0f8ff;border: 1px dotted black;border-radius: 0.25em;box-sizing: border-box;margin-bottom: 0.5em;}#sk-container-id-36 div.sk-estimator:hover {background-color: #d4ebff;}#sk-container-id-36 div.sk-parallel-item::after {content: \"\";width: 100%;border-bottom: 1px solid gray;flex-grow: 1;}#sk-container-id-36 div.sk-label:hover label.sk-toggleable__label {background-color: #d4ebff;}#sk-container-id-36 div.sk-serial::before {content: \"\";position: absolute;border-left: 1px solid gray;box-sizing: border-box;top: 0;bottom: 0;left: 50%;z-index: 0;}#sk-container-id-36 div.sk-serial {display: flex;flex-direction: column;align-items: center;background-color: white;padding-right: 0.2em;padding-left: 0.2em;position: relative;}#sk-container-id-36 div.sk-item {position: relative;z-index: 1;}#sk-container-id-36 div.sk-parallel {display: flex;align-items: stretch;justify-content: center;background-color: white;position: relative;}#sk-container-id-36 div.sk-item::before, #sk-container-id-36 div.sk-parallel-item::before {content: \"\";position: absolute;border-left: 1px solid gray;box-sizing: border-box;top: 0;bottom: 0;left: 50%;z-index: -1;}#sk-container-id-36 div.sk-parallel-item {display: flex;flex-direction: column;z-index: 1;position: relative;background-color: white;}#sk-container-id-36 div.sk-parallel-item:first-child::after {align-self: flex-end;width: 50%;}#sk-container-id-36 div.sk-parallel-item:last-child::after {align-self: flex-start;width: 50%;}#sk-container-id-36 div.sk-parallel-item:only-child::after {width: 0;}#sk-container-id-36 div.sk-dashed-wrapped {border: 1px dashed gray;margin: 0 0.4em 0.5em 0.4em;box-sizing: border-box;padding-bottom: 0.4em;background-color: white;}#sk-container-id-36 div.sk-label label {font-family: monospace;font-weight: bold;display: inline-block;line-height: 1.2em;}#sk-container-id-36 div.sk-label-container {text-align: center;}#sk-container-id-36 div.sk-container {/* jupyter's `normalize.less` sets `[hidden] { display: none; }` but bootstrap.min.css set `[hidden] { display: none !important; }` so we also need the `!important` here to be able to override the default hidden behavior on the sphinx rendered scikit-learn.org. See: https://github.com/scikit-learn/scikit-learn/issues/21755 */display: inline-block !important;position: relative;}#sk-container-id-36 div.sk-text-repr-fallback {display: none;}</style><div id=\"sk-container-id-36\" class=\"sk-top-container\"><div class=\"sk-text-repr-fallback\"><pre>MLPClassifier(verbose=True)</pre><b>In a Jupyter environment, please rerun this cell to show the HTML representation or trust the notebook. <br />On GitHub, the HTML representation is unable to render, please try loading this page with nbviewer.org.</b></div><div class=\"sk-container\" hidden><div class=\"sk-item\"><div class=\"sk-estimator sk-toggleable\"><input class=\"sk-toggleable__control sk-hidden--visually\" id=\"sk-estimator-id-36\" type=\"checkbox\" checked><label for=\"sk-estimator-id-36\" class=\"sk-toggleable__label sk-toggleable__label-arrow\">MLPClassifier</label><div class=\"sk-toggleable__content\"><pre>MLPClassifier(verbose=True)</pre></div></div></div></div></div>"
            ],
            "text/plain": [
              "MLPClassifier(verbose=True)"
            ]
          },
          "execution_count": 492,
          "metadata": {},
          "output_type": "execute_result"
        }
      ],
      "source": [
        "model.fit(X_train_resampled, y_train_resampled)"
      ]
    },
    {
      "cell_type": "code",
      "execution_count": 493,
      "metadata": {},
      "outputs": [
        {
          "name": "stderr",
          "output_type": "stream",
          "text": [
            "/home/cebms/anaconda3/envs/SI/lib/python3.10/site-packages/sklearn/utils/validation.py:767: FutureWarning: is_sparse is deprecated and will be removed in a future version. Check `isinstance(dtype, pd.SparseDtype)` instead.\n",
            "  if not hasattr(array, \"sparse\") and array.dtypes.apply(is_sparse).any():\n",
            "/home/cebms/anaconda3/envs/SI/lib/python3.10/site-packages/sklearn/utils/validation.py:605: FutureWarning: is_sparse is deprecated and will be removed in a future version. Check `isinstance(dtype, pd.SparseDtype)` instead.\n",
            "  if is_sparse(pd_dtype):\n",
            "/home/cebms/anaconda3/envs/SI/lib/python3.10/site-packages/sklearn/utils/validation.py:614: FutureWarning: is_sparse is deprecated and will be removed in a future version. Check `isinstance(dtype, pd.SparseDtype)` instead.\n",
            "  if is_sparse(pd_dtype) or not is_extension_array_dtype(pd_dtype):\n"
          ]
        }
      ],
      "source": [
        "y_pred = model.predict(X_test)"
      ]
    },
    {
      "cell_type": "code",
      "execution_count": 494,
      "metadata": {},
      "outputs": [
        {
          "name": "stdout",
          "output_type": "stream",
          "text": [
            "              precision    recall  f1-score   support\n",
            "\n",
            "    Abnormal       0.90      0.84      0.87        44\n",
            "      Normal       0.67      0.78      0.72        18\n",
            "\n",
            "    accuracy                           0.82        62\n",
            "   macro avg       0.78      0.81      0.79        62\n",
            "weighted avg       0.83      0.82      0.83        62\n",
            "\n"
          ]
        },
        {
          "name": "stderr",
          "output_type": "stream",
          "text": [
            "/home/cebms/anaconda3/envs/SI/lib/python3.10/site-packages/sklearn/utils/validation.py:605: FutureWarning: is_sparse is deprecated and will be removed in a future version. Check `isinstance(dtype, pd.SparseDtype)` instead.\n",
            "  if is_sparse(pd_dtype):\n",
            "/home/cebms/anaconda3/envs/SI/lib/python3.10/site-packages/sklearn/utils/validation.py:614: FutureWarning: is_sparse is deprecated and will be removed in a future version. Check `isinstance(dtype, pd.SparseDtype)` instead.\n",
            "  if is_sparse(pd_dtype) or not is_extension_array_dtype(pd_dtype):\n",
            "/home/cebms/anaconda3/envs/SI/lib/python3.10/site-packages/sklearn/utils/validation.py:605: FutureWarning: is_sparse is deprecated and will be removed in a future version. Check `isinstance(dtype, pd.SparseDtype)` instead.\n",
            "  if is_sparse(pd_dtype):\n",
            "/home/cebms/anaconda3/envs/SI/lib/python3.10/site-packages/sklearn/utils/validation.py:614: FutureWarning: is_sparse is deprecated and will be removed in a future version. Check `isinstance(dtype, pd.SparseDtype)` instead.\n",
            "  if is_sparse(pd_dtype) or not is_extension_array_dtype(pd_dtype):\n",
            "/home/cebms/anaconda3/envs/SI/lib/python3.10/site-packages/sklearn/utils/validation.py:605: FutureWarning: is_sparse is deprecated and will be removed in a future version. Check `isinstance(dtype, pd.SparseDtype)` instead.\n",
            "  if is_sparse(pd_dtype):\n",
            "/home/cebms/anaconda3/envs/SI/lib/python3.10/site-packages/sklearn/utils/validation.py:614: FutureWarning: is_sparse is deprecated and will be removed in a future version. Check `isinstance(dtype, pd.SparseDtype)` instead.\n",
            "  if is_sparse(pd_dtype) or not is_extension_array_dtype(pd_dtype):\n"
          ]
        }
      ],
      "source": [
        "print(classification_report(y_test, y_pred))"
      ]
    },
    {
      "cell_type": "code",
      "execution_count": 495,
      "metadata": {},
      "outputs": [
        {
          "name": "stderr",
          "output_type": "stream",
          "text": [
            "/home/cebms/anaconda3/envs/SI/lib/python3.10/site-packages/sklearn/utils/validation.py:767: FutureWarning: is_sparse is deprecated and will be removed in a future version. Check `isinstance(dtype, pd.SparseDtype)` instead.\n",
            "  if not hasattr(array, \"sparse\") and array.dtypes.apply(is_sparse).any():\n",
            "/home/cebms/anaconda3/envs/SI/lib/python3.10/site-packages/sklearn/utils/validation.py:605: FutureWarning: is_sparse is deprecated and will be removed in a future version. Check `isinstance(dtype, pd.SparseDtype)` instead.\n",
            "  if is_sparse(pd_dtype):\n",
            "/home/cebms/anaconda3/envs/SI/lib/python3.10/site-packages/sklearn/utils/validation.py:614: FutureWarning: is_sparse is deprecated and will be removed in a future version. Check `isinstance(dtype, pd.SparseDtype)` instead.\n",
            "  if is_sparse(pd_dtype) or not is_extension_array_dtype(pd_dtype):\n",
            "/home/cebms/anaconda3/envs/SI/lib/python3.10/site-packages/sklearn/utils/validation.py:605: FutureWarning: is_sparse is deprecated and will be removed in a future version. Check `isinstance(dtype, pd.SparseDtype)` instead.\n",
            "  if is_sparse(pd_dtype):\n",
            "/home/cebms/anaconda3/envs/SI/lib/python3.10/site-packages/sklearn/utils/validation.py:614: FutureWarning: is_sparse is deprecated and will be removed in a future version. Check `isinstance(dtype, pd.SparseDtype)` instead.\n",
            "  if is_sparse(pd_dtype) or not is_extension_array_dtype(pd_dtype):\n",
            "/home/cebms/anaconda3/envs/SI/lib/python3.10/site-packages/sklearn/utils/validation.py:605: FutureWarning: is_sparse is deprecated and will be removed in a future version. Check `isinstance(dtype, pd.SparseDtype)` instead.\n",
            "  if is_sparse(pd_dtype):\n",
            "/home/cebms/anaconda3/envs/SI/lib/python3.10/site-packages/sklearn/utils/validation.py:614: FutureWarning: is_sparse is deprecated and will be removed in a future version. Check `isinstance(dtype, pd.SparseDtype)` instead.\n",
            "  if is_sparse(pd_dtype) or not is_extension_array_dtype(pd_dtype):\n",
            "/home/cebms/anaconda3/envs/SI/lib/python3.10/site-packages/sklearn/utils/validation.py:605: FutureWarning: is_sparse is deprecated and will be removed in a future version. Check `isinstance(dtype, pd.SparseDtype)` instead.\n",
            "  if is_sparse(pd_dtype):\n",
            "/home/cebms/anaconda3/envs/SI/lib/python3.10/site-packages/sklearn/utils/validation.py:614: FutureWarning: is_sparse is deprecated and will be removed in a future version. Check `isinstance(dtype, pd.SparseDtype)` instead.\n",
            "  if is_sparse(pd_dtype) or not is_extension_array_dtype(pd_dtype):\n",
            "/home/cebms/anaconda3/envs/SI/lib/python3.10/site-packages/sklearn/utils/validation.py:605: FutureWarning: is_sparse is deprecated and will be removed in a future version. Check `isinstance(dtype, pd.SparseDtype)` instead.\n",
            "  if is_sparse(pd_dtype):\n",
            "/home/cebms/anaconda3/envs/SI/lib/python3.10/site-packages/sklearn/utils/validation.py:614: FutureWarning: is_sparse is deprecated and will be removed in a future version. Check `isinstance(dtype, pd.SparseDtype)` instead.\n",
            "  if is_sparse(pd_dtype) or not is_extension_array_dtype(pd_dtype):\n",
            "/home/cebms/anaconda3/envs/SI/lib/python3.10/site-packages/sklearn/utils/validation.py:605: FutureWarning: is_sparse is deprecated and will be removed in a future version. Check `isinstance(dtype, pd.SparseDtype)` instead.\n",
            "  if is_sparse(pd_dtype):\n",
            "/home/cebms/anaconda3/envs/SI/lib/python3.10/site-packages/sklearn/utils/validation.py:614: FutureWarning: is_sparse is deprecated and will be removed in a future version. Check `isinstance(dtype, pd.SparseDtype)` instead.\n",
            "  if is_sparse(pd_dtype) or not is_extension_array_dtype(pd_dtype):\n"
          ]
        },
        {
          "data": {
            "image/png": "[encoded data removed]",
            "text/plain": [
              "<Figure size 640x480 with 2 Axes>"
            ]
          },
          "metadata": {},
          "output_type": "display_data"
        }
      ],
      "source": [
        "ConfusionMatrixDisplay.from_estimator(model, X_test, y_test)\n",
        "plt.show()"
      ]
    },
    {
      "cell_type": "code",
      "execution_count": 496,
      "metadata": {},
      "outputs": [
        {
          "data": {
            "text/plain": [
              "(298, 13)"
            ]
          },
          "execution_count": 496,
          "metadata": {},
          "output_type": "execute_result"
        }
      ],
      "source": [
        "#WIP: removing outliers\n",
        "from scipy import stats\n",
        "outliers_removed = df[(np.abs(stats.zscore(X)) < 3).all(axis=1)]\n",
        "outliers_removed.shape"
      ]
    },
    {
      "cell_type": "code",
      "execution_count": 497,
      "metadata": {},
      "outputs": [
        {
          "name": "stderr",
          "output_type": "stream",
          "text": [
            "/home/cebms/anaconda3/envs/SI/lib/python3.10/site-packages/sklearn/utils/validation.py:767: FutureWarning: is_sparse is deprecated and will be removed in a future version. Check `isinstance(dtype, pd.SparseDtype)` instead.\n",
            "  if not hasattr(array, \"sparse\") and array.dtypes.apply(is_sparse).any():\n",
            "/home/cebms/anaconda3/envs/SI/lib/python3.10/site-packages/sklearn/utils/validation.py:605: FutureWarning: is_sparse is deprecated and will be removed in a future version. Check `isinstance(dtype, pd.SparseDtype)` instead.\n",
            "  if is_sparse(pd_dtype):\n",
            "/home/cebms/anaconda3/envs/SI/lib/python3.10/site-packages/sklearn/utils/validation.py:614: FutureWarning: is_sparse is deprecated and will be removed in a future version. Check `isinstance(dtype, pd.SparseDtype)` instead.\n",
            "  if is_sparse(pd_dtype) or not is_extension_array_dtype(pd_dtype):\n",
            "/home/cebms/anaconda3/envs/SI/lib/python3.10/site-packages/sklearn/utils/validation.py:605: FutureWarning: is_sparse is deprecated and will be removed in a future version. Check `isinstance(dtype, pd.SparseDtype)` instead.\n",
            "  if is_sparse(pd_dtype):\n",
            "/home/cebms/anaconda3/envs/SI/lib/python3.10/site-packages/sklearn/utils/validation.py:614: FutureWarning: is_sparse is deprecated and will be removed in a future version. Check `isinstance(dtype, pd.SparseDtype)` instead.\n",
            "  if is_sparse(pd_dtype) or not is_extension_array_dtype(pd_dtype):\n"
          ]
        },
        {
          "name": "stdout",
          "output_type": "stream",
          "text": [
            "Iteration 1, loss = 3.55027329\n",
            "Iteration 2, loss = 1.98071789\n",
            "Iteration 3, loss = 1.44431179\n",
            "Iteration 4, loss = 1.83758156\n",
            "Iteration 5, loss = 1.86478651\n",
            "Iteration 6, loss = 1.48970640\n",
            "Iteration 7, loss = 1.23515979\n",
            "Iteration 8, loss = 1.15266817\n",
            "Iteration 9, loss = 1.17724677\n",
            "Iteration 10, loss = 1.14274414\n",
            "Iteration 11, loss = 1.02530393\n",
            "Iteration 12, loss = 0.93719520\n",
            "Iteration 13, loss = 0.87591515\n",
            "Iteration 14, loss = 0.85996364\n",
            "Iteration 15, loss = 0.81916138\n",
            "Iteration 16, loss = 0.76266078\n",
            "Iteration 17, loss = 0.71470495\n",
            "Iteration 18, loss = 0.67886196\n",
            "Iteration 19, loss = 0.65035329\n",
            "Iteration 20, loss = 0.62565708\n",
            "Iteration 21, loss = 0.59251184\n",
            "Iteration 22, loss = 0.55590594\n",
            "Iteration 23, loss = 0.52422067\n",
            "Iteration 24, loss = 0.50119702\n",
            "Iteration 25, loss = 0.47893733\n",
            "Iteration 26, loss = 0.45487435\n",
            "Iteration 27, loss = 0.43706426\n",
            "Iteration 28, loss = 0.42360217\n",
            "Iteration 29, loss = 0.40556899\n",
            "Iteration 30, loss = 0.39335258\n",
            "Iteration 31, loss = 0.38229536\n",
            "Iteration 32, loss = 0.37424104\n",
            "Iteration 33, loss = 0.36373797\n",
            "Iteration 34, loss = 0.36917348\n",
            "Iteration 35, loss = 0.36456178\n",
            "Iteration 36, loss = 0.34962294\n",
            "Iteration 37, loss = 0.35803219\n",
            "Iteration 38, loss = 0.36350517\n",
            "Iteration 39, loss = 0.34781829\n",
            "Iteration 40, loss = 0.35180322\n",
            "Iteration 41, loss = 0.35060873\n",
            "Iteration 42, loss = 0.34044520\n",
            "Iteration 43, loss = 0.34817234\n",
            "Iteration 44, loss = 0.35373161\n",
            "Iteration 45, loss = 0.34055936\n",
            "Iteration 46, loss = 0.33692961\n",
            "Iteration 47, loss = 0.33540634\n",
            "Iteration 48, loss = 0.33237023\n",
            "Iteration 49, loss = 0.33579198\n",
            "Iteration 50, loss = 0.33496350\n",
            "Iteration 51, loss = 0.32909673\n",
            "Iteration 52, loss = 0.32745012\n",
            "Iteration 53, loss = 0.32809636\n",
            "Iteration 54, loss = 0.32646896\n",
            "Iteration 55, loss = 0.32597509\n",
            "Iteration 56, loss = 0.32215469\n",
            "Iteration 57, loss = 0.32986530\n",
            "Iteration 58, loss = 0.33101417\n",
            "Iteration 59, loss = 0.31713559\n",
            "Iteration 60, loss = 0.33406803\n",
            "Iteration 61, loss = 0.34542819\n",
            "Iteration 62, loss = 0.32560265\n",
            "Iteration 63, loss = 0.33337916\n",
            "Iteration 64, loss = 0.31825636\n",
            "Iteration 65, loss = 0.32422858\n",
            "Iteration 66, loss = 0.31757673\n",
            "Iteration 67, loss = 0.32155031\n",
            "Iteration 68, loss = 0.31639385\n",
            "Iteration 69, loss = 0.31523376\n",
            "Iteration 70, loss = 0.30897252\n",
            "Iteration 71, loss = 0.31877676\n",
            "Iteration 72, loss = 0.32715317\n",
            "Iteration 73, loss = 0.31380500\n",
            "Iteration 74, loss = 0.30781862\n",
            "Iteration 75, loss = 0.30720729\n",
            "Iteration 76, loss = 0.30871213\n",
            "Iteration 77, loss = 0.31029857\n",
            "Iteration 78, loss = 0.30777751\n",
            "Iteration 79, loss = 0.30659546\n",
            "Iteration 80, loss = 0.30483274\n",
            "Iteration 81, loss = 0.30393394\n",
            "Iteration 82, loss = 0.30588580\n",
            "Iteration 83, loss = 0.30127501\n",
            "Iteration 84, loss = 0.31582148\n",
            "Iteration 85, loss = 0.31771375\n",
            "Iteration 86, loss = 0.30523777\n",
            "Iteration 87, loss = 0.30105889\n",
            "Iteration 88, loss = 0.30169531\n",
            "Iteration 89, loss = 0.31060391\n",
            "Iteration 90, loss = 0.30529241\n",
            "Iteration 91, loss = 0.29924485\n",
            "Iteration 92, loss = 0.30198858\n",
            "Iteration 93, loss = 0.29691367\n",
            "Iteration 94, loss = 0.31442996\n",
            "Iteration 95, loss = 0.30747820\n",
            "Iteration 96, loss = 0.29834174\n",
            "Iteration 97, loss = 0.31203100\n",
            "Iteration 98, loss = 0.30283081\n",
            "Iteration 99, loss = 0.30176086\n",
            "Iteration 100, loss = 0.29665911\n",
            "Iteration 101, loss = 0.29491421\n",
            "Iteration 102, loss = 0.29473735\n",
            "Iteration 103, loss = 0.29418354\n",
            "Iteration 104, loss = 0.29537600\n",
            "Iteration 105, loss = 0.29395405\n",
            "Iteration 106, loss = 0.29311619\n",
            "Iteration 107, loss = 0.29274054\n",
            "Iteration 108, loss = 0.29285120\n",
            "Iteration 109, loss = 0.29178018\n",
            "Iteration 110, loss = 0.29365706\n",
            "Iteration 111, loss = 0.30342499\n",
            "Iteration 112, loss = 0.31243813\n",
            "Iteration 113, loss = 0.29335851\n",
            "Iteration 114, loss = 0.29040055\n",
            "Iteration 115, loss = 0.29130429\n",
            "Iteration 116, loss = 0.30502057\n",
            "Iteration 117, loss = 0.29677608\n",
            "Iteration 118, loss = 0.29467859\n",
            "Iteration 119, loss = 0.29055850\n",
            "Iteration 120, loss = 0.28950017\n",
            "Iteration 121, loss = 0.29232849\n",
            "Iteration 122, loss = 0.28549662\n",
            "Iteration 123, loss = 0.29940391\n",
            "Iteration 124, loss = 0.29321817\n",
            "Iteration 125, loss = 0.29055366\n",
            "Iteration 126, loss = 0.29254475\n",
            "Iteration 127, loss = 0.28801490\n",
            "Iteration 128, loss = 0.28194487\n",
            "Iteration 129, loss = 0.30196947\n",
            "Iteration 130, loss = 0.30252126\n",
            "Iteration 131, loss = 0.28590522\n",
            "Iteration 132, loss = 0.32844475\n",
            "Iteration 133, loss = 0.29098851\n",
            "Iteration 134, loss = 0.31622443\n",
            "Iteration 135, loss = 0.28978941\n",
            "Iteration 136, loss = 0.29801778\n",
            "Iteration 137, loss = 0.28679272\n",
            "Iteration 138, loss = 0.29073692\n",
            "Iteration 139, loss = 0.29593108\n",
            "Training loss did not improve more than tol=0.000100 for 10 consecutive epochs. Stopping.\n",
            "              precision    recall  f1-score   support\n",
            "\n",
            "    Abnormal       0.93      0.86      0.89        43\n",
            "      Normal       0.70      0.82      0.76        17\n",
            "\n",
            "    accuracy                           0.85        60\n",
            "   macro avg       0.81      0.84      0.82        60\n",
            "weighted avg       0.86      0.85      0.85        60\n",
            "\n"
          ]
        },
        {
          "name": "stderr",
          "output_type": "stream",
          "text": [
            "/home/cebms/anaconda3/envs/SI/lib/python3.10/site-packages/sklearn/utils/validation.py:767: FutureWarning: is_sparse is deprecated and will be removed in a future version. Check `isinstance(dtype, pd.SparseDtype)` instead.\n",
            "  if not hasattr(array, \"sparse\") and array.dtypes.apply(is_sparse).any():\n",
            "/home/cebms/anaconda3/envs/SI/lib/python3.10/site-packages/sklearn/utils/validation.py:605: FutureWarning: is_sparse is deprecated and will be removed in a future version. Check `isinstance(dtype, pd.SparseDtype)` instead.\n",
            "  if is_sparse(pd_dtype):\n",
            "/home/cebms/anaconda3/envs/SI/lib/python3.10/site-packages/sklearn/utils/validation.py:614: FutureWarning: is_sparse is deprecated and will be removed in a future version. Check `isinstance(dtype, pd.SparseDtype)` instead.\n",
            "  if is_sparse(pd_dtype) or not is_extension_array_dtype(pd_dtype):\n",
            "/home/cebms/anaconda3/envs/SI/lib/python3.10/site-packages/sklearn/utils/validation.py:605: FutureWarning: is_sparse is deprecated and will be removed in a future version. Check `isinstance(dtype, pd.SparseDtype)` instead.\n",
            "  if is_sparse(pd_dtype):\n",
            "/home/cebms/anaconda3/envs/SI/lib/python3.10/site-packages/sklearn/utils/validation.py:614: FutureWarning: is_sparse is deprecated and will be removed in a future version. Check `isinstance(dtype, pd.SparseDtype)` instead.\n",
            "  if is_sparse(pd_dtype) or not is_extension_array_dtype(pd_dtype):\n",
            "/home/cebms/anaconda3/envs/SI/lib/python3.10/site-packages/sklearn/utils/validation.py:605: FutureWarning: is_sparse is deprecated and will be removed in a future version. Check `isinstance(dtype, pd.SparseDtype)` instead.\n",
            "  if is_sparse(pd_dtype):\n",
            "/home/cebms/anaconda3/envs/SI/lib/python3.10/site-packages/sklearn/utils/validation.py:614: FutureWarning: is_sparse is deprecated and will be removed in a future version. Check `isinstance(dtype, pd.SparseDtype)` instead.\n",
            "  if is_sparse(pd_dtype) or not is_extension_array_dtype(pd_dtype):\n",
            "/home/cebms/anaconda3/envs/SI/lib/python3.10/site-packages/sklearn/utils/validation.py:605: FutureWarning: is_sparse is deprecated and will be removed in a future version. Check `isinstance(dtype, pd.SparseDtype)` instead.\n",
            "  if is_sparse(pd_dtype):\n",
            "/home/cebms/anaconda3/envs/SI/lib/python3.10/site-packages/sklearn/utils/validation.py:614: FutureWarning: is_sparse is deprecated and will be removed in a future version. Check `isinstance(dtype, pd.SparseDtype)` instead.\n",
            "  if is_sparse(pd_dtype) or not is_extension_array_dtype(pd_dtype):\n"
          ]
        }
      ],
      "source": [
        "y = outliers_removed['Class_att']\n",
        "X = outliers_removed.drop(['Class_att'], axis=1)\n",
        "\n",
        "X_train, X_test, y_train, y_test = train_test_split(X, y, train_size=0.8, shuffle=True)\n",
        "model = MLPClassifier(verbose=True, max_iter=200)\n",
        "# smote = SMOTE(sampling_strategy='auto', random_state=42)  # Pode ajustar a estratégia de amostragem conforme necessário\n",
        "# X_train_resampled, y_train_resampled = smote.fit_resample(X_train, y_train)\n",
        "model.fit(X_train, y_train)\n",
        "y_pred = model.predict(X_test)\n",
        "print(classification_report(y_test, y_pred))\n"
      ]
    },
    {
      "cell_type": "markdown",
      "metadata": {
        "id": "yH1fLjQbNeMc"
      },
      "source": [
        "# using kfold\n",
        "acho que nao funcionou mto bem"
      ]
    },
    {
      "cell_type": "code",
      "execution_count": 498,
      "metadata": {
        "id": "LW2ElCgSKJHB"
      },
      "outputs": [],
      "source": [
        "kf = KFold(n_splits=3, shuffle=False)"
      ]
    },
    {
      "cell_type": "code",
      "execution_count": 499,
      "metadata": {
        "colab": {
          "base_uri": "https://localhost:8080/"
        },
        "id": "kWuA_QeqITy_",
        "outputId": "55febf88-1256-41e4-bfc7-5fd02ddaa9aa"
      },
      "outputs": [
        {
          "data": {
            "text/plain": [
              "{'activation': 'relu',\n",
              " 'alpha': 0.0001,\n",
              " 'batch_size': 'auto',\n",
              " 'beta_1': 0.9,\n",
              " 'beta_2': 0.999,\n",
              " 'early_stopping': False,\n",
              " 'epsilon': 1e-08,\n",
              " 'hidden_layer_sizes': (100,),\n",
              " 'learning_rate': 'constant',\n",
              " 'learning_rate_init': 0.001,\n",
              " 'max_fun': 15000,\n",
              " 'max_iter': 200,\n",
              " 'momentum': 0.9,\n",
              " 'n_iter_no_change': 10,\n",
              " 'nesterovs_momentum': True,\n",
              " 'power_t': 0.5,\n",
              " 'random_state': None,\n",
              " 'shuffle': True,\n",
              " 'solver': 'adam',\n",
              " 'tol': 0.0001,\n",
              " 'validation_fraction': 0.1,\n",
              " 'verbose': False,\n",
              " 'warm_start': False}"
            ]
          },
          "execution_count": 499,
          "metadata": {},
          "output_type": "execute_result"
        }
      ],
      "source": [
        "model = MLPClassifier(verbose=False)\n",
        "model.get_params()"
      ]
    },
    {
      "cell_type": "code",
      "execution_count": 500,
      "metadata": {
        "colab": {
          "base_uri": "https://localhost:8080/"
        },
        "id": "58vBV-ZfIYqz",
        "outputId": "30b43a8a-0ebd-432b-8292-dde79fd375c8"
      },
      "outputs": [
        {
          "name": "stderr",
          "output_type": "stream",
          "text": [
            "/home/cebms/anaconda3/envs/SI/lib/python3.10/site-packages/sklearn/utils/validation.py:767: FutureWarning: is_sparse is deprecated and will be removed in a future version. Check `isinstance(dtype, pd.SparseDtype)` instead.\n",
            "  if not hasattr(array, \"sparse\") and array.dtypes.apply(is_sparse).any():\n",
            "/home/cebms/anaconda3/envs/SI/lib/python3.10/site-packages/sklearn/utils/validation.py:605: FutureWarning: is_sparse is deprecated and will be removed in a future version. Check `isinstance(dtype, pd.SparseDtype)` instead.\n",
            "  if is_sparse(pd_dtype):\n",
            "/home/cebms/anaconda3/envs/SI/lib/python3.10/site-packages/sklearn/utils/validation.py:614: FutureWarning: is_sparse is deprecated and will be removed in a future version. Check `isinstance(dtype, pd.SparseDtype)` instead.\n",
            "  if is_sparse(pd_dtype) or not is_extension_array_dtype(pd_dtype):\n",
            "/home/cebms/anaconda3/envs/SI/lib/python3.10/site-packages/sklearn/utils/validation.py:605: FutureWarning: is_sparse is deprecated and will be removed in a future version. Check `isinstance(dtype, pd.SparseDtype)` instead.\n",
            "  if is_sparse(pd_dtype):\n",
            "/home/cebms/anaconda3/envs/SI/lib/python3.10/site-packages/sklearn/utils/validation.py:614: FutureWarning: is_sparse is deprecated and will be removed in a future version. Check `isinstance(dtype, pd.SparseDtype)` instead.\n",
            "  if is_sparse(pd_dtype) or not is_extension_array_dtype(pd_dtype):\n"
          ]
        },
        {
          "name": "stdout",
          "output_type": "stream",
          "text": [
            "iteration 0:\n"
          ]
        },
        {
          "name": "stderr",
          "output_type": "stream",
          "text": [
            "/home/cebms/anaconda3/envs/SI/lib/python3.10/site-packages/sklearn/neural_network/_multilayer_perceptron.py:686: ConvergenceWarning: Stochastic Optimizer: Maximum iterations (200) reached and the optimization hasn't converged yet.\n",
            "  warnings.warn(\n",
            "/home/cebms/anaconda3/envs/SI/lib/python3.10/site-packages/sklearn/utils/validation.py:767: FutureWarning: is_sparse is deprecated and will be removed in a future version. Check `isinstance(dtype, pd.SparseDtype)` instead.\n",
            "  if not hasattr(array, \"sparse\") and array.dtypes.apply(is_sparse).any():\n",
            "/home/cebms/anaconda3/envs/SI/lib/python3.10/site-packages/sklearn/utils/validation.py:605: FutureWarning: is_sparse is deprecated and will be removed in a future version. Check `isinstance(dtype, pd.SparseDtype)` instead.\n",
            "  if is_sparse(pd_dtype):\n",
            "/home/cebms/anaconda3/envs/SI/lib/python3.10/site-packages/sklearn/utils/validation.py:614: FutureWarning: is_sparse is deprecated and will be removed in a future version. Check `isinstance(dtype, pd.SparseDtype)` instead.\n",
            "  if is_sparse(pd_dtype) or not is_extension_array_dtype(pd_dtype):\n",
            "/home/cebms/anaconda3/envs/SI/lib/python3.10/site-packages/sklearn/utils/validation.py:605: FutureWarning: is_sparse is deprecated and will be removed in a future version. Check `isinstance(dtype, pd.SparseDtype)` instead.\n",
            "  if is_sparse(pd_dtype):\n",
            "/home/cebms/anaconda3/envs/SI/lib/python3.10/site-packages/sklearn/utils/validation.py:614: FutureWarning: is_sparse is deprecated and will be removed in a future version. Check `isinstance(dtype, pd.SparseDtype)` instead.\n",
            "  if is_sparse(pd_dtype) or not is_extension_array_dtype(pd_dtype):\n",
            "/home/cebms/anaconda3/envs/SI/lib/python3.10/site-packages/sklearn/utils/validation.py:605: FutureWarning: is_sparse is deprecated and will be removed in a future version. Check `isinstance(dtype, pd.SparseDtype)` instead.\n",
            "  if is_sparse(pd_dtype):\n",
            "/home/cebms/anaconda3/envs/SI/lib/python3.10/site-packages/sklearn/utils/validation.py:614: FutureWarning: is_sparse is deprecated and will be removed in a future version. Check `isinstance(dtype, pd.SparseDtype)` instead.\n",
            "  if is_sparse(pd_dtype) or not is_extension_array_dtype(pd_dtype):\n",
            "/home/cebms/anaconda3/envs/SI/lib/python3.10/site-packages/sklearn/utils/validation.py:605: FutureWarning: is_sparse is deprecated and will be removed in a future version. Check `isinstance(dtype, pd.SparseDtype)` instead.\n",
            "  if is_sparse(pd_dtype):\n",
            "/home/cebms/anaconda3/envs/SI/lib/python3.10/site-packages/sklearn/utils/validation.py:614: FutureWarning: is_sparse is deprecated and will be removed in a future version. Check `isinstance(dtype, pd.SparseDtype)` instead.\n",
            "  if is_sparse(pd_dtype) or not is_extension_array_dtype(pd_dtype):\n",
            "/home/cebms/anaconda3/envs/SI/lib/python3.10/site-packages/sklearn/metrics/_classification.py:1344: UndefinedMetricWarning: Recall and F-score are ill-defined and being set to 0.0 in labels with no true samples. Use `zero_division` parameter to control this behavior.\n",
            "  _warn_prf(average, modifier, msg_start, len(result))\n",
            "/home/cebms/anaconda3/envs/SI/lib/python3.10/site-packages/sklearn/metrics/_classification.py:1344: UndefinedMetricWarning: Recall and F-score are ill-defined and being set to 0.0 in labels with no true samples. Use `zero_division` parameter to control this behavior.\n",
            "  _warn_prf(average, modifier, msg_start, len(result))\n",
            "/home/cebms/anaconda3/envs/SI/lib/python3.10/site-packages/sklearn/metrics/_classification.py:1344: UndefinedMetricWarning: Recall and F-score are ill-defined and being set to 0.0 in labels with no true samples. Use `zero_division` parameter to control this behavior.\n",
            "  _warn_prf(average, modifier, msg_start, len(result))\n",
            "/home/cebms/anaconda3/envs/SI/lib/python3.10/site-packages/sklearn/utils/validation.py:767: FutureWarning: is_sparse is deprecated and will be removed in a future version. Check `isinstance(dtype, pd.SparseDtype)` instead.\n",
            "  if not hasattr(array, \"sparse\") and array.dtypes.apply(is_sparse).any():\n",
            "/home/cebms/anaconda3/envs/SI/lib/python3.10/site-packages/sklearn/utils/validation.py:605: FutureWarning: is_sparse is deprecated and will be removed in a future version. Check `isinstance(dtype, pd.SparseDtype)` instead.\n",
            "  if is_sparse(pd_dtype):\n",
            "/home/cebms/anaconda3/envs/SI/lib/python3.10/site-packages/sklearn/utils/validation.py:614: FutureWarning: is_sparse is deprecated and will be removed in a future version. Check `isinstance(dtype, pd.SparseDtype)` instead.\n",
            "  if is_sparse(pd_dtype) or not is_extension_array_dtype(pd_dtype):\n",
            "/home/cebms/anaconda3/envs/SI/lib/python3.10/site-packages/sklearn/utils/validation.py:605: FutureWarning: is_sparse is deprecated and will be removed in a future version. Check `isinstance(dtype, pd.SparseDtype)` instead.\n",
            "  if is_sparse(pd_dtype):\n",
            "/home/cebms/anaconda3/envs/SI/lib/python3.10/site-packages/sklearn/utils/validation.py:614: FutureWarning: is_sparse is deprecated and will be removed in a future version. Check `isinstance(dtype, pd.SparseDtype)` instead.\n",
            "  if is_sparse(pd_dtype) or not is_extension_array_dtype(pd_dtype):\n"
          ]
        },
        {
          "name": "stdout",
          "output_type": "stream",
          "text": [
            "              precision    recall  f1-score   support\n",
            "\n",
            "    Abnormal       1.00      0.40      0.57       100\n",
            "      Normal       0.00      0.00      0.00         0\n",
            "\n",
            "    accuracy                           0.40       100\n",
            "   macro avg       0.50      0.20      0.29       100\n",
            "weighted avg       1.00      0.40      0.57       100\n",
            "\n",
            "iteration 1:\n",
            "              precision    recall  f1-score   support\n",
            "\n",
            "    Abnormal       0.99      0.94      0.96        98\n",
            "      Normal       0.00      0.00      0.00         1\n",
            "\n",
            "    accuracy                           0.93        99\n",
            "   macro avg       0.49      0.47      0.48        99\n",
            "weighted avg       0.98      0.93      0.95        99\n",
            "\n",
            "iteration 2:\n",
            "              precision    recall  f1-score   support\n",
            "\n",
            "    Abnormal       0.00      0.00      0.00       0.0\n",
            "      Normal       0.00      0.00      0.00      99.0\n",
            "\n",
            "    accuracy                           0.00      99.0\n",
            "   macro avg       0.00      0.00      0.00      99.0\n",
            "weighted avg       0.00      0.00      0.00      99.0\n",
            "\n"
          ]
        },
        {
          "name": "stderr",
          "output_type": "stream",
          "text": [
            "/home/cebms/anaconda3/envs/SI/lib/python3.10/site-packages/sklearn/neural_network/_multilayer_perceptron.py:686: ConvergenceWarning: Stochastic Optimizer: Maximum iterations (200) reached and the optimization hasn't converged yet.\n",
            "  warnings.warn(\n",
            "/home/cebms/anaconda3/envs/SI/lib/python3.10/site-packages/sklearn/utils/validation.py:767: FutureWarning: is_sparse is deprecated and will be removed in a future version. Check `isinstance(dtype, pd.SparseDtype)` instead.\n",
            "  if not hasattr(array, \"sparse\") and array.dtypes.apply(is_sparse).any():\n",
            "/home/cebms/anaconda3/envs/SI/lib/python3.10/site-packages/sklearn/utils/validation.py:605: FutureWarning: is_sparse is deprecated and will be removed in a future version. Check `isinstance(dtype, pd.SparseDtype)` instead.\n",
            "  if is_sparse(pd_dtype):\n",
            "/home/cebms/anaconda3/envs/SI/lib/python3.10/site-packages/sklearn/utils/validation.py:614: FutureWarning: is_sparse is deprecated and will be removed in a future version. Check `isinstance(dtype, pd.SparseDtype)` instead.\n",
            "  if is_sparse(pd_dtype) or not is_extension_array_dtype(pd_dtype):\n",
            "/home/cebms/anaconda3/envs/SI/lib/python3.10/site-packages/sklearn/utils/validation.py:605: FutureWarning: is_sparse is deprecated and will be removed in a future version. Check `isinstance(dtype, pd.SparseDtype)` instead.\n",
            "  if is_sparse(pd_dtype):\n",
            "/home/cebms/anaconda3/envs/SI/lib/python3.10/site-packages/sklearn/utils/validation.py:614: FutureWarning: is_sparse is deprecated and will be removed in a future version. Check `isinstance(dtype, pd.SparseDtype)` instead.\n",
            "  if is_sparse(pd_dtype) or not is_extension_array_dtype(pd_dtype):\n",
            "/home/cebms/anaconda3/envs/SI/lib/python3.10/site-packages/sklearn/utils/validation.py:605: FutureWarning: is_sparse is deprecated and will be removed in a future version. Check `isinstance(dtype, pd.SparseDtype)` instead.\n",
            "  if is_sparse(pd_dtype):\n",
            "/home/cebms/anaconda3/envs/SI/lib/python3.10/site-packages/sklearn/utils/validation.py:614: FutureWarning: is_sparse is deprecated and will be removed in a future version. Check `isinstance(dtype, pd.SparseDtype)` instead.\n",
            "  if is_sparse(pd_dtype) or not is_extension_array_dtype(pd_dtype):\n",
            "/home/cebms/anaconda3/envs/SI/lib/python3.10/site-packages/sklearn/utils/validation.py:605: FutureWarning: is_sparse is deprecated and will be removed in a future version. Check `isinstance(dtype, pd.SparseDtype)` instead.\n",
            "  if is_sparse(pd_dtype):\n",
            "/home/cebms/anaconda3/envs/SI/lib/python3.10/site-packages/sklearn/utils/validation.py:614: FutureWarning: is_sparse is deprecated and will be removed in a future version. Check `isinstance(dtype, pd.SparseDtype)` instead.\n",
            "  if is_sparse(pd_dtype) or not is_extension_array_dtype(pd_dtype):\n",
            "/home/cebms/anaconda3/envs/SI/lib/python3.10/site-packages/sklearn/utils/validation.py:767: FutureWarning: is_sparse is deprecated and will be removed in a future version. Check `isinstance(dtype, pd.SparseDtype)` instead.\n",
            "  if not hasattr(array, \"sparse\") and array.dtypes.apply(is_sparse).any():\n",
            "/home/cebms/anaconda3/envs/SI/lib/python3.10/site-packages/sklearn/utils/validation.py:605: FutureWarning: is_sparse is deprecated and will be removed in a future version. Check `isinstance(dtype, pd.SparseDtype)` instead.\n",
            "  if is_sparse(pd_dtype):\n",
            "/home/cebms/anaconda3/envs/SI/lib/python3.10/site-packages/sklearn/utils/validation.py:614: FutureWarning: is_sparse is deprecated and will be removed in a future version. Check `isinstance(dtype, pd.SparseDtype)` instead.\n",
            "  if is_sparse(pd_dtype) or not is_extension_array_dtype(pd_dtype):\n",
            "/home/cebms/anaconda3/envs/SI/lib/python3.10/site-packages/sklearn/utils/validation.py:605: FutureWarning: is_sparse is deprecated and will be removed in a future version. Check `isinstance(dtype, pd.SparseDtype)` instead.\n",
            "  if is_sparse(pd_dtype):\n",
            "/home/cebms/anaconda3/envs/SI/lib/python3.10/site-packages/sklearn/utils/validation.py:614: FutureWarning: is_sparse is deprecated and will be removed in a future version. Check `isinstance(dtype, pd.SparseDtype)` instead.\n",
            "  if is_sparse(pd_dtype) or not is_extension_array_dtype(pd_dtype):\n",
            "/home/cebms/anaconda3/envs/SI/lib/python3.10/site-packages/sklearn/utils/validation.py:767: FutureWarning: is_sparse is deprecated and will be removed in a future version. Check `isinstance(dtype, pd.SparseDtype)` instead.\n",
            "  if not hasattr(array, \"sparse\") and array.dtypes.apply(is_sparse).any():\n",
            "/home/cebms/anaconda3/envs/SI/lib/python3.10/site-packages/sklearn/utils/validation.py:605: FutureWarning: is_sparse is deprecated and will be removed in a future version. Check `isinstance(dtype, pd.SparseDtype)` instead.\n",
            "  if is_sparse(pd_dtype):\n",
            "/home/cebms/anaconda3/envs/SI/lib/python3.10/site-packages/sklearn/utils/validation.py:614: FutureWarning: is_sparse is deprecated and will be removed in a future version. Check `isinstance(dtype, pd.SparseDtype)` instead.\n",
            "  if is_sparse(pd_dtype) or not is_extension_array_dtype(pd_dtype):\n",
            "/home/cebms/anaconda3/envs/SI/lib/python3.10/site-packages/sklearn/utils/validation.py:605: FutureWarning: is_sparse is deprecated and will be removed in a future version. Check `isinstance(dtype, pd.SparseDtype)` instead.\n",
            "  if is_sparse(pd_dtype):\n",
            "/home/cebms/anaconda3/envs/SI/lib/python3.10/site-packages/sklearn/utils/validation.py:614: FutureWarning: is_sparse is deprecated and will be removed in a future version. Check `isinstance(dtype, pd.SparseDtype)` instead.\n",
            "  if is_sparse(pd_dtype) or not is_extension_array_dtype(pd_dtype):\n",
            "/home/cebms/anaconda3/envs/SI/lib/python3.10/site-packages/sklearn/utils/validation.py:605: FutureWarning: is_sparse is deprecated and will be removed in a future version. Check `isinstance(dtype, pd.SparseDtype)` instead.\n",
            "  if is_sparse(pd_dtype):\n",
            "/home/cebms/anaconda3/envs/SI/lib/python3.10/site-packages/sklearn/utils/validation.py:614: FutureWarning: is_sparse is deprecated and will be removed in a future version. Check `isinstance(dtype, pd.SparseDtype)` instead.\n",
            "  if is_sparse(pd_dtype) or not is_extension_array_dtype(pd_dtype):\n",
            "/home/cebms/anaconda3/envs/SI/lib/python3.10/site-packages/sklearn/utils/validation.py:605: FutureWarning: is_sparse is deprecated and will be removed in a future version. Check `isinstance(dtype, pd.SparseDtype)` instead.\n",
            "  if is_sparse(pd_dtype):\n",
            "/home/cebms/anaconda3/envs/SI/lib/python3.10/site-packages/sklearn/utils/validation.py:614: FutureWarning: is_sparse is deprecated and will be removed in a future version. Check `isinstance(dtype, pd.SparseDtype)` instead.\n",
            "  if is_sparse(pd_dtype) or not is_extension_array_dtype(pd_dtype):\n",
            "/home/cebms/anaconda3/envs/SI/lib/python3.10/site-packages/sklearn/metrics/_classification.py:1344: UndefinedMetricWarning: Precision and F-score are ill-defined and being set to 0.0 in labels with no predicted samples. Use `zero_division` parameter to control this behavior.\n",
            "  _warn_prf(average, modifier, msg_start, len(result))\n",
            "/home/cebms/anaconda3/envs/SI/lib/python3.10/site-packages/sklearn/metrics/_classification.py:1344: UndefinedMetricWarning: Recall and F-score are ill-defined and being set to 0.0 in labels with no true samples. Use `zero_division` parameter to control this behavior.\n",
            "  _warn_prf(average, modifier, msg_start, len(result))\n",
            "/home/cebms/anaconda3/envs/SI/lib/python3.10/site-packages/sklearn/metrics/_classification.py:1344: UndefinedMetricWarning: Precision and F-score are ill-defined and being set to 0.0 in labels with no predicted samples. Use `zero_division` parameter to control this behavior.\n",
            "  _warn_prf(average, modifier, msg_start, len(result))\n",
            "/home/cebms/anaconda3/envs/SI/lib/python3.10/site-packages/sklearn/metrics/_classification.py:1344: UndefinedMetricWarning: Recall and F-score are ill-defined and being set to 0.0 in labels with no true samples. Use `zero_division` parameter to control this behavior.\n",
            "  _warn_prf(average, modifier, msg_start, len(result))\n",
            "/home/cebms/anaconda3/envs/SI/lib/python3.10/site-packages/sklearn/metrics/_classification.py:1344: UndefinedMetricWarning: Precision and F-score are ill-defined and being set to 0.0 in labels with no predicted samples. Use `zero_division` parameter to control this behavior.\n",
            "  _warn_prf(average, modifier, msg_start, len(result))\n",
            "/home/cebms/anaconda3/envs/SI/lib/python3.10/site-packages/sklearn/metrics/_classification.py:1344: UndefinedMetricWarning: Recall and F-score are ill-defined and being set to 0.0 in labels with no true samples. Use `zero_division` parameter to control this behavior.\n",
            "  _warn_prf(average, modifier, msg_start, len(result))\n"
          ]
        }
      ],
      "source": [
        "for i, (train_index, test_index) in enumerate(kf.split(X)):\n",
        "  print(f\"iteration {i}:\")\n",
        "  X_train = X.iloc[train_index]\n",
        "  y_train = y.iloc[train_index]\n",
        "  X_test = X.iloc[test_index]\n",
        "  y_test = y.iloc[test_index]\n",
        "\n",
        "  model.fit(X_train, y_train)\n",
        "  y_pred = model.predict(X_test)\n",
        "\n",
        "  print(classification_report(y_test, y_pred))"
      ]
    },
    {
      "cell_type": "code",
      "execution_count": 501,
      "metadata": {
        "id": "GzgPK28yPPnq"
      },
      "outputs": [
        {
          "name": "stderr",
          "output_type": "stream",
          "text": [
            "/home/cebms/anaconda3/envs/SI/lib/python3.10/site-packages/sklearn/utils/validation.py:767: FutureWarning: is_sparse is deprecated and will be removed in a future version. Check `isinstance(dtype, pd.SparseDtype)` instead.\n",
            "  if not hasattr(array, \"sparse\") and array.dtypes.apply(is_sparse).any():\n",
            "/home/cebms/anaconda3/envs/SI/lib/python3.10/site-packages/sklearn/utils/validation.py:605: FutureWarning: is_sparse is deprecated and will be removed in a future version. Check `isinstance(dtype, pd.SparseDtype)` instead.\n",
            "  if is_sparse(pd_dtype):\n",
            "/home/cebms/anaconda3/envs/SI/lib/python3.10/site-packages/sklearn/utils/validation.py:614: FutureWarning: is_sparse is deprecated and will be removed in a future version. Check `isinstance(dtype, pd.SparseDtype)` instead.\n",
            "  if is_sparse(pd_dtype) or not is_extension_array_dtype(pd_dtype):\n"
          ]
        }
      ],
      "source": [
        "y_pred = model.predict(X_test)"
      ]
    },
    {
      "cell_type": "code",
      "execution_count": 502,
      "metadata": {
        "colab": {
          "base_uri": "https://localhost:8080/"
        },
        "id": "whfzzsCZPT8R",
        "outputId": "6c8f1938-53fc-4d85-d43e-b1d3f6e81ccc"
      },
      "outputs": [
        {
          "name": "stdout",
          "output_type": "stream",
          "text": [
            "              precision    recall  f1-score   support\n",
            "\n",
            "    Abnormal       0.00      0.00      0.00       0.0\n",
            "      Normal       0.00      0.00      0.00      99.0\n",
            "\n",
            "    accuracy                           0.00      99.0\n",
            "   macro avg       0.00      0.00      0.00      99.0\n",
            "weighted avg       0.00      0.00      0.00      99.0\n",
            "\n"
          ]
        },
        {
          "name": "stderr",
          "output_type": "stream",
          "text": [
            "/home/cebms/anaconda3/envs/SI/lib/python3.10/site-packages/sklearn/utils/validation.py:605: FutureWarning: is_sparse is deprecated and will be removed in a future version. Check `isinstance(dtype, pd.SparseDtype)` instead.\n",
            "  if is_sparse(pd_dtype):\n",
            "/home/cebms/anaconda3/envs/SI/lib/python3.10/site-packages/sklearn/utils/validation.py:614: FutureWarning: is_sparse is deprecated and will be removed in a future version. Check `isinstance(dtype, pd.SparseDtype)` instead.\n",
            "  if is_sparse(pd_dtype) or not is_extension_array_dtype(pd_dtype):\n",
            "/home/cebms/anaconda3/envs/SI/lib/python3.10/site-packages/sklearn/utils/validation.py:605: FutureWarning: is_sparse is deprecated and will be removed in a future version. Check `isinstance(dtype, pd.SparseDtype)` instead.\n",
            "  if is_sparse(pd_dtype):\n",
            "/home/cebms/anaconda3/envs/SI/lib/python3.10/site-packages/sklearn/utils/validation.py:614: FutureWarning: is_sparse is deprecated and will be removed in a future version. Check `isinstance(dtype, pd.SparseDtype)` instead.\n",
            "  if is_sparse(pd_dtype) or not is_extension_array_dtype(pd_dtype):\n",
            "/home/cebms/anaconda3/envs/SI/lib/python3.10/site-packages/sklearn/utils/validation.py:605: FutureWarning: is_sparse is deprecated and will be removed in a future version. Check `isinstance(dtype, pd.SparseDtype)` instead.\n",
            "  if is_sparse(pd_dtype):\n",
            "/home/cebms/anaconda3/envs/SI/lib/python3.10/site-packages/sklearn/utils/validation.py:614: FutureWarning: is_sparse is deprecated and will be removed in a future version. Check `isinstance(dtype, pd.SparseDtype)` instead.\n",
            "  if is_sparse(pd_dtype) or not is_extension_array_dtype(pd_dtype):\n",
            "/home/cebms/anaconda3/envs/SI/lib/python3.10/site-packages/sklearn/metrics/_classification.py:1344: UndefinedMetricWarning: Precision and F-score are ill-defined and being set to 0.0 in labels with no predicted samples. Use `zero_division` parameter to control this behavior.\n",
            "  _warn_prf(average, modifier, msg_start, len(result))\n",
            "/home/cebms/anaconda3/envs/SI/lib/python3.10/site-packages/sklearn/metrics/_classification.py:1344: UndefinedMetricWarning: Recall and F-score are ill-defined and being set to 0.0 in labels with no true samples. Use `zero_division` parameter to control this behavior.\n",
            "  _warn_prf(average, modifier, msg_start, len(result))\n",
            "/home/cebms/anaconda3/envs/SI/lib/python3.10/site-packages/sklearn/metrics/_classification.py:1344: UndefinedMetricWarning: Precision and F-score are ill-defined and being set to 0.0 in labels with no predicted samples. Use `zero_division` parameter to control this behavior.\n",
            "  _warn_prf(average, modifier, msg_start, len(result))\n",
            "/home/cebms/anaconda3/envs/SI/lib/python3.10/site-packages/sklearn/metrics/_classification.py:1344: UndefinedMetricWarning: Recall and F-score are ill-defined and being set to 0.0 in labels with no true samples. Use `zero_division` parameter to control this behavior.\n",
            "  _warn_prf(average, modifier, msg_start, len(result))\n",
            "/home/cebms/anaconda3/envs/SI/lib/python3.10/site-packages/sklearn/metrics/_classification.py:1344: UndefinedMetricWarning: Precision and F-score are ill-defined and being set to 0.0 in labels with no predicted samples. Use `zero_division` parameter to control this behavior.\n",
            "  _warn_prf(average, modifier, msg_start, len(result))\n",
            "/home/cebms/anaconda3/envs/SI/lib/python3.10/site-packages/sklearn/metrics/_classification.py:1344: UndefinedMetricWarning: Recall and F-score are ill-defined and being set to 0.0 in labels with no true samples. Use `zero_division` parameter to control this behavior.\n",
            "  _warn_prf(average, modifier, msg_start, len(result))\n"
          ]
        }
      ],
      "source": [
        "print(classification_report(y_test, y_pred))"
      ]
    },
    {
      "cell_type": "code",
      "execution_count": 503,
      "metadata": {
        "id": "IaC3J9GrJft7"
      },
      "outputs": [],
      "source": [
        "from sklearn import metrics\n",
        "from sklearn.metrics import ConfusionMatrixDisplay\n",
        "import matplotlib.pyplot as plt"
      ]
    },
    {
      "cell_type": "code",
      "execution_count": 504,
      "metadata": {
        "colab": {
          "base_uri": "https://localhost:8080/",
          "height": 390
        },
        "id": "oXX4vogJmZdv",
        "outputId": "a85c642c-5f56-4485-e5dd-cf1381f33d76"
      },
      "outputs": [
        {
          "name": "stderr",
          "output_type": "stream",
          "text": [
            "/home/cebms/anaconda3/envs/SI/lib/python3.10/site-packages/sklearn/utils/validation.py:605: FutureWarning: is_sparse is deprecated and will be removed in a future version. Check `isinstance(dtype, pd.SparseDtype)` instead.\n",
            "  if is_sparse(pd_dtype):\n",
            "/home/cebms/anaconda3/envs/SI/lib/python3.10/site-packages/sklearn/utils/validation.py:614: FutureWarning: is_sparse is deprecated and will be removed in a future version. Check `isinstance(dtype, pd.SparseDtype)` instead.\n",
            "  if is_sparse(pd_dtype) or not is_extension_array_dtype(pd_dtype):\n"
          ]
        },
        {
          "ename": "TypeError",
          "evalue": "unsupported operand type(s) for -: 'str' and 'str'",
          "output_type": "error",
          "traceback": [
            "\u001b[0;31m---------------------------------------------------------------------------\u001b[0m",
            "\u001b[0;31mTypeError\u001b[0m                                 Traceback (most recent call last)",
            "Cell \u001b[0;32mIn[504], line 1\u001b[0m\n\u001b[0;32m----> 1\u001b[0m fpr, tpr, thresholds \u001b[39m=\u001b[39m metrics\u001b[39m.\u001b[39;49mroc_curve(y_pred, y_test, pos_label\u001b[39m=\u001b[39;49m\u001b[39m1\u001b[39;49m)\n",
            "File \u001b[0;32m~/anaconda3/envs/SI/lib/python3.10/site-packages/sklearn/metrics/_ranking.py:992\u001b[0m, in \u001b[0;36mroc_curve\u001b[0;34m(y_true, y_score, pos_label, sample_weight, drop_intermediate)\u001b[0m\n\u001b[1;32m    904\u001b[0m \u001b[39mdef\u001b[39;00m \u001b[39mroc_curve\u001b[39m(\n\u001b[1;32m    905\u001b[0m     y_true, y_score, \u001b[39m*\u001b[39m, pos_label\u001b[39m=\u001b[39m\u001b[39mNone\u001b[39;00m, sample_weight\u001b[39m=\u001b[39m\u001b[39mNone\u001b[39;00m, drop_intermediate\u001b[39m=\u001b[39m\u001b[39mTrue\u001b[39;00m\n\u001b[1;32m    906\u001b[0m ):\n\u001b[1;32m    907\u001b[0m \u001b[39m    \u001b[39m\u001b[39m\"\"\"Compute Receiver operating characteristic (ROC).\u001b[39;00m\n\u001b[1;32m    908\u001b[0m \n\u001b[1;32m    909\u001b[0m \u001b[39m    Note: this implementation is restricted to the binary classification task.\u001b[39;00m\n\u001b[0;32m   (...)\u001b[0m\n\u001b[1;32m    990\u001b[0m \u001b[39m    array([1.8 , 0.8 , 0.4 , 0.35, 0.1 ])\u001b[39;00m\n\u001b[1;32m    991\u001b[0m \u001b[39m    \"\"\"\u001b[39;00m\n\u001b[0;32m--> 992\u001b[0m     fps, tps, thresholds \u001b[39m=\u001b[39m _binary_clf_curve(\n\u001b[1;32m    993\u001b[0m         y_true, y_score, pos_label\u001b[39m=\u001b[39;49mpos_label, sample_weight\u001b[39m=\u001b[39;49msample_weight\n\u001b[1;32m    994\u001b[0m     )\n\u001b[1;32m    996\u001b[0m     \u001b[39m# Attempt to drop thresholds corresponding to points in between and\u001b[39;00m\n\u001b[1;32m    997\u001b[0m     \u001b[39m# collinear with other points. These are always suboptimal and do not\u001b[39;00m\n\u001b[1;32m    998\u001b[0m     \u001b[39m# appear on a plotted ROC curve (and thus do not affect the AUC).\u001b[39;00m\n\u001b[0;32m   (...)\u001b[0m\n\u001b[1;32m   1003\u001b[0m     \u001b[39m# but does not drop more complicated cases like fps = [1, 3, 7],\u001b[39;00m\n\u001b[1;32m   1004\u001b[0m     \u001b[39m# tps = [1, 2, 4]; there is no harm in keeping too many thresholds.\u001b[39;00m\n\u001b[1;32m   1005\u001b[0m     \u001b[39mif\u001b[39;00m drop_intermediate \u001b[39mand\u001b[39;00m \u001b[39mlen\u001b[39m(fps) \u001b[39m>\u001b[39m \u001b[39m2\u001b[39m:\n",
            "File \u001b[0;32m~/anaconda3/envs/SI/lib/python3.10/site-packages/sklearn/metrics/_ranking.py:783\u001b[0m, in \u001b[0;36m_binary_clf_curve\u001b[0;34m(y_true, y_score, pos_label, sample_weight)\u001b[0m\n\u001b[1;32m    778\u001b[0m     weight \u001b[39m=\u001b[39m \u001b[39m1.0\u001b[39m\n\u001b[1;32m    780\u001b[0m \u001b[39m# y_score typically has many tied values. Here we extract\u001b[39;00m\n\u001b[1;32m    781\u001b[0m \u001b[39m# the indices associated with the distinct values. We also\u001b[39;00m\n\u001b[1;32m    782\u001b[0m \u001b[39m# concatenate a value for the end of the curve.\u001b[39;00m\n\u001b[0;32m--> 783\u001b[0m distinct_value_indices \u001b[39m=\u001b[39m np\u001b[39m.\u001b[39mwhere(np\u001b[39m.\u001b[39;49mdiff(y_score))[\u001b[39m0\u001b[39m]\n\u001b[1;32m    784\u001b[0m threshold_idxs \u001b[39m=\u001b[39m np\u001b[39m.\u001b[39mr_[distinct_value_indices, y_true\u001b[39m.\u001b[39msize \u001b[39m-\u001b[39m \u001b[39m1\u001b[39m]\n\u001b[1;32m    786\u001b[0m \u001b[39m# accumulate the true positives with decreasing threshold\u001b[39;00m\n",
            "File \u001b[0;32m~/.local/lib/python3.10/site-packages/numpy/lib/function_base.py:1452\u001b[0m, in \u001b[0;36mdiff\u001b[0;34m(a, n, axis, prepend, append)\u001b[0m\n\u001b[1;32m   1450\u001b[0m op \u001b[39m=\u001b[39m not_equal \u001b[39mif\u001b[39;00m a\u001b[39m.\u001b[39mdtype \u001b[39m==\u001b[39m np\u001b[39m.\u001b[39mbool_ \u001b[39melse\u001b[39;00m subtract\n\u001b[1;32m   1451\u001b[0m \u001b[39mfor\u001b[39;00m _ \u001b[39min\u001b[39;00m \u001b[39mrange\u001b[39m(n):\n\u001b[0;32m-> 1452\u001b[0m     a \u001b[39m=\u001b[39m op(a[slice1], a[slice2])\n\u001b[1;32m   1454\u001b[0m \u001b[39mreturn\u001b[39;00m a\n",
            "\u001b[0;31mTypeError\u001b[0m: unsupported operand type(s) for -: 'str' and 'str'"
          ]
        }
      ],
      "source": [
        "fpr, tpr, thresholds = metrics.roc_curve(y_pred, y_test, pos_label=1)"
      ]
    }
  ],
  "metadata": {
    "colab": {
      "provenance": []
    },
    "kernelspec": {
      "display_name": "Python 3",
      "name": "python3"
    },
    "language_info": {
      "codemirror_mode": {
        "name": "ipython",
        "version": 3
      },
      "file_extension": ".py",
      "mimetype": "text/x-python",
      "name": "python",
      "nbconvert_exporter": "python",
      "pygments_lexer": "ipython3",
      "version": "3.11.4"
    }
  },
  "nbformat": 4,
  "nbformat_minor": 0
}

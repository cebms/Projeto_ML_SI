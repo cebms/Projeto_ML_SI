{
  "cells": [
    {
      "cell_type": "markdown",
      "metadata": {},
      "source": [
        "# Using a Decision Tree to predict Titanic survivors 🚢"
      ]
    },
    {
      "cell_type": "code",
      "execution_count": 674,
      "metadata": {
        "id": "Tf_YJUx3U4Nh"
      },
      "outputs": [],
      "source": [
        "# Import necessary libraries\n",
        "import pandas as pd\n",
        "import numpy as np\n",
        "from sklearn.tree import DecisionTreeClassifier\n",
        "from sklearn.model_selection import train_test_split\n",
        "from sklearn.metrics import accuracy_score\n",
        "import matplotlib.pyplot as plt\n",
        "import seaborn as sns"
      ]
    },
    {
      "cell_type": "code",
      "execution_count": 675,
      "metadata": {
        "colab": {
          "base_uri": "https://localhost:8080/",
          "height": 206
        },
        "id": "baStOhshVwM5",
        "outputId": "337320f4-18a4-407a-96a2-0c6ed007a465"
      },
      "outputs": [
        {
          "name": "stdout",
          "output_type": "stream",
          "text": [
            "<class 'pandas.core.frame.DataFrame'>\n",
            "RangeIndex: 891 entries, 0 to 890\n",
            "Data columns (total 12 columns):\n",
            " #   Column       Non-Null Count  Dtype  \n",
            "---  ------       --------------  -----  \n",
            " 0   PassengerId  891 non-null    int64  \n",
            " 1   Survived     891 non-null    int64  \n",
            " 2   Pclass       891 non-null    int64  \n",
            " 3   Name         891 non-null    object \n",
            " 4   Sex          891 non-null    object \n",
            " 5   Age          714 non-null    float64\n",
            " 6   SibSp        891 non-null    int64  \n",
            " 7   Parch        891 non-null    int64  \n",
            " 8   Ticket       891 non-null    object \n",
            " 9   Fare         891 non-null    float64\n",
            " 10  Cabin        204 non-null    object \n",
            " 11  Embarked     889 non-null    object \n",
            "dtypes: float64(2), int64(5), object(5)\n",
            "memory usage: 83.7+ KB\n"
          ]
        }
      ],
      "source": [
        "# Load the dataset\n",
        "df = pd.read_csv('./train.csv')\n",
        "\n",
        "df.info()"
      ]
    },
    {
      "cell_type": "code",
      "execution_count": 676,
      "metadata": {},
      "outputs": [
        {
          "data": {
            "text/html": [
              "<div>\n",
              "<style scoped>\n",
              "    .dataframe tbody tr th:only-of-type {\n",
              "        vertical-align: middle;\n",
              "    }\n",
              "\n",
              "    .dataframe tbody tr th {\n",
              "        vertical-align: top;\n",
              "    }\n",
              "\n",
              "    .dataframe thead th {\n",
              "        text-align: right;\n",
              "    }\n",
              "</style>\n",
              "<table border=\"1\" class=\"dataframe\">\n",
              "  <thead>\n",
              "    <tr style=\"text-align: right;\">\n",
              "      <th></th>\n",
              "      <th>PassengerId</th>\n",
              "      <th>Survived</th>\n",
              "      <th>Pclass</th>\n",
              "      <th>Name</th>\n",
              "      <th>Sex</th>\n",
              "      <th>Age</th>\n",
              "      <th>SibSp</th>\n",
              "      <th>Parch</th>\n",
              "      <th>Ticket</th>\n",
              "      <th>Fare</th>\n",
              "      <th>Cabin</th>\n",
              "      <th>Embarked</th>\n",
              "    </tr>\n",
              "  </thead>\n",
              "  <tbody>\n",
              "    <tr>\n",
              "      <th>0</th>\n",
              "      <td>1</td>\n",
              "      <td>0</td>\n",
              "      <td>3</td>\n",
              "      <td>Braund, Mr. Owen Harris</td>\n",
              "      <td>male</td>\n",
              "      <td>22.0</td>\n",
              "      <td>1</td>\n",
              "      <td>0</td>\n",
              "      <td>A/5 21171</td>\n",
              "      <td>7.2500</td>\n",
              "      <td>NaN</td>\n",
              "      <td>S</td>\n",
              "    </tr>\n",
              "    <tr>\n",
              "      <th>1</th>\n",
              "      <td>2</td>\n",
              "      <td>1</td>\n",
              "      <td>1</td>\n",
              "      <td>Cumings, Mrs. John Bradley (Florence Briggs Th...</td>\n",
              "      <td>female</td>\n",
              "      <td>38.0</td>\n",
              "      <td>1</td>\n",
              "      <td>0</td>\n",
              "      <td>PC 17599</td>\n",
              "      <td>71.2833</td>\n",
              "      <td>C85</td>\n",
              "      <td>C</td>\n",
              "    </tr>\n",
              "    <tr>\n",
              "      <th>2</th>\n",
              "      <td>3</td>\n",
              "      <td>1</td>\n",
              "      <td>3</td>\n",
              "      <td>Heikkinen, Miss. Laina</td>\n",
              "      <td>female</td>\n",
              "      <td>26.0</td>\n",
              "      <td>0</td>\n",
              "      <td>0</td>\n",
              "      <td>STON/O2. 3101282</td>\n",
              "      <td>7.9250</td>\n",
              "      <td>NaN</td>\n",
              "      <td>S</td>\n",
              "    </tr>\n",
              "    <tr>\n",
              "      <th>3</th>\n",
              "      <td>4</td>\n",
              "      <td>1</td>\n",
              "      <td>1</td>\n",
              "      <td>Futrelle, Mrs. Jacques Heath (Lily May Peel)</td>\n",
              "      <td>female</td>\n",
              "      <td>35.0</td>\n",
              "      <td>1</td>\n",
              "      <td>0</td>\n",
              "      <td>113803</td>\n",
              "      <td>53.1000</td>\n",
              "      <td>C123</td>\n",
              "      <td>S</td>\n",
              "    </tr>\n",
              "    <tr>\n",
              "      <th>4</th>\n",
              "      <td>5</td>\n",
              "      <td>0</td>\n",
              "      <td>3</td>\n",
              "      <td>Allen, Mr. William Henry</td>\n",
              "      <td>male</td>\n",
              "      <td>35.0</td>\n",
              "      <td>0</td>\n",
              "      <td>0</td>\n",
              "      <td>373450</td>\n",
              "      <td>8.0500</td>\n",
              "      <td>NaN</td>\n",
              "      <td>S</td>\n",
              "    </tr>\n",
              "  </tbody>\n",
              "</table>\n",
              "</div>"
            ],
            "text/plain": [
              "   PassengerId  Survived  Pclass  \\\n",
              "0            1         0       3   \n",
              "1            2         1       1   \n",
              "2            3         1       3   \n",
              "3            4         1       1   \n",
              "4            5         0       3   \n",
              "\n",
              "                                                Name     Sex   Age  SibSp  \\\n",
              "0                            Braund, Mr. Owen Harris    male  22.0      1   \n",
              "1  Cumings, Mrs. John Bradley (Florence Briggs Th...  female  38.0      1   \n",
              "2                             Heikkinen, Miss. Laina  female  26.0      0   \n",
              "3       Futrelle, Mrs. Jacques Heath (Lily May Peel)  female  35.0      1   \n",
              "4                           Allen, Mr. William Henry    male  35.0      0   \n",
              "\n",
              "   Parch            Ticket     Fare Cabin Embarked  \n",
              "0      0         A/5 21171   7.2500   NaN        S  \n",
              "1      0          PC 17599  71.2833   C85        C  \n",
              "2      0  STON/O2. 3101282   7.9250   NaN        S  \n",
              "3      0            113803  53.1000  C123        S  \n",
              "4      0            373450   8.0500   NaN        S  "
            ]
          },
          "execution_count": 676,
          "metadata": {},
          "output_type": "execute_result"
        }
      ],
      "source": [
        "# show head\n",
        "df.head()"
      ]
    },
    {
      "cell_type": "markdown",
      "metadata": {},
      "source": [
        "## Primeiro tratamento nos dados"
      ]
    },
    {
      "cell_type": "markdown",
      "metadata": {
        "id": "oAnRG96XbVI2"
      },
      "source": [
        "Removendo valores sem informação estatística"
      ]
    },
    {
      "cell_type": "code",
      "execution_count": 677,
      "metadata": {
        "colab": {
          "base_uri": "https://localhost:8080/",
          "height": 206
        },
        "id": "LH-lBgg4Wl_u",
        "outputId": "8888eb43-2fed-4a31-954d-2281f43b06b6"
      },
      "outputs": [
        {
          "data": {
            "text/html": [
              "<div>\n",
              "<style scoped>\n",
              "    .dataframe tbody tr th:only-of-type {\n",
              "        vertical-align: middle;\n",
              "    }\n",
              "\n",
              "    .dataframe tbody tr th {\n",
              "        vertical-align: top;\n",
              "    }\n",
              "\n",
              "    .dataframe thead th {\n",
              "        text-align: right;\n",
              "    }\n",
              "</style>\n",
              "<table border=\"1\" class=\"dataframe\">\n",
              "  <thead>\n",
              "    <tr style=\"text-align: right;\">\n",
              "      <th></th>\n",
              "      <th>Survived</th>\n",
              "      <th>Pclass</th>\n",
              "      <th>Sex</th>\n",
              "      <th>Age</th>\n",
              "      <th>SibSp</th>\n",
              "      <th>Parch</th>\n",
              "      <th>Fare</th>\n",
              "      <th>Cabin</th>\n",
              "      <th>Embarked</th>\n",
              "    </tr>\n",
              "  </thead>\n",
              "  <tbody>\n",
              "    <tr>\n",
              "      <th>0</th>\n",
              "      <td>0</td>\n",
              "      <td>3</td>\n",
              "      <td>male</td>\n",
              "      <td>22.0</td>\n",
              "      <td>1</td>\n",
              "      <td>0</td>\n",
              "      <td>7.2500</td>\n",
              "      <td>NaN</td>\n",
              "      <td>S</td>\n",
              "    </tr>\n",
              "    <tr>\n",
              "      <th>1</th>\n",
              "      <td>1</td>\n",
              "      <td>1</td>\n",
              "      <td>female</td>\n",
              "      <td>38.0</td>\n",
              "      <td>1</td>\n",
              "      <td>0</td>\n",
              "      <td>71.2833</td>\n",
              "      <td>C85</td>\n",
              "      <td>C</td>\n",
              "    </tr>\n",
              "    <tr>\n",
              "      <th>2</th>\n",
              "      <td>1</td>\n",
              "      <td>3</td>\n",
              "      <td>female</td>\n",
              "      <td>26.0</td>\n",
              "      <td>0</td>\n",
              "      <td>0</td>\n",
              "      <td>7.9250</td>\n",
              "      <td>NaN</td>\n",
              "      <td>S</td>\n",
              "    </tr>\n",
              "    <tr>\n",
              "      <th>3</th>\n",
              "      <td>1</td>\n",
              "      <td>1</td>\n",
              "      <td>female</td>\n",
              "      <td>35.0</td>\n",
              "      <td>1</td>\n",
              "      <td>0</td>\n",
              "      <td>53.1000</td>\n",
              "      <td>C123</td>\n",
              "      <td>S</td>\n",
              "    </tr>\n",
              "    <tr>\n",
              "      <th>4</th>\n",
              "      <td>0</td>\n",
              "      <td>3</td>\n",
              "      <td>male</td>\n",
              "      <td>35.0</td>\n",
              "      <td>0</td>\n",
              "      <td>0</td>\n",
              "      <td>8.0500</td>\n",
              "      <td>NaN</td>\n",
              "      <td>S</td>\n",
              "    </tr>\n",
              "  </tbody>\n",
              "</table>\n",
              "</div>"
            ],
            "text/plain": [
              "   Survived  Pclass     Sex   Age  SibSp  Parch     Fare Cabin Embarked\n",
              "0         0       3    male  22.0      1      0   7.2500   NaN        S\n",
              "1         1       1  female  38.0      1      0  71.2833   C85        C\n",
              "2         1       3  female  26.0      0      0   7.9250   NaN        S\n",
              "3         1       1  female  35.0      1      0  53.1000  C123        S\n",
              "4         0       3    male  35.0      0      0   8.0500   NaN        S"
            ]
          },
          "execution_count": 677,
          "metadata": {},
          "output_type": "execute_result"
        }
      ],
      "source": [
        "# Remove name column\n",
        "df_1st_test = df.drop(columns=['Name'], inplace=False)\n",
        "df_1st_test.head()\n",
        "\n",
        "# Remove ticket column (Acho que não é útil mas tem que ver)\n",
        "df_1st_test = df_1st_test.drop(columns=['Ticket'], inplace=False)\n",
        "df_1st_test.head()\n",
        "\n",
        "# Remove id column\n",
        "df_1st_test = df_1st_test.drop(columns=['PassengerId'], inplace=False)\n",
        "df_1st_test.head()"
      ]
    },
    {
      "cell_type": "markdown",
      "metadata": {
        "id": "0CqRZmNTbXge"
      },
      "source": [
        "Transformando valores de gênero, nº da cabine e porto de embarque em valores numéricos"
      ]
    },
    {
      "cell_type": "code",
      "execution_count": 678,
      "metadata": {
        "colab": {
          "base_uri": "https://localhost:8080/",
          "height": 206
        },
        "id": "sRhhkqH9aS-7",
        "outputId": "d2cdf06b-a831-4390-8330-2abea3a8d1c2"
      },
      "outputs": [
        {
          "data": {
            "text/html": [
              "<div>\n",
              "<style scoped>\n",
              "    .dataframe tbody tr th:only-of-type {\n",
              "        vertical-align: middle;\n",
              "    }\n",
              "\n",
              "    .dataframe tbody tr th {\n",
              "        vertical-align: top;\n",
              "    }\n",
              "\n",
              "    .dataframe thead th {\n",
              "        text-align: right;\n",
              "    }\n",
              "</style>\n",
              "<table border=\"1\" class=\"dataframe\">\n",
              "  <thead>\n",
              "    <tr style=\"text-align: right;\">\n",
              "      <th></th>\n",
              "      <th>Survived</th>\n",
              "      <th>Pclass</th>\n",
              "      <th>Sex</th>\n",
              "      <th>Age</th>\n",
              "      <th>SibSp</th>\n",
              "      <th>Parch</th>\n",
              "      <th>Fare</th>\n",
              "      <th>Cabin</th>\n",
              "      <th>Embarked</th>\n",
              "    </tr>\n",
              "  </thead>\n",
              "  <tbody>\n",
              "    <tr>\n",
              "      <th>0</th>\n",
              "      <td>0</td>\n",
              "      <td>3</td>\n",
              "      <td>0.0</td>\n",
              "      <td>22.0</td>\n",
              "      <td>1</td>\n",
              "      <td>0</td>\n",
              "      <td>7.2500</td>\n",
              "      <td>NaN</td>\n",
              "      <td>0.0</td>\n",
              "    </tr>\n",
              "    <tr>\n",
              "      <th>1</th>\n",
              "      <td>1</td>\n",
              "      <td>1</td>\n",
              "      <td>1.0</td>\n",
              "      <td>38.0</td>\n",
              "      <td>1</td>\n",
              "      <td>0</td>\n",
              "      <td>71.2833</td>\n",
              "      <td>6785.0</td>\n",
              "      <td>1.0</td>\n",
              "    </tr>\n",
              "    <tr>\n",
              "      <th>2</th>\n",
              "      <td>1</td>\n",
              "      <td>3</td>\n",
              "      <td>1.0</td>\n",
              "      <td>26.0</td>\n",
              "      <td>0</td>\n",
              "      <td>0</td>\n",
              "      <td>7.9250</td>\n",
              "      <td>NaN</td>\n",
              "      <td>0.0</td>\n",
              "    </tr>\n",
              "    <tr>\n",
              "      <th>3</th>\n",
              "      <td>1</td>\n",
              "      <td>1</td>\n",
              "      <td>1.0</td>\n",
              "      <td>35.0</td>\n",
              "      <td>1</td>\n",
              "      <td>0</td>\n",
              "      <td>53.1000</td>\n",
              "      <td>67123.0</td>\n",
              "      <td>0.0</td>\n",
              "    </tr>\n",
              "    <tr>\n",
              "      <th>4</th>\n",
              "      <td>0</td>\n",
              "      <td>3</td>\n",
              "      <td>0.0</td>\n",
              "      <td>35.0</td>\n",
              "      <td>0</td>\n",
              "      <td>0</td>\n",
              "      <td>8.0500</td>\n",
              "      <td>NaN</td>\n",
              "      <td>0.0</td>\n",
              "    </tr>\n",
              "  </tbody>\n",
              "</table>\n",
              "</div>"
            ],
            "text/plain": [
              "   Survived  Pclass  Sex   Age  SibSp  Parch     Fare    Cabin Embarked\n",
              "0         0       3  0.0  22.0      1      0   7.2500      NaN      0.0\n",
              "1         1       1  1.0  38.0      1      0  71.2833   6785.0      1.0\n",
              "2         1       3  1.0  26.0      0      0   7.9250      NaN      0.0\n",
              "3         1       1  1.0  35.0      1      0  53.1000  67123.0      0.0\n",
              "4         0       3  0.0  35.0      0      0   8.0500      NaN      0.0"
            ]
          },
          "execution_count": 678,
          "metadata": {},
          "output_type": "execute_result"
        }
      ],
      "source": [
        "# Turn sex into number\n",
        "gender_mapping = {'male': '0.0', 'female': '1.0'}\n",
        "df_1st_test['Sex'] = df_1st_test['Sex'].map(gender_mapping)\n",
        "\n",
        "# Turn Cabin into number\n",
        "def convert_cabin(cabin):\n",
        "    # If cabin is not NaN and has at least one character\n",
        "    if pd.notna(cabin) and len(cabin) > 0:\n",
        "        # Get ASCII value of the letter\n",
        "        ascii_val = ord(cabin[0])\n",
        "        # Extract numeric portion (if exists)\n",
        "        num = ''.join(filter(str.isdigit, cabin))\n",
        "        # Return concatenated value\n",
        "        return str(ascii_val) + num\n",
        "    return cabin\n",
        "\n",
        "# Apply the function to the 'Cabin' column\n",
        "df_1st_test['Cabin'] = df_1st_test['Cabin'].apply(convert_cabin).astype(float)\n",
        "\n",
        "# Turn Embarked into number\n",
        "gender_mapping = {'S': '0.0', 'C': '1.0', 'Q': '2.0',}\n",
        "df_1st_test['Embarked'] = df_1st_test['Embarked'].map(gender_mapping)\n",
        "\n",
        "\n",
        "df_1st_test.head()"
      ]
    },
    {
      "cell_type": "markdown",
      "metadata": {
        "id": "3TcbgDU_ffAP"
      },
      "source": [
        "Realizando remioção de linhas com NaN"
      ]
    },
    {
      "cell_type": "code",
      "execution_count": 679,
      "metadata": {
        "colab": {
          "base_uri": "https://localhost:8080/",
          "height": 425
        },
        "id": "JICNKUWNfhQh",
        "outputId": "8f789ee5-b275-4210-f319-91ac4ccb2f20"
      },
      "outputs": [
        {
          "name": "stdout",
          "output_type": "stream",
          "text": [
            "Survived      0\n",
            "Pclass        0\n",
            "Sex           0\n",
            "Age         177\n",
            "SibSp         0\n",
            "Parch         0\n",
            "Fare          0\n",
            "Cabin       687\n",
            "Embarked      2\n",
            "dtype: int64\n",
            "(183, 9)\n"
          ]
        },
        {
          "data": {
            "text/html": [
              "<div>\n",
              "<style scoped>\n",
              "    .dataframe tbody tr th:only-of-type {\n",
              "        vertical-align: middle;\n",
              "    }\n",
              "\n",
              "    .dataframe tbody tr th {\n",
              "        vertical-align: top;\n",
              "    }\n",
              "\n",
              "    .dataframe thead th {\n",
              "        text-align: right;\n",
              "    }\n",
              "</style>\n",
              "<table border=\"1\" class=\"dataframe\">\n",
              "  <thead>\n",
              "    <tr style=\"text-align: right;\">\n",
              "      <th></th>\n",
              "      <th>Survived</th>\n",
              "      <th>Pclass</th>\n",
              "      <th>Sex</th>\n",
              "      <th>Age</th>\n",
              "      <th>SibSp</th>\n",
              "      <th>Parch</th>\n",
              "      <th>Fare</th>\n",
              "      <th>Cabin</th>\n",
              "      <th>Embarked</th>\n",
              "    </tr>\n",
              "  </thead>\n",
              "  <tbody>\n",
              "    <tr>\n",
              "      <th>1</th>\n",
              "      <td>1</td>\n",
              "      <td>1</td>\n",
              "      <td>1.0</td>\n",
              "      <td>38.0</td>\n",
              "      <td>1</td>\n",
              "      <td>0</td>\n",
              "      <td>71.2833</td>\n",
              "      <td>6785.0</td>\n",
              "      <td>1.0</td>\n",
              "    </tr>\n",
              "    <tr>\n",
              "      <th>3</th>\n",
              "      <td>1</td>\n",
              "      <td>1</td>\n",
              "      <td>1.0</td>\n",
              "      <td>35.0</td>\n",
              "      <td>1</td>\n",
              "      <td>0</td>\n",
              "      <td>53.1000</td>\n",
              "      <td>67123.0</td>\n",
              "      <td>0.0</td>\n",
              "    </tr>\n",
              "    <tr>\n",
              "      <th>6</th>\n",
              "      <td>0</td>\n",
              "      <td>1</td>\n",
              "      <td>0.0</td>\n",
              "      <td>54.0</td>\n",
              "      <td>0</td>\n",
              "      <td>0</td>\n",
              "      <td>51.8625</td>\n",
              "      <td>6946.0</td>\n",
              "      <td>0.0</td>\n",
              "    </tr>\n",
              "    <tr>\n",
              "      <th>10</th>\n",
              "      <td>1</td>\n",
              "      <td>3</td>\n",
              "      <td>1.0</td>\n",
              "      <td>4.0</td>\n",
              "      <td>1</td>\n",
              "      <td>1</td>\n",
              "      <td>16.7000</td>\n",
              "      <td>716.0</td>\n",
              "      <td>0.0</td>\n",
              "    </tr>\n",
              "    <tr>\n",
              "      <th>11</th>\n",
              "      <td>1</td>\n",
              "      <td>1</td>\n",
              "      <td>1.0</td>\n",
              "      <td>58.0</td>\n",
              "      <td>0</td>\n",
              "      <td>0</td>\n",
              "      <td>26.5500</td>\n",
              "      <td>67103.0</td>\n",
              "      <td>0.0</td>\n",
              "    </tr>\n",
              "  </tbody>\n",
              "</table>\n",
              "</div>"
            ],
            "text/plain": [
              "    Survived  Pclass  Sex   Age  SibSp  Parch     Fare    Cabin Embarked\n",
              "1          1       1  1.0  38.0      1      0  71.2833   6785.0      1.0\n",
              "3          1       1  1.0  35.0      1      0  53.1000  67123.0      0.0\n",
              "6          0       1  0.0  54.0      0      0  51.8625   6946.0      0.0\n",
              "10         1       3  1.0   4.0      1      1  16.7000    716.0      0.0\n",
              "11         1       1  1.0  58.0      0      0  26.5500  67103.0      0.0"
            ]
          },
          "execution_count": 679,
          "metadata": {},
          "output_type": "execute_result"
        }
      ],
      "source": [
        "print (df_1st_test.isnull().sum())\n",
        "\n",
        "df_1st_test = df_1st_test.dropna()\n",
        "\n",
        "print(df_1st_test.shape)\n",
        "\n",
        "df_1st_test.head()"
      ]
    },
    {
      "cell_type": "code",
      "execution_count": 680,
      "metadata": {
        "colab": {
          "base_uri": "https://localhost:8080/"
        },
        "id": "9iHBdMBSVyB4",
        "outputId": "b8a7f52d-c1a0-4b20-f2a7-1a80ceaf3cd9"
      },
      "outputs": [],
      "source": [
        "# Separate  train and test\n",
        "x = df_1st_test.drop(columns=['Survived'], inplace=False)\n",
        "y = df_1st_test['Survived']\n",
        "\n",
        "# Create a Decision Tree Classifier\n",
        "clf = DecisionTreeClassifier(random_state=42)\n",
        "\n",
        "# Split the dataset into training and testing sets\n",
        "x_train, x_test, y_train, y_test = train_test_split(x, y, test_size=0.3, random_state=42)\n"
      ]
    },
    {
      "cell_type": "code",
      "execution_count": 681,
      "metadata": {},
      "outputs": [
        {
          "name": "stdout",
          "output_type": "stream",
          "text": [
            "Accuracy: 0.7636363636363637\n"
          ]
        }
      ],
      "source": [
        "# Train the classifier on the training data\n",
        "clf.fit(x_train, y_train)\n",
        "\n",
        "# Make predictions on the testing data\n",
        "y_pred = clf.predict(x_test)\n",
        "\n",
        "# Calculate the accuracy of the model\n",
        "accuracy = accuracy_score(y_test, y_pred)\n",
        "print(\"Accuracy:\", accuracy)"
      ]
    },
    {
      "cell_type": "markdown",
      "metadata": {},
      "source": [
        "A remoção de NaN tirou muitas linhas do dataset, ocasionando em perda de dados e deterioração da qualidade do modelo"
      ]
    },
    {
      "cell_type": "markdown",
      "metadata": {},
      "source": [
        "## Testando remover cabine"
      ]
    },
    {
      "cell_type": "code",
      "execution_count": 682,
      "metadata": {},
      "outputs": [
        {
          "data": {
            "text/html": [
              "<div>\n",
              "<style scoped>\n",
              "    .dataframe tbody tr th:only-of-type {\n",
              "        vertical-align: middle;\n",
              "    }\n",
              "\n",
              "    .dataframe tbody tr th {\n",
              "        vertical-align: top;\n",
              "    }\n",
              "\n",
              "    .dataframe thead th {\n",
              "        text-align: right;\n",
              "    }\n",
              "</style>\n",
              "<table border=\"1\" class=\"dataframe\">\n",
              "  <thead>\n",
              "    <tr style=\"text-align: right;\">\n",
              "      <th></th>\n",
              "      <th>Survived</th>\n",
              "      <th>Pclass</th>\n",
              "      <th>Sex</th>\n",
              "      <th>Age</th>\n",
              "      <th>SibSp</th>\n",
              "      <th>Parch</th>\n",
              "      <th>Fare</th>\n",
              "      <th>Embarked</th>\n",
              "    </tr>\n",
              "  </thead>\n",
              "  <tbody>\n",
              "    <tr>\n",
              "      <th>0</th>\n",
              "      <td>0</td>\n",
              "      <td>3</td>\n",
              "      <td>0.0</td>\n",
              "      <td>22.0</td>\n",
              "      <td>1</td>\n",
              "      <td>0</td>\n",
              "      <td>7.2500</td>\n",
              "      <td>0.0</td>\n",
              "    </tr>\n",
              "    <tr>\n",
              "      <th>1</th>\n",
              "      <td>1</td>\n",
              "      <td>1</td>\n",
              "      <td>1.0</td>\n",
              "      <td>38.0</td>\n",
              "      <td>1</td>\n",
              "      <td>0</td>\n",
              "      <td>71.2833</td>\n",
              "      <td>1.0</td>\n",
              "    </tr>\n",
              "    <tr>\n",
              "      <th>2</th>\n",
              "      <td>1</td>\n",
              "      <td>3</td>\n",
              "      <td>1.0</td>\n",
              "      <td>26.0</td>\n",
              "      <td>0</td>\n",
              "      <td>0</td>\n",
              "      <td>7.9250</td>\n",
              "      <td>0.0</td>\n",
              "    </tr>\n",
              "    <tr>\n",
              "      <th>3</th>\n",
              "      <td>1</td>\n",
              "      <td>1</td>\n",
              "      <td>1.0</td>\n",
              "      <td>35.0</td>\n",
              "      <td>1</td>\n",
              "      <td>0</td>\n",
              "      <td>53.1000</td>\n",
              "      <td>0.0</td>\n",
              "    </tr>\n",
              "    <tr>\n",
              "      <th>4</th>\n",
              "      <td>0</td>\n",
              "      <td>3</td>\n",
              "      <td>0.0</td>\n",
              "      <td>35.0</td>\n",
              "      <td>0</td>\n",
              "      <td>0</td>\n",
              "      <td>8.0500</td>\n",
              "      <td>0.0</td>\n",
              "    </tr>\n",
              "  </tbody>\n",
              "</table>\n",
              "</div>"
            ],
            "text/plain": [
              "   Survived  Pclass  Sex   Age  SibSp  Parch     Fare Embarked\n",
              "0         0       3  0.0  22.0      1      0   7.2500      0.0\n",
              "1         1       1  1.0  38.0      1      0  71.2833      1.0\n",
              "2         1       3  1.0  26.0      0      0   7.9250      0.0\n",
              "3         1       1  1.0  35.0      1      0  53.1000      0.0\n",
              "4         0       3  0.0  35.0      0      0   8.0500      0.0"
            ]
          },
          "execution_count": 682,
          "metadata": {},
          "output_type": "execute_result"
        }
      ],
      "source": [
        "#Remove cabin column\n",
        "df_2nd_test = df.drop(columns=['Cabin'], inplace=False)\n",
        "\n",
        "# Remove name column\n",
        "df_2nd_test = df_2nd_test.drop(columns=['Name'], inplace=False)\n",
        "\n",
        "# Remove ticket column (Acho que não é útil mas tem que ver)\n",
        "df_2nd_test = df_2nd_test.drop(columns=['Ticket'], inplace=False)\n",
        "\n",
        "# Remove id column\n",
        "df_2nd_test = df_2nd_test.drop(columns=['PassengerId'], inplace=False)\n",
        "\n",
        "df_2nd_test['Age'].fillna(int(np.mean(df_2nd_test['Age'])), inplace=True)\n",
        "\n",
        "df_2nd_test = df_2nd_test.dropna()\n",
        "\n",
        "# Turn sex into number\n",
        "gender_mapping = {'male': '0.0', 'female': '1.0'}\n",
        "df_2nd_test['Sex'] = df_2nd_test['Sex'].map(gender_mapping)\n",
        "\n",
        "# Turn Embarked into number\n",
        "embarked_mapping = {'S': '0.0', 'C': '1.0', 'Q': '2.0',}\n",
        "df_2nd_test['Embarked'] = df_2nd_test['Embarked'].map(embarked_mapping)\n",
        "\n",
        "df_2nd_test.head()"
      ]
    },
    {
      "cell_type": "markdown",
      "metadata": {},
      "source": [
        "Garantindo que não há nenhum NaN no dataframe:"
      ]
    },
    {
      "cell_type": "code",
      "execution_count": 683,
      "metadata": {},
      "outputs": [
        {
          "data": {
            "text/plain": [
              "Survived    0\n",
              "Pclass      0\n",
              "Sex         0\n",
              "Age         0\n",
              "SibSp       0\n",
              "Parch       0\n",
              "Fare        0\n",
              "Embarked    0\n",
              "dtype: int64"
            ]
          },
          "execution_count": 683,
          "metadata": {},
          "output_type": "execute_result"
        }
      ],
      "source": [
        "df_2nd_test.isnull().sum()"
      ]
    },
    {
      "cell_type": "code",
      "execution_count": 684,
      "metadata": {},
      "outputs": [
        {
          "name": "stdout",
          "output_type": "stream",
          "text": [
            "Accuracy: 0.797752808988764\n"
          ]
        }
      ],
      "source": [
        "# Separate  train and test\n",
        "x = df_2nd_test.drop(columns=['Survived'], inplace=False)\n",
        "y = df_2nd_test['Survived']\n",
        "\n",
        "# Create a Decision Tree Classifier\n",
        "clf = DecisionTreeClassifier(random_state=42)\n",
        "\n",
        "# Split the dataset into training and testing sets\n",
        "x_train, x_test, y_train, y_test = train_test_split(x, y, test_size=0.3, random_state=42)\n",
        "\n",
        "# Train the classifier on the training data\n",
        "clf.fit(x_train, y_train)\n",
        "\n",
        "# Make predictions on the testing data\n",
        "y_pred = clf.predict(x_test)\n",
        "\n",
        "# Calculate the accuracy of the model\n",
        "accuracy = accuracy_score(y_test, y_pred)\n",
        "print(\"Accuracy:\", accuracy)"
      ]
    },
    {
      "cell_type": "markdown",
      "metadata": {},
      "source": [
        "## Último tratamento nos dados"
      ]
    },
    {
      "cell_type": "code",
      "execution_count": 685,
      "metadata": {
        "colab": {
          "base_uri": "https://localhost:8080/",
          "height": 206
        },
        "id": "Uklm7syIqIdH",
        "outputId": "0b536a5c-1e17-4ca8-898b-4024814640f5"
      },
      "outputs": [
        {
          "data": {
            "text/html": [
              "<div>\n",
              "<style scoped>\n",
              "    .dataframe tbody tr th:only-of-type {\n",
              "        vertical-align: middle;\n",
              "    }\n",
              "\n",
              "    .dataframe tbody tr th {\n",
              "        vertical-align: top;\n",
              "    }\n",
              "\n",
              "    .dataframe thead th {\n",
              "        text-align: right;\n",
              "    }\n",
              "</style>\n",
              "<table border=\"1\" class=\"dataframe\">\n",
              "  <thead>\n",
              "    <tr style=\"text-align: right;\">\n",
              "      <th></th>\n",
              "      <th>PassengerId</th>\n",
              "      <th>Survived</th>\n",
              "      <th>Pclass</th>\n",
              "      <th>Name</th>\n",
              "      <th>Sex</th>\n",
              "      <th>Age</th>\n",
              "      <th>SibSp</th>\n",
              "      <th>Parch</th>\n",
              "      <th>Ticket</th>\n",
              "      <th>Fare</th>\n",
              "      <th>Cabin</th>\n",
              "      <th>Embarked</th>\n",
              "    </tr>\n",
              "  </thead>\n",
              "  <tbody>\n",
              "    <tr>\n",
              "      <th>0</th>\n",
              "      <td>1</td>\n",
              "      <td>0</td>\n",
              "      <td>3</td>\n",
              "      <td>Braund, Mr. Owen Harris</td>\n",
              "      <td>male</td>\n",
              "      <td>22.0</td>\n",
              "      <td>1</td>\n",
              "      <td>0</td>\n",
              "      <td>A/5 21171</td>\n",
              "      <td>7.2500</td>\n",
              "      <td>NaN</td>\n",
              "      <td>S</td>\n",
              "    </tr>\n",
              "    <tr>\n",
              "      <th>1</th>\n",
              "      <td>2</td>\n",
              "      <td>1</td>\n",
              "      <td>1</td>\n",
              "      <td>Cumings, Mrs. John Bradley (Florence Briggs Th...</td>\n",
              "      <td>female</td>\n",
              "      <td>38.0</td>\n",
              "      <td>1</td>\n",
              "      <td>0</td>\n",
              "      <td>PC 17599</td>\n",
              "      <td>71.2833</td>\n",
              "      <td>C85</td>\n",
              "      <td>C</td>\n",
              "    </tr>\n",
              "    <tr>\n",
              "      <th>2</th>\n",
              "      <td>3</td>\n",
              "      <td>1</td>\n",
              "      <td>3</td>\n",
              "      <td>Heikkinen, Miss. Laina</td>\n",
              "      <td>female</td>\n",
              "      <td>26.0</td>\n",
              "      <td>0</td>\n",
              "      <td>0</td>\n",
              "      <td>STON/O2. 3101282</td>\n",
              "      <td>7.9250</td>\n",
              "      <td>NaN</td>\n",
              "      <td>S</td>\n",
              "    </tr>\n",
              "    <tr>\n",
              "      <th>3</th>\n",
              "      <td>4</td>\n",
              "      <td>1</td>\n",
              "      <td>1</td>\n",
              "      <td>Futrelle, Mrs. Jacques Heath (Lily May Peel)</td>\n",
              "      <td>female</td>\n",
              "      <td>35.0</td>\n",
              "      <td>1</td>\n",
              "      <td>0</td>\n",
              "      <td>113803</td>\n",
              "      <td>53.1000</td>\n",
              "      <td>C123</td>\n",
              "      <td>S</td>\n",
              "    </tr>\n",
              "    <tr>\n",
              "      <th>4</th>\n",
              "      <td>5</td>\n",
              "      <td>0</td>\n",
              "      <td>3</td>\n",
              "      <td>Allen, Mr. William Henry</td>\n",
              "      <td>male</td>\n",
              "      <td>35.0</td>\n",
              "      <td>0</td>\n",
              "      <td>0</td>\n",
              "      <td>373450</td>\n",
              "      <td>8.0500</td>\n",
              "      <td>NaN</td>\n",
              "      <td>S</td>\n",
              "    </tr>\n",
              "  </tbody>\n",
              "</table>\n",
              "</div>"
            ],
            "text/plain": [
              "   PassengerId  Survived  Pclass  \\\n",
              "0            1         0       3   \n",
              "1            2         1       1   \n",
              "2            3         1       3   \n",
              "3            4         1       1   \n",
              "4            5         0       3   \n",
              "\n",
              "                                                Name     Sex   Age  SibSp  \\\n",
              "0                            Braund, Mr. Owen Harris    male  22.0      1   \n",
              "1  Cumings, Mrs. John Bradley (Florence Briggs Th...  female  38.0      1   \n",
              "2                             Heikkinen, Miss. Laina  female  26.0      0   \n",
              "3       Futrelle, Mrs. Jacques Heath (Lily May Peel)  female  35.0      1   \n",
              "4                           Allen, Mr. William Henry    male  35.0      0   \n",
              "\n",
              "   Parch            Ticket     Fare Cabin Embarked  \n",
              "0      0         A/5 21171   7.2500   NaN        S  \n",
              "1      0          PC 17599  71.2833   C85        C  \n",
              "2      0  STON/O2. 3101282   7.9250   NaN        S  \n",
              "3      0            113803  53.1000  C123        S  \n",
              "4      0            373450   8.0500   NaN        S  "
            ]
          },
          "execution_count": 685,
          "metadata": {},
          "output_type": "execute_result"
        }
      ],
      "source": [
        "# Load the dataset\n",
        "df = pd.read_csv('./train.csv')\n",
        "\n",
        "df.head()"
      ]
    },
    {
      "cell_type": "code",
      "execution_count": 686,
      "metadata": {
        "colab": {
          "base_uri": "https://localhost:8080/"
        },
        "id": "5_bTJUfrqK4Z",
        "outputId": "f1a00787-50ec-4985-9945-78df490a7d51"
      },
      "outputs": [
        {
          "data": {
            "text/plain": [
              "0    549\n",
              "1    342\n",
              "Name: Survived, dtype: int64"
            ]
          },
          "execution_count": 686,
          "metadata": {},
          "output_type": "execute_result"
        }
      ],
      "source": [
        "df['Survived'].value_counts()"
      ]
    },
    {
      "cell_type": "code",
      "execution_count": 687,
      "metadata": {
        "colab": {
          "base_uri": "https://localhost:8080/"
        },
        "id": "GvxW4cc_tO5u",
        "outputId": "30e01e35-340a-4e43-9e0c-d51074406b5a"
      },
      "outputs": [
        {
          "data": {
            "text/plain": [
              "PassengerId      0\n",
              "Survived         0\n",
              "Pclass           0\n",
              "Name             0\n",
              "Sex              0\n",
              "Age            177\n",
              "SibSp            0\n",
              "Parch            0\n",
              "Ticket           0\n",
              "Fare             0\n",
              "Cabin          687\n",
              "Embarked         2\n",
              "dtype: int64"
            ]
          },
          "execution_count": 687,
          "metadata": {},
          "output_type": "execute_result"
        }
      ],
      "source": [
        "df.isnull().sum()"
      ]
    },
    {
      "cell_type": "code",
      "execution_count": 688,
      "metadata": {
        "id": "QSV3NGwPuCuV"
      },
      "outputs": [],
      "source": [
        "def printRateSurviveByColumn(column):\n",
        "  print(df[[column, 'Survived']].groupby(column).mean().sort_values(by='Survived', ascending=False))"
      ]
    },
    {
      "cell_type": "code",
      "execution_count": 689,
      "metadata": {
        "colab": {
          "base_uri": "https://localhost:8080/"
        },
        "id": "kwlwguaEulQE",
        "outputId": "4d3a8d6d-a8e2-4ca6-bfdb-1514cd19bc8a"
      },
      "outputs": [
        {
          "name": "stdout",
          "output_type": "stream",
          "text": [
            "Survival Rate by Pclass:\n",
            "        Survived\n",
            "Pclass          \n",
            "1       0.629630\n",
            "2       0.472826\n",
            "3       0.242363\n",
            "\n",
            "Survival Rate by Sex:\n",
            "        Survived\n",
            "Sex             \n",
            "female  0.742038\n",
            "male    0.188908\n",
            "\n",
            "Survival Rate by Embarked:\n",
            "          Survived\n",
            "Embarked          \n",
            "C         0.553571\n",
            "Q         0.389610\n",
            "S         0.336957\n",
            "\n"
          ]
        }
      ],
      "source": [
        "for column in df.columns:\n",
        "    if df[column].nunique() < 5 and column != 'Survived':\n",
        "        print(f\"Survival Rate by {column}:\")\n",
        "        printRateSurviveByColumn(column)\n",
        "        print()"
      ]
    },
    {
      "cell_type": "code",
      "execution_count": 690,
      "metadata": {},
      "outputs": [],
      "source": [
        "df_3rd_test = pd.read_csv('./train.csv')"
      ]
    },
    {
      "cell_type": "code",
      "execution_count": 691,
      "metadata": {},
      "outputs": [
        {
          "data": {
            "text/html": [
              "<div>\n",
              "<style scoped>\n",
              "    .dataframe tbody tr th:only-of-type {\n",
              "        vertical-align: middle;\n",
              "    }\n",
              "\n",
              "    .dataframe tbody tr th {\n",
              "        vertical-align: top;\n",
              "    }\n",
              "\n",
              "    .dataframe thead th {\n",
              "        text-align: right;\n",
              "    }\n",
              "</style>\n",
              "<table border=\"1\" class=\"dataframe\">\n",
              "  <thead>\n",
              "    <tr style=\"text-align: right;\">\n",
              "      <th></th>\n",
              "      <th>Survived</th>\n",
              "      <th>Pclass</th>\n",
              "      <th>Name</th>\n",
              "      <th>Sex</th>\n",
              "      <th>Age</th>\n",
              "      <th>SibSp</th>\n",
              "      <th>Parch</th>\n",
              "      <th>Fare</th>\n",
              "      <th>Embarked</th>\n",
              "    </tr>\n",
              "  </thead>\n",
              "  <tbody>\n",
              "    <tr>\n",
              "      <th>0</th>\n",
              "      <td>0</td>\n",
              "      <td>3</td>\n",
              "      <td>Braund, Mr. Owen Harris</td>\n",
              "      <td>male</td>\n",
              "      <td>22.0</td>\n",
              "      <td>1</td>\n",
              "      <td>0</td>\n",
              "      <td>7.2500</td>\n",
              "      <td>S</td>\n",
              "    </tr>\n",
              "    <tr>\n",
              "      <th>1</th>\n",
              "      <td>1</td>\n",
              "      <td>1</td>\n",
              "      <td>Cumings, Mrs. John Bradley (Florence Briggs Th...</td>\n",
              "      <td>female</td>\n",
              "      <td>38.0</td>\n",
              "      <td>1</td>\n",
              "      <td>0</td>\n",
              "      <td>71.2833</td>\n",
              "      <td>C</td>\n",
              "    </tr>\n",
              "    <tr>\n",
              "      <th>2</th>\n",
              "      <td>1</td>\n",
              "      <td>3</td>\n",
              "      <td>Heikkinen, Miss. Laina</td>\n",
              "      <td>female</td>\n",
              "      <td>26.0</td>\n",
              "      <td>0</td>\n",
              "      <td>0</td>\n",
              "      <td>7.9250</td>\n",
              "      <td>S</td>\n",
              "    </tr>\n",
              "    <tr>\n",
              "      <th>3</th>\n",
              "      <td>1</td>\n",
              "      <td>1</td>\n",
              "      <td>Futrelle, Mrs. Jacques Heath (Lily May Peel)</td>\n",
              "      <td>female</td>\n",
              "      <td>35.0</td>\n",
              "      <td>1</td>\n",
              "      <td>0</td>\n",
              "      <td>53.1000</td>\n",
              "      <td>S</td>\n",
              "    </tr>\n",
              "    <tr>\n",
              "      <th>4</th>\n",
              "      <td>0</td>\n",
              "      <td>3</td>\n",
              "      <td>Allen, Mr. William Henry</td>\n",
              "      <td>male</td>\n",
              "      <td>35.0</td>\n",
              "      <td>0</td>\n",
              "      <td>0</td>\n",
              "      <td>8.0500</td>\n",
              "      <td>S</td>\n",
              "    </tr>\n",
              "  </tbody>\n",
              "</table>\n",
              "</div>"
            ],
            "text/plain": [
              "   Survived  Pclass                                               Name  \\\n",
              "0         0       3                            Braund, Mr. Owen Harris   \n",
              "1         1       1  Cumings, Mrs. John Bradley (Florence Briggs Th...   \n",
              "2         1       3                             Heikkinen, Miss. Laina   \n",
              "3         1       1       Futrelle, Mrs. Jacques Heath (Lily May Peel)   \n",
              "4         0       3                           Allen, Mr. William Henry   \n",
              "\n",
              "      Sex   Age  SibSp  Parch     Fare Embarked  \n",
              "0    male  22.0      1      0   7.2500        S  \n",
              "1  female  38.0      1      0  71.2833        C  \n",
              "2  female  26.0      0      0   7.9250        S  \n",
              "3  female  35.0      1      0  53.1000        S  \n",
              "4    male  35.0      0      0   8.0500        S  "
            ]
          },
          "execution_count": 691,
          "metadata": {},
          "output_type": "execute_result"
        }
      ],
      "source": [
        "# Remove id column\n",
        "df_3rd_test = df_3rd_test.drop(columns=['PassengerId'], inplace=False)\n",
        "\n",
        "#Remove cabin column\n",
        "df_3rd_test = df_3rd_test.drop(columns=['Cabin'], inplace=False)\n",
        "\n",
        "# Remove ticket column (Acho que não é útil mas tem que ver)\n",
        "df_3rd_test = df_3rd_test.drop(columns=['Ticket'], inplace=False)\n",
        "\n",
        "df_3rd_test['Age'].fillna(int(np.mean(df_3rd_test['Age'])), inplace=True)\n",
        "\n",
        "df_3rd_test = df_3rd_test.dropna()\n",
        "\n",
        "df_3rd_test.head()"
      ]
    },
    {
      "cell_type": "code",
      "execution_count": 692,
      "metadata": {},
      "outputs": [],
      "source": [
        "df_3rd_test['Title'] = df_3rd_test['Name'].apply(lambda x: x.split(',')[1].split('.')[0].strip())\n",
        "df_3rd_test = df_3rd_test.drop(columns=['Name'], inplace=False)"
      ]
    },
    {
      "cell_type": "code",
      "execution_count": 693,
      "metadata": {},
      "outputs": [
        {
          "data": {
            "text/plain": [
              "Mr        525\n",
              "Miss      187\n",
              "Mrs       124\n",
              "Master     40\n",
              "Dr          7\n",
              "Rev         6\n",
              "Name: Title, dtype: int64"
            ]
          },
          "execution_count": 693,
          "metadata": {},
          "output_type": "execute_result"
        }
      ],
      "source": [
        "def replace_titles(title, gender, df):\n",
        "    if title in ['Mr', 'Miss'] or df['Title'].value_counts()[title] >= 5:\n",
        "        return title\n",
        "    elif gender == 'male':\n",
        "        return 'Mr'\n",
        "    elif gender == 'female':\n",
        "        return 'Miss'\n",
        "\n",
        "# Aplicar a substituição com base no gênero\n",
        "df_3rd_test['Title'] = df_3rd_test.apply(lambda row: replace_titles(row['Title'], row['Sex'], df_3rd_test), axis=1)\n",
        "\n",
        "# Verificar a contagem dos títulos após a substituição\n",
        "df_3rd_test['Title'].value_counts()"
      ]
    },
    {
      "cell_type": "code",
      "execution_count": 694,
      "metadata": {},
      "outputs": [],
      "source": [
        "colunas_categoricas = df_3rd_test.select_dtypes(include=['object', 'category']).columns\n",
        "\n",
        "df_3rd_test = pd.get_dummies(df_3rd_test, columns=colunas_categoricas)"
      ]
    },
    {
      "cell_type": "code",
      "execution_count": 695,
      "metadata": {},
      "outputs": [
        {
          "data": {
            "text/plain": [
              "{'ccp_alpha': 0.0,\n",
              " 'class_weight': None,\n",
              " 'criterion': 'gini',\n",
              " 'max_depth': None,\n",
              " 'max_features': None,\n",
              " 'max_leaf_nodes': None,\n",
              " 'min_impurity_decrease': 0.0,\n",
              " 'min_samples_leaf': 1,\n",
              " 'min_samples_split': 2,\n",
              " 'min_weight_fraction_leaf': 0.0,\n",
              " 'random_state': None,\n",
              " 'splitter': 'best'}"
            ]
          },
          "execution_count": 695,
          "metadata": {},
          "output_type": "execute_result"
        }
      ],
      "source": [
        "# Separate  train and test\n",
        "x = df_3rd_test.drop(columns=['Survived'], inplace=False)\n",
        "y = df_3rd_test['Survived']\n",
        "\n",
        "# Create a Decision Tree Classifier\n",
        "clf = DecisionTreeClassifier()\n",
        "\n",
        "# Split the dataset into training and testing sets\n",
        "x_train, x_test, y_train, y_test = train_test_split(x, y, test_size=0.3, random_state=42)\n",
        "\n",
        "\n",
        "clf.get_params()"
      ]
    },
    {
      "cell_type": "code",
      "execution_count": 696,
      "metadata": {},
      "outputs": [
        {
          "name": "stdout",
          "output_type": "stream",
          "text": [
            "Accuracy: 0.7677902621722846\n"
          ]
        }
      ],
      "source": [
        "# Train the classifier on the training data\n",
        "clf.fit(x_train, y_train)\n",
        "\n",
        "# Make predictions on the testing data\n",
        "y_pred = clf.predict(x_test)\n",
        "\n",
        "# Calculate the accuracy of the model\n",
        "accuracy = accuracy_score(y_test, y_pred)\n",
        "print(\"Accuracy:\", accuracy)"
      ]
    },
    {
      "cell_type": "markdown",
      "metadata": {},
      "source": [
        "## Variando os parâmetros da árvore de decisão"
      ]
    },
    {
      "cell_type": "code",
      "execution_count": 697,
      "metadata": {},
      "outputs": [],
      "source": [
        "def plot_scores(labels, scores, str):\n",
        "  color_palette = sns.color_palette(\"cool\", len(labels))\n",
        "\n",
        "  sns.barplot(x=labels, y=scores, palette=color_palette)\n",
        "  plt.xlabel(str)\n",
        "  plt.ylabel(\"Score\")\n",
        "  plt.title(f\"{str} X Score\")\n",
        "  plt.ylim(min(scores) - 0.05, min(max(scores) + 0.05, 1))\n",
        "  plt.xticks(rotation=45)\n",
        "  plt.show()"
      ]
    },
    {
      "cell_type": "code",
      "execution_count": 698,
      "metadata": {},
      "outputs": [
        {
          "data": {
            "image/png": "[encoded data removed]",
            "text/plain": [
              "<Figure size 640x480 with 1 Axes>"
            ]
          },
          "metadata": {},
          "output_type": "display_data"
        }
      ],
      "source": [
        "max_depths = [1, 2, 3, 4, 5, 6, 7, 8, 9, 10, 20, 30]\n",
        "scores = []\n",
        "\n",
        "for depth in max_depths:\n",
        "  clf = DecisionTreeClassifier(max_depth=depth, random_state=42)\n",
        "  clf.fit(x_train, y_train)\n",
        "  scores.append(clf.score(x_test, y_test))\n",
        "\n",
        "plot_scores(max_depths, scores, \"max_depth\")"
      ]
    },
    {
      "cell_type": "code",
      "execution_count": 699,
      "metadata": {},
      "outputs": [
        {
          "data": {
            "image/png": "[encoded data removed]",
            "text/plain": [
              "<Figure size 640x480 with 1 Axes>"
            ]
          },
          "metadata": {},
          "output_type": "display_data"
        }
      ],
      "source": [
        "criterions = ['gini', 'entropy', 'log_loss']\n",
        "scores = []\n",
        "\n",
        "for criterion in criterions:\n",
        "  clf = DecisionTreeClassifier(criterion=criterion, random_state=42)\n",
        "  clf.fit(x_train, y_train)\n",
        "  scores.append(clf.score(x_test, y_test))\n",
        "\n",
        "plot_scores(criterions, scores, \"Criterions\")"
      ]
    },
    {
      "cell_type": "code",
      "execution_count": 700,
      "metadata": {},
      "outputs": [
        {
          "data": {
            "image/png": "[encoded data removed]",
            "text/plain": [
              "<Figure size 640x480 with 1 Axes>"
            ]
          },
          "metadata": {},
          "output_type": "display_data"
        }
      ],
      "source": [
        "splitters = ['best', 'random']\n",
        "scores = []\n",
        "\n",
        "for splitter in splitters:\n",
        "  clf = DecisionTreeClassifier(splitter=splitter, random_state=42)\n",
        "  clf.fit(x_train, y_train)\n",
        "  scores.append(clf.score(x_test, y_test))\n",
        "\n",
        "plot_scores(splitters, scores, \"Splitters\")"
      ]
    },
    {
      "cell_type": "code",
      "execution_count": 701,
      "metadata": {},
      "outputs": [
        {
          "data": {
            "image/png": "[encoded data removed]",
            "text/plain": [
              "<Figure size 640x480 with 1 Axes>"
            ]
          },
          "metadata": {},
          "output_type": "display_data"
        }
      ],
      "source": [
        "min_samples_split = [0.5,2,3,4,5,6,7]\n",
        "scores = []\n",
        "\n",
        "for min_sample in min_samples_split:\n",
        "  clf = DecisionTreeClassifier(min_samples_split=min_sample, random_state=42)\n",
        "  clf.fit(x_train, y_train)\n",
        "  scores.append(clf.score(x_test, y_test))\n",
        "\n",
        "plot_scores(min_samples_split, scores, \"min_samples_split\")"
      ]
    },
    {
      "cell_type": "code",
      "execution_count": 702,
      "metadata": {},
      "outputs": [
        {
          "data": {
            "image/png": "[encoded data removed]",
            "text/plain": [
              "<Figure size 640x480 with 1 Axes>"
            ]
          },
          "metadata": {},
          "output_type": "display_data"
        }
      ],
      "source": [
        "min_samples_leaf = [0.5,1,2,3,4,5,6,7,10]\n",
        "scores = []\n",
        "\n",
        "for min_sample in min_samples_leaf:\n",
        "  clf = DecisionTreeClassifier(min_samples_leaf=min_sample, random_state=42)\n",
        "  clf.fit(x_train, y_train)\n",
        "  scores.append(clf.score(x_test, y_test))\n",
        "\n",
        "plot_scores(min_samples_leaf, scores, \"min_samples_leaf\")"
      ]
    },
    {
      "cell_type": "code",
      "execution_count": 703,
      "metadata": {},
      "outputs": [
        {
          "data": {
            "image/png": "[encoded data removed]",
            "text/plain": [
              "<Figure size 640x480 with 1 Axes>"
            ]
          },
          "metadata": {},
          "output_type": "display_data"
        }
      ],
      "source": [
        "min_weight_fraction_leaf = [0.0,0.1,0.2,0.3,0.4,0.5]\n",
        "scores = []\n",
        "\n",
        "for min_weight in min_weight_fraction_leaf:\n",
        "  clf = DecisionTreeClassifier(min_weight_fraction_leaf=min_weight, random_state=42)\n",
        "  clf.fit(x_train, y_train)\n",
        "  scores.append(clf.score(x_test, y_test))\n",
        "\n",
        "plot_scores(min_weight_fraction_leaf, scores, \"min_samples_leaf\")"
      ]
    },
    {
      "cell_type": "code",
      "execution_count": 704,
      "metadata": {},
      "outputs": [
        {
          "data": {
            "image/png": "[encoded data removed]",
            "text/plain": [
              "<Figure size 640x480 with 1 Axes>"
            ]
          },
          "metadata": {},
          "output_type": "display_data"
        }
      ],
      "source": [
        "max_leaf_nodes = [2,3,4,5,6,7,8,9,10,20,30,40,100,1000]\n",
        "scores = []\n",
        "\n",
        "for max_leaf_node in max_leaf_nodes:\n",
        "  clf = DecisionTreeClassifier(max_leaf_nodes=max_leaf_node, random_state=42)\n",
        "  clf.fit(x_train, y_train)\n",
        "  scores.append(clf.score(x_test, y_test))\n",
        "\n",
        "plot_scores(max_leaf_nodes, scores, \"max_leaf_nodes\")"
      ]
    },
    {
      "cell_type": "code",
      "execution_count": 705,
      "metadata": {},
      "outputs": [
        {
          "name": "stdout",
          "output_type": "stream",
          "text": [
            "Accuracy: 0.8052434456928839\n"
          ]
        }
      ],
      "source": [
        "clf = DecisionTreeClassifier(max_depth=4, min_samples_split=3, min_samples_leaf=6, max_leaf_nodes=8, random_state=42)\n",
        "# Train the classifier on the training data\n",
        "clf.fit(x_train, y_train)\n",
        "\n",
        "# Make predictions on the testing data\n",
        "y_pred = clf.predict(x_test)\n",
        "\n",
        "# Calculate the accuracy of the model\n",
        "accuracy = accuracy_score(y_test, y_pred)\n",
        "print(\"Accuracy:\", accuracy)"
      ]
    }
  ],
  "metadata": {
    "colab": {
      "provenance": []
    },
    "kernelspec": {
      "display_name": "Python 3",
      "name": "python3"
    },
    "language_info": {
      "codemirror_mode": {
        "name": "ipython",
        "version": 3
      },
      "file_extension": ".py",
      "mimetype": "text/x-python",
      "name": "python",
      "nbconvert_exporter": "python",
      "pygments_lexer": "ipython3",
      "version": "3.11.4"
    }
  },
  "nbformat": 4,
  "nbformat_minor": 0
}
